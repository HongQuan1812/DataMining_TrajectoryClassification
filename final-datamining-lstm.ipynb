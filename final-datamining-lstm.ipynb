{
 "cells": [
  {
   "cell_type": "markdown",
   "id": "1e547069",
   "metadata": {
    "papermill": {
     "duration": 0.012866,
     "end_time": "2024-06-01T05:48:27.575355",
     "exception": false,
     "start_time": "2024-06-01T05:48:27.562489",
     "status": "completed"
    },
    "tags": []
   },
   "source": [
    "# Data"
   ]
  },
  {
   "cell_type": "code",
   "execution_count": 1,
   "id": "3ab8b369",
   "metadata": {
    "execution": {
     "iopub.execute_input": "2024-06-01T05:48:27.602202Z",
     "iopub.status.busy": "2024-06-01T05:48:27.601569Z",
     "iopub.status.idle": "2024-06-01T05:48:36.166462Z",
     "shell.execute_reply": "2024-06-01T05:48:36.165700Z"
    },
    "papermill": {
     "duration": 8.580562,
     "end_time": "2024-06-01T05:48:36.168751",
     "exception": false,
     "start_time": "2024-06-01T05:48:27.588189",
     "status": "completed"
    },
    "tags": []
   },
   "outputs": [],
   "source": [
    "import numpy as np\n",
    "import pandas as pd\n",
    "import torch\n",
    "from torch import nn\n",
    "import torchmetrics\n",
    "import matplotlib.pyplot as plt\n",
    "import math"
   ]
  },
  {
   "cell_type": "code",
   "execution_count": 2,
   "id": "9113d0e7",
   "metadata": {
    "execution": {
     "iopub.execute_input": "2024-06-01T05:48:36.195168Z",
     "iopub.status.busy": "2024-06-01T05:48:36.194776Z",
     "iopub.status.idle": "2024-06-01T05:48:36.250534Z",
     "shell.execute_reply": "2024-06-01T05:48:36.249671Z"
    },
    "papermill": {
     "duration": 0.071045,
     "end_time": "2024-06-01T05:48:36.252523",
     "exception": false,
     "start_time": "2024-06-01T05:48:36.181478",
     "status": "completed"
    },
    "tags": []
   },
   "outputs": [
    {
     "data": {
      "text/plain": [
       "'cuda'"
      ]
     },
     "execution_count": 2,
     "metadata": {},
     "output_type": "execute_result"
    }
   ],
   "source": [
    "device = \"mps\" if torch.backends.mps.is_available() \\\n",
    "    else \"cuda\" if torch.cuda.is_available() else \"cpu\"\n",
    "device"
   ]
  },
  {
   "cell_type": "code",
   "execution_count": 3,
   "id": "d156d88d",
   "metadata": {
    "execution": {
     "iopub.execute_input": "2024-06-01T05:48:36.279578Z",
     "iopub.status.busy": "2024-06-01T05:48:36.279322Z",
     "iopub.status.idle": "2024-06-01T05:48:50.931876Z",
     "shell.execute_reply": "2024-06-01T05:48:50.930882Z"
    },
    "papermill": {
     "duration": 14.668972,
     "end_time": "2024-06-01T05:48:50.934126",
     "exception": false,
     "start_time": "2024-06-01T05:48:36.265154",
     "status": "completed"
    },
    "tags": []
   },
   "outputs": [
    {
     "data": {
      "text/html": [
       "<div>\n",
       "<style scoped>\n",
       "    .dataframe tbody tr th:only-of-type {\n",
       "        vertical-align: middle;\n",
       "    }\n",
       "\n",
       "    .dataframe tbody tr th {\n",
       "        vertical-align: top;\n",
       "    }\n",
       "\n",
       "    .dataframe thead th {\n",
       "        text-align: right;\n",
       "    }\n",
       "</style>\n",
       "<table border=\"1\" class=\"dataframe\">\n",
       "  <thead>\n",
       "    <tr style=\"text-align: right;\">\n",
       "      <th></th>\n",
       "      <th>lat</th>\n",
       "      <th>lon</th>\n",
       "      <th>alt</th>\n",
       "      <th>time</th>\n",
       "      <th>label</th>\n",
       "      <th>tid</th>\n",
       "      <th>time_diff</th>\n",
       "      <th>partition</th>\n",
       "      <th>distance</th>\n",
       "      <th>speed</th>\n",
       "      <th>acceleration</th>\n",
       "      <th>bearing</th>\n",
       "      <th>pitch</th>\n",
       "      <th>user</th>\n",
       "    </tr>\n",
       "  </thead>\n",
       "  <tbody>\n",
       "    <tr>\n",
       "      <th>0</th>\n",
       "      <td>31.445176</td>\n",
       "      <td>91.989489</td>\n",
       "      <td>4522.9272</td>\n",
       "      <td>2008-10-01 05:58:52</td>\n",
       "      <td>0</td>\n",
       "      <td>010_101</td>\n",
       "      <td>0.0</td>\n",
       "      <td>010_101_0</td>\n",
       "      <td>0.000000</td>\n",
       "      <td>0.000000</td>\n",
       "      <td>0.000000</td>\n",
       "      <td>0.000000</td>\n",
       "      <td>0.0</td>\n",
       "      <td>10</td>\n",
       "    </tr>\n",
       "    <tr>\n",
       "      <th>1</th>\n",
       "      <td>31.445176</td>\n",
       "      <td>91.989506</td>\n",
       "      <td>4522.9272</td>\n",
       "      <td>2008-10-01 05:58:53</td>\n",
       "      <td>0</td>\n",
       "      <td>010_101</td>\n",
       "      <td>1.0</td>\n",
       "      <td>010_101_0</td>\n",
       "      <td>1.612702</td>\n",
       "      <td>1.612702</td>\n",
       "      <td>1.612702</td>\n",
       "      <td>89.999996</td>\n",
       "      <td>0.0</td>\n",
       "      <td>10</td>\n",
       "    </tr>\n",
       "    <tr>\n",
       "      <th>2</th>\n",
       "      <td>31.445183</td>\n",
       "      <td>91.989559</td>\n",
       "      <td>4522.9272</td>\n",
       "      <td>2008-10-01 05:58:54</td>\n",
       "      <td>0</td>\n",
       "      <td>010_101</td>\n",
       "      <td>1.0</td>\n",
       "      <td>010_101_0</td>\n",
       "      <td>5.087728</td>\n",
       "      <td>5.087728</td>\n",
       "      <td>3.475026</td>\n",
       "      <td>81.199824</td>\n",
       "      <td>0.0</td>\n",
       "      <td>10</td>\n",
       "    </tr>\n",
       "    <tr>\n",
       "      <th>3</th>\n",
       "      <td>31.445186</td>\n",
       "      <td>91.989575</td>\n",
       "      <td>4522.9272</td>\n",
       "      <td>2008-10-01 05:58:55</td>\n",
       "      <td>0</td>\n",
       "      <td>010_101</td>\n",
       "      <td>1.0</td>\n",
       "      <td>010_101_0</td>\n",
       "      <td>1.554062</td>\n",
       "      <td>1.554062</td>\n",
       "      <td>-3.533666</td>\n",
       "      <td>77.604795</td>\n",
       "      <td>0.0</td>\n",
       "      <td>10</td>\n",
       "    </tr>\n",
       "    <tr>\n",
       "      <th>4</th>\n",
       "      <td>31.445196</td>\n",
       "      <td>91.989609</td>\n",
       "      <td>4522.9272</td>\n",
       "      <td>2008-10-01 05:58:56</td>\n",
       "      <td>0</td>\n",
       "      <td>010_101</td>\n",
       "      <td>1.0</td>\n",
       "      <td>010_101_0</td>\n",
       "      <td>3.411694</td>\n",
       "      <td>3.411694</td>\n",
       "      <td>1.857632</td>\n",
       "      <td>70.978492</td>\n",
       "      <td>0.0</td>\n",
       "      <td>10</td>\n",
       "    </tr>\n",
       "    <tr>\n",
       "      <th>...</th>\n",
       "      <td>...</td>\n",
       "      <td>...</td>\n",
       "      <td>...</td>\n",
       "      <td>...</td>\n",
       "      <td>...</td>\n",
       "      <td>...</td>\n",
       "      <td>...</td>\n",
       "      <td>...</td>\n",
       "      <td>...</td>\n",
       "      <td>...</td>\n",
       "      <td>...</td>\n",
       "      <td>...</td>\n",
       "      <td>...</td>\n",
       "      <td>...</td>\n",
       "    </tr>\n",
       "    <tr>\n",
       "      <th>3842192</th>\n",
       "      <td>39.991445</td>\n",
       "      <td>116.327465</td>\n",
       "      <td>279.5016</td>\n",
       "      <td>2008-08-21 10:25:42</td>\n",
       "      <td>0</td>\n",
       "      <td>179_9</td>\n",
       "      <td>2.0</td>\n",
       "      <td>179_9_1</td>\n",
       "      <td>0.000000</td>\n",
       "      <td>0.000000</td>\n",
       "      <td>0.000000</td>\n",
       "      <td>0.000000</td>\n",
       "      <td>0.0</td>\n",
       "      <td>179</td>\n",
       "    </tr>\n",
       "    <tr>\n",
       "      <th>3842193</th>\n",
       "      <td>39.991445</td>\n",
       "      <td>116.327465</td>\n",
       "      <td>279.5016</td>\n",
       "      <td>2008-08-21 10:25:44</td>\n",
       "      <td>0</td>\n",
       "      <td>179_9</td>\n",
       "      <td>2.0</td>\n",
       "      <td>179_9_1</td>\n",
       "      <td>0.000000</td>\n",
       "      <td>0.000000</td>\n",
       "      <td>0.000000</td>\n",
       "      <td>0.000000</td>\n",
       "      <td>0.0</td>\n",
       "      <td>179</td>\n",
       "    </tr>\n",
       "    <tr>\n",
       "      <th>3842194</th>\n",
       "      <td>39.991445</td>\n",
       "      <td>116.327465</td>\n",
       "      <td>279.5016</td>\n",
       "      <td>2008-08-21 10:25:46</td>\n",
       "      <td>0</td>\n",
       "      <td>179_9</td>\n",
       "      <td>2.0</td>\n",
       "      <td>179_9_1</td>\n",
       "      <td>0.000000</td>\n",
       "      <td>0.000000</td>\n",
       "      <td>0.000000</td>\n",
       "      <td>0.000000</td>\n",
       "      <td>0.0</td>\n",
       "      <td>179</td>\n",
       "    </tr>\n",
       "    <tr>\n",
       "      <th>3842195</th>\n",
       "      <td>39.991445</td>\n",
       "      <td>116.327465</td>\n",
       "      <td>279.5016</td>\n",
       "      <td>2008-08-21 10:25:48</td>\n",
       "      <td>0</td>\n",
       "      <td>179_9</td>\n",
       "      <td>2.0</td>\n",
       "      <td>179_9_1</td>\n",
       "      <td>0.000000</td>\n",
       "      <td>0.000000</td>\n",
       "      <td>0.000000</td>\n",
       "      <td>0.000000</td>\n",
       "      <td>0.0</td>\n",
       "      <td>179</td>\n",
       "    </tr>\n",
       "    <tr>\n",
       "      <th>3842196</th>\n",
       "      <td>39.991445</td>\n",
       "      <td>116.327465</td>\n",
       "      <td>279.5016</td>\n",
       "      <td>2008-08-21 10:25:50</td>\n",
       "      <td>0</td>\n",
       "      <td>179_9</td>\n",
       "      <td>2.0</td>\n",
       "      <td>179_9_1</td>\n",
       "      <td>0.000000</td>\n",
       "      <td>0.000000</td>\n",
       "      <td>0.000000</td>\n",
       "      <td>0.000000</td>\n",
       "      <td>0.0</td>\n",
       "      <td>179</td>\n",
       "    </tr>\n",
       "  </tbody>\n",
       "</table>\n",
       "<p>3842197 rows × 14 columns</p>\n",
       "</div>"
      ],
      "text/plain": [
       "               lat         lon        alt                 time  label  \\\n",
       "0        31.445176   91.989489  4522.9272  2008-10-01 05:58:52      0   \n",
       "1        31.445176   91.989506  4522.9272  2008-10-01 05:58:53      0   \n",
       "2        31.445183   91.989559  4522.9272  2008-10-01 05:58:54      0   \n",
       "3        31.445186   91.989575  4522.9272  2008-10-01 05:58:55      0   \n",
       "4        31.445196   91.989609  4522.9272  2008-10-01 05:58:56      0   \n",
       "...            ...         ...        ...                  ...    ...   \n",
       "3842192  39.991445  116.327465   279.5016  2008-08-21 10:25:42      0   \n",
       "3842193  39.991445  116.327465   279.5016  2008-08-21 10:25:44      0   \n",
       "3842194  39.991445  116.327465   279.5016  2008-08-21 10:25:46      0   \n",
       "3842195  39.991445  116.327465   279.5016  2008-08-21 10:25:48      0   \n",
       "3842196  39.991445  116.327465   279.5016  2008-08-21 10:25:50      0   \n",
       "\n",
       "             tid  time_diff  partition  distance     speed  acceleration  \\\n",
       "0        010_101        0.0  010_101_0  0.000000  0.000000      0.000000   \n",
       "1        010_101        1.0  010_101_0  1.612702  1.612702      1.612702   \n",
       "2        010_101        1.0  010_101_0  5.087728  5.087728      3.475026   \n",
       "3        010_101        1.0  010_101_0  1.554062  1.554062     -3.533666   \n",
       "4        010_101        1.0  010_101_0  3.411694  3.411694      1.857632   \n",
       "...          ...        ...        ...       ...       ...           ...   \n",
       "3842192    179_9        2.0    179_9_1  0.000000  0.000000      0.000000   \n",
       "3842193    179_9        2.0    179_9_1  0.000000  0.000000      0.000000   \n",
       "3842194    179_9        2.0    179_9_1  0.000000  0.000000      0.000000   \n",
       "3842195    179_9        2.0    179_9_1  0.000000  0.000000      0.000000   \n",
       "3842196    179_9        2.0    179_9_1  0.000000  0.000000      0.000000   \n",
       "\n",
       "           bearing  pitch  user  \n",
       "0         0.000000    0.0    10  \n",
       "1        89.999996    0.0    10  \n",
       "2        81.199824    0.0    10  \n",
       "3        77.604795    0.0    10  \n",
       "4        70.978492    0.0    10  \n",
       "...            ...    ...   ...  \n",
       "3842192   0.000000    0.0   179  \n",
       "3842193   0.000000    0.0   179  \n",
       "3842194   0.000000    0.0   179  \n",
       "3842195   0.000000    0.0   179  \n",
       "3842196   0.000000    0.0   179  \n",
       "\n",
       "[3842197 rows x 14 columns]"
      ]
     },
     "execution_count": 3,
     "metadata": {},
     "output_type": "execute_result"
    }
   ],
   "source": [
    "train_df = pd.read_csv(\"/kaggle/input/geolife-data/geolife_train_filtered_df.csv\")\n",
    "train_df"
   ]
  },
  {
   "cell_type": "code",
   "execution_count": 4,
   "id": "e941ccb5",
   "metadata": {
    "execution": {
     "iopub.execute_input": "2024-06-01T05:48:50.961738Z",
     "iopub.status.busy": "2024-06-01T05:48:50.961454Z",
     "iopub.status.idle": "2024-06-01T05:48:52.333952Z",
     "shell.execute_reply": "2024-06-01T05:48:52.333021Z"
    },
    "papermill": {
     "duration": 1.38855,
     "end_time": "2024-06-01T05:48:52.336203",
     "exception": false,
     "start_time": "2024-06-01T05:48:50.947653",
     "status": "completed"
    },
    "tags": []
   },
   "outputs": [
    {
     "data": {
      "text/html": [
       "<div>\n",
       "<style scoped>\n",
       "    .dataframe tbody tr th:only-of-type {\n",
       "        vertical-align: middle;\n",
       "    }\n",
       "\n",
       "    .dataframe tbody tr th {\n",
       "        vertical-align: top;\n",
       "    }\n",
       "\n",
       "    .dataframe thead th {\n",
       "        text-align: right;\n",
       "    }\n",
       "</style>\n",
       "<table border=\"1\" class=\"dataframe\">\n",
       "  <thead>\n",
       "    <tr style=\"text-align: right;\">\n",
       "      <th></th>\n",
       "      <th>lat</th>\n",
       "      <th>lon</th>\n",
       "      <th>alt</th>\n",
       "      <th>label</th>\n",
       "      <th>time_diff</th>\n",
       "      <th>distance</th>\n",
       "      <th>speed</th>\n",
       "      <th>acceleration</th>\n",
       "      <th>bearing</th>\n",
       "      <th>pitch</th>\n",
       "      <th>user</th>\n",
       "    </tr>\n",
       "  </thead>\n",
       "  <tbody>\n",
       "    <tr>\n",
       "      <th>count</th>\n",
       "      <td>3.842197e+06</td>\n",
       "      <td>3.842197e+06</td>\n",
       "      <td>3.842197e+06</td>\n",
       "      <td>3.842197e+06</td>\n",
       "      <td>3.842197e+06</td>\n",
       "      <td>3.842197e+06</td>\n",
       "      <td>3.842197e+06</td>\n",
       "      <td>3.842197e+06</td>\n",
       "      <td>3.842197e+06</td>\n",
       "      <td>3.842197e+06</td>\n",
       "      <td>3.842197e+06</td>\n",
       "    </tr>\n",
       "    <tr>\n",
       "      <th>mean</th>\n",
       "      <td>3.941447e+01</td>\n",
       "      <td>1.142104e+02</td>\n",
       "      <td>2.032968e+02</td>\n",
       "      <td>2.214221e+00</td>\n",
       "      <td>2.615864e+00</td>\n",
       "      <td>1.798334e+01</td>\n",
       "      <td>6.675804e+00</td>\n",
       "      <td>3.582380e-02</td>\n",
       "      <td>1.488702e+02</td>\n",
       "      <td>1.970889e-01</td>\n",
       "      <td>9.388907e+01</td>\n",
       "    </tr>\n",
       "    <tr>\n",
       "      <th>std</th>\n",
       "      <td>2.518458e+00</td>\n",
       "      <td>1.652060e+01</td>\n",
       "      <td>7.856326e+02</td>\n",
       "      <td>2.334011e+00</td>\n",
       "      <td>4.719534e+00</td>\n",
       "      <td>9.489784e+01</td>\n",
       "      <td>1.200350e+01</td>\n",
       "      <td>3.066234e+00</td>\n",
       "      <td>1.138552e+02</td>\n",
       "      <td>1.598713e+01</td>\n",
       "      <td>4.946566e+01</td>\n",
       "    </tr>\n",
       "    <tr>\n",
       "      <th>min</th>\n",
       "      <td>1.824990e+01</td>\n",
       "      <td>-1.796300e+02</td>\n",
       "      <td>-7.010004e+03</td>\n",
       "      <td>0.000000e+00</td>\n",
       "      <td>0.000000e+00</td>\n",
       "      <td>0.000000e+00</td>\n",
       "      <td>0.000000e+00</td>\n",
       "      <td>-2.056666e+03</td>\n",
       "      <td>0.000000e+00</td>\n",
       "      <td>-9.000000e+01</td>\n",
       "      <td>1.000000e+01</td>\n",
       "    </tr>\n",
       "    <tr>\n",
       "      <th>25%</th>\n",
       "      <td>3.991403e+01</td>\n",
       "      <td>1.163106e+02</td>\n",
       "      <td>3.962400e+00</td>\n",
       "      <td>0.000000e+00</td>\n",
       "      <td>1.000000e+00</td>\n",
       "      <td>1.023449e+00</td>\n",
       "      <td>5.402249e-01</td>\n",
       "      <td>-1.773618e-01</td>\n",
       "      <td>3.746198e+01</td>\n",
       "      <td>0.000000e+00</td>\n",
       "      <td>6.500000e+01</td>\n",
       "    </tr>\n",
       "    <tr>\n",
       "      <th>50%</th>\n",
       "      <td>3.997474e+01</td>\n",
       "      <td>1.163381e+02</td>\n",
       "      <td>4.200144e+01</td>\n",
       "      <td>2.000000e+00</td>\n",
       "      <td>2.000000e+00</td>\n",
       "      <td>4.356457e+00</td>\n",
       "      <td>2.194165e+00</td>\n",
       "      <td>0.000000e+00</td>\n",
       "      <td>1.641874e+02</td>\n",
       "      <td>0.000000e+00</td>\n",
       "      <td>8.500000e+01</td>\n",
       "    </tr>\n",
       "    <tr>\n",
       "      <th>75%</th>\n",
       "      <td>3.999145e+01</td>\n",
       "      <td>1.164187e+02</td>\n",
       "      <td>6.199632e+01</td>\n",
       "      <td>3.000000e+00</td>\n",
       "      <td>2.000000e+00</td>\n",
       "      <td>1.601595e+01</td>\n",
       "      <td>9.062487e+00</td>\n",
       "      <td>1.853249e-01</td>\n",
       "      <td>2.656108e+02</td>\n",
       "      <td>0.000000e+00</td>\n",
       "      <td>1.280000e+02</td>\n",
       "    </tr>\n",
       "    <tr>\n",
       "      <th>max</th>\n",
       "      <td>5.876032e+01</td>\n",
       "      <td>1.796656e+02</td>\n",
       "      <td>1.583799e+04</td>\n",
       "      <td>1.000000e+01</td>\n",
       "      <td>1.200000e+02</td>\n",
       "      <td>2.515899e+04</td>\n",
       "      <td>4.113401e+03</td>\n",
       "      <td>4.113047e+03</td>\n",
       "      <td>3.599916e+02</td>\n",
       "      <td>9.000000e+01</td>\n",
       "      <td>1.790000e+02</td>\n",
       "    </tr>\n",
       "  </tbody>\n",
       "</table>\n",
       "</div>"
      ],
      "text/plain": [
       "                lat           lon           alt         label     time_diff  \\\n",
       "count  3.842197e+06  3.842197e+06  3.842197e+06  3.842197e+06  3.842197e+06   \n",
       "mean   3.941447e+01  1.142104e+02  2.032968e+02  2.214221e+00  2.615864e+00   \n",
       "std    2.518458e+00  1.652060e+01  7.856326e+02  2.334011e+00  4.719534e+00   \n",
       "min    1.824990e+01 -1.796300e+02 -7.010004e+03  0.000000e+00  0.000000e+00   \n",
       "25%    3.991403e+01  1.163106e+02  3.962400e+00  0.000000e+00  1.000000e+00   \n",
       "50%    3.997474e+01  1.163381e+02  4.200144e+01  2.000000e+00  2.000000e+00   \n",
       "75%    3.999145e+01  1.164187e+02  6.199632e+01  3.000000e+00  2.000000e+00   \n",
       "max    5.876032e+01  1.796656e+02  1.583799e+04  1.000000e+01  1.200000e+02   \n",
       "\n",
       "           distance         speed  acceleration       bearing         pitch  \\\n",
       "count  3.842197e+06  3.842197e+06  3.842197e+06  3.842197e+06  3.842197e+06   \n",
       "mean   1.798334e+01  6.675804e+00  3.582380e-02  1.488702e+02  1.970889e-01   \n",
       "std    9.489784e+01  1.200350e+01  3.066234e+00  1.138552e+02  1.598713e+01   \n",
       "min    0.000000e+00  0.000000e+00 -2.056666e+03  0.000000e+00 -9.000000e+01   \n",
       "25%    1.023449e+00  5.402249e-01 -1.773618e-01  3.746198e+01  0.000000e+00   \n",
       "50%    4.356457e+00  2.194165e+00  0.000000e+00  1.641874e+02  0.000000e+00   \n",
       "75%    1.601595e+01  9.062487e+00  1.853249e-01  2.656108e+02  0.000000e+00   \n",
       "max    2.515899e+04  4.113401e+03  4.113047e+03  3.599916e+02  9.000000e+01   \n",
       "\n",
       "               user  \n",
       "count  3.842197e+06  \n",
       "mean   9.388907e+01  \n",
       "std    4.946566e+01  \n",
       "min    1.000000e+01  \n",
       "25%    6.500000e+01  \n",
       "50%    8.500000e+01  \n",
       "75%    1.280000e+02  \n",
       "max    1.790000e+02  "
      ]
     },
     "execution_count": 4,
     "metadata": {},
     "output_type": "execute_result"
    }
   ],
   "source": [
    "train_df.describe()"
   ]
  },
  {
   "cell_type": "code",
   "execution_count": 5,
   "id": "592903e4",
   "metadata": {
    "execution": {
     "iopub.execute_input": "2024-06-01T05:48:52.364540Z",
     "iopub.status.busy": "2024-06-01T05:48:52.364260Z",
     "iopub.status.idle": "2024-06-01T05:48:55.609520Z",
     "shell.execute_reply": "2024-06-01T05:48:55.608570Z"
    },
    "papermill": {
     "duration": 3.261486,
     "end_time": "2024-06-01T05:48:55.611508",
     "exception": false,
     "start_time": "2024-06-01T05:48:52.350022",
     "status": "completed"
    },
    "tags": []
   },
   "outputs": [
    {
     "data": {
      "image/png": "[encoded data removed]",
      "text/plain": [
       "<Figure size 640x480 with 12 Axes>"
      ]
     },
     "metadata": {},
     "output_type": "display_data"
    }
   ],
   "source": [
    "train_df.hist()\n",
    "plt.tight_layout()"
   ]
  },
  {
   "cell_type": "code",
   "execution_count": 6,
   "id": "b463c14b",
   "metadata": {
    "execution": {
     "iopub.execute_input": "2024-06-01T05:48:55.640941Z",
     "iopub.status.busy": "2024-06-01T05:48:55.640384Z",
     "iopub.status.idle": "2024-06-01T05:48:59.329817Z",
     "shell.execute_reply": "2024-06-01T05:48:59.328912Z"
    },
    "papermill": {
     "duration": 3.706389,
     "end_time": "2024-06-01T05:48:59.331928",
     "exception": false,
     "start_time": "2024-06-01T05:48:55.625539",
     "status": "completed"
    },
    "tags": []
   },
   "outputs": [
    {
     "data": {
      "text/html": [
       "<div>\n",
       "<style scoped>\n",
       "    .dataframe tbody tr th:only-of-type {\n",
       "        vertical-align: middle;\n",
       "    }\n",
       "\n",
       "    .dataframe tbody tr th {\n",
       "        vertical-align: top;\n",
       "    }\n",
       "\n",
       "    .dataframe thead th {\n",
       "        text-align: right;\n",
       "    }\n",
       "</style>\n",
       "<table border=\"1\" class=\"dataframe\">\n",
       "  <thead>\n",
       "    <tr style=\"text-align: right;\">\n",
       "      <th></th>\n",
       "      <th>lat</th>\n",
       "      <th>lon</th>\n",
       "      <th>alt</th>\n",
       "      <th>time</th>\n",
       "      <th>label</th>\n",
       "      <th>tid</th>\n",
       "      <th>time_diff</th>\n",
       "      <th>partition</th>\n",
       "      <th>distance</th>\n",
       "      <th>speed</th>\n",
       "      <th>acceleration</th>\n",
       "      <th>bearing</th>\n",
       "      <th>pitch</th>\n",
       "      <th>user</th>\n",
       "    </tr>\n",
       "  </thead>\n",
       "  <tbody>\n",
       "    <tr>\n",
       "      <th>0</th>\n",
       "      <td>31.445261</td>\n",
       "      <td>91.989716</td>\n",
       "      <td>4518.9648</td>\n",
       "      <td>2008-10-01 05:53:47</td>\n",
       "      <td>0</td>\n",
       "      <td>010_100</td>\n",
       "      <td>0.0</td>\n",
       "      <td>010_100_0</td>\n",
       "      <td>0.000000</td>\n",
       "      <td>0.000000</td>\n",
       "      <td>0.000000</td>\n",
       "      <td>0.000000</td>\n",
       "      <td>0.000000</td>\n",
       "      <td>10</td>\n",
       "    </tr>\n",
       "    <tr>\n",
       "      <th>1</th>\n",
       "      <td>31.445261</td>\n",
       "      <td>91.989716</td>\n",
       "      <td>4518.9648</td>\n",
       "      <td>2008-10-01 05:53:48</td>\n",
       "      <td>0</td>\n",
       "      <td>010_100</td>\n",
       "      <td>1.0</td>\n",
       "      <td>010_100_0</td>\n",
       "      <td>0.000000</td>\n",
       "      <td>0.000000</td>\n",
       "      <td>0.000000</td>\n",
       "      <td>0.000000</td>\n",
       "      <td>0.000000</td>\n",
       "      <td>10</td>\n",
       "    </tr>\n",
       "    <tr>\n",
       "      <th>2</th>\n",
       "      <td>31.445261</td>\n",
       "      <td>91.989716</td>\n",
       "      <td>4518.9648</td>\n",
       "      <td>2008-10-01 05:53:49</td>\n",
       "      <td>0</td>\n",
       "      <td>010_100</td>\n",
       "      <td>1.0</td>\n",
       "      <td>010_100_0</td>\n",
       "      <td>0.000000</td>\n",
       "      <td>0.000000</td>\n",
       "      <td>0.000000</td>\n",
       "      <td>0.000000</td>\n",
       "      <td>0.000000</td>\n",
       "      <td>10</td>\n",
       "    </tr>\n",
       "    <tr>\n",
       "      <th>3</th>\n",
       "      <td>31.445261</td>\n",
       "      <td>91.989716</td>\n",
       "      <td>4519.8792</td>\n",
       "      <td>2008-10-01 05:53:50</td>\n",
       "      <td>0</td>\n",
       "      <td>010_100</td>\n",
       "      <td>1.0</td>\n",
       "      <td>010_100_0</td>\n",
       "      <td>0.914400</td>\n",
       "      <td>0.914400</td>\n",
       "      <td>0.914400</td>\n",
       "      <td>0.000000</td>\n",
       "      <td>90.000000</td>\n",
       "      <td>10</td>\n",
       "    </tr>\n",
       "    <tr>\n",
       "      <th>4</th>\n",
       "      <td>31.445261</td>\n",
       "      <td>91.989716</td>\n",
       "      <td>4519.8792</td>\n",
       "      <td>2008-10-01 05:53:52</td>\n",
       "      <td>0</td>\n",
       "      <td>010_100</td>\n",
       "      <td>2.0</td>\n",
       "      <td>010_100_0</td>\n",
       "      <td>0.000000</td>\n",
       "      <td>0.000000</td>\n",
       "      <td>-0.457200</td>\n",
       "      <td>0.000000</td>\n",
       "      <td>0.000000</td>\n",
       "      <td>10</td>\n",
       "    </tr>\n",
       "    <tr>\n",
       "      <th>...</th>\n",
       "      <td>...</td>\n",
       "      <td>...</td>\n",
       "      <td>...</td>\n",
       "      <td>...</td>\n",
       "      <td>...</td>\n",
       "      <td>...</td>\n",
       "      <td>...</td>\n",
       "      <td>...</td>\n",
       "      <td>...</td>\n",
       "      <td>...</td>\n",
       "      <td>...</td>\n",
       "      <td>...</td>\n",
       "      <td>...</td>\n",
       "      <td>...</td>\n",
       "    </tr>\n",
       "    <tr>\n",
       "      <th>959588</th>\n",
       "      <td>39.994419</td>\n",
       "      <td>116.325336</td>\n",
       "      <td>80.1624</td>\n",
       "      <td>2008-09-08 05:34:25</td>\n",
       "      <td>0</td>\n",
       "      <td>179_99</td>\n",
       "      <td>2.0</td>\n",
       "      <td>179_99_3</td>\n",
       "      <td>8.144494</td>\n",
       "      <td>4.072247</td>\n",
       "      <td>1.827095</td>\n",
       "      <td>244.094490</td>\n",
       "      <td>0.000000</td>\n",
       "      <td>179</td>\n",
       "    </tr>\n",
       "    <tr>\n",
       "      <th>959589</th>\n",
       "      <td>39.994389</td>\n",
       "      <td>116.325263</td>\n",
       "      <td>80.1624</td>\n",
       "      <td>2008-09-08 05:34:27</td>\n",
       "      <td>0</td>\n",
       "      <td>179_99</td>\n",
       "      <td>2.0</td>\n",
       "      <td>179_99_3</td>\n",
       "      <td>7.056891</td>\n",
       "      <td>3.528446</td>\n",
       "      <td>-0.271901</td>\n",
       "      <td>241.789812</td>\n",
       "      <td>0.000000</td>\n",
       "      <td>179</td>\n",
       "    </tr>\n",
       "    <tr>\n",
       "      <th>959590</th>\n",
       "      <td>39.994374</td>\n",
       "      <td>116.325201</td>\n",
       "      <td>80.1624</td>\n",
       "      <td>2008-09-08 05:34:29</td>\n",
       "      <td>0</td>\n",
       "      <td>179_99</td>\n",
       "      <td>2.0</td>\n",
       "      <td>179_99_3</td>\n",
       "      <td>5.538716</td>\n",
       "      <td>2.769358</td>\n",
       "      <td>-0.379544</td>\n",
       "      <td>252.473989</td>\n",
       "      <td>0.000000</td>\n",
       "      <td>179</td>\n",
       "    </tr>\n",
       "    <tr>\n",
       "      <th>959591</th>\n",
       "      <td>39.994372</td>\n",
       "      <td>116.325168</td>\n",
       "      <td>80.1624</td>\n",
       "      <td>2008-09-08 05:34:31</td>\n",
       "      <td>0</td>\n",
       "      <td>179_99</td>\n",
       "      <td>2.0</td>\n",
       "      <td>179_99_3</td>\n",
       "      <td>2.819963</td>\n",
       "      <td>1.409981</td>\n",
       "      <td>-0.679688</td>\n",
       "      <td>265.476815</td>\n",
       "      <td>0.000000</td>\n",
       "      <td>179</td>\n",
       "    </tr>\n",
       "    <tr>\n",
       "      <th>959592</th>\n",
       "      <td>39.994372</td>\n",
       "      <td>116.325139</td>\n",
       "      <td>79.8576</td>\n",
       "      <td>2008-09-08 05:34:33</td>\n",
       "      <td>0</td>\n",
       "      <td>179_99</td>\n",
       "      <td>2.0</td>\n",
       "      <td>179_99_3</td>\n",
       "      <td>2.489163</td>\n",
       "      <td>1.244581</td>\n",
       "      <td>-0.082700</td>\n",
       "      <td>270.000009</td>\n",
       "      <td>-7.033566</td>\n",
       "      <td>179</td>\n",
       "    </tr>\n",
       "  </tbody>\n",
       "</table>\n",
       "<p>959593 rows × 14 columns</p>\n",
       "</div>"
      ],
      "text/plain": [
       "              lat         lon        alt                 time  label      tid  \\\n",
       "0       31.445261   91.989716  4518.9648  2008-10-01 05:53:47      0  010_100   \n",
       "1       31.445261   91.989716  4518.9648  2008-10-01 05:53:48      0  010_100   \n",
       "2       31.445261   91.989716  4518.9648  2008-10-01 05:53:49      0  010_100   \n",
       "3       31.445261   91.989716  4519.8792  2008-10-01 05:53:50      0  010_100   \n",
       "4       31.445261   91.989716  4519.8792  2008-10-01 05:53:52      0  010_100   \n",
       "...           ...         ...        ...                  ...    ...      ...   \n",
       "959588  39.994419  116.325336    80.1624  2008-09-08 05:34:25      0   179_99   \n",
       "959589  39.994389  116.325263    80.1624  2008-09-08 05:34:27      0   179_99   \n",
       "959590  39.994374  116.325201    80.1624  2008-09-08 05:34:29      0   179_99   \n",
       "959591  39.994372  116.325168    80.1624  2008-09-08 05:34:31      0   179_99   \n",
       "959592  39.994372  116.325139    79.8576  2008-09-08 05:34:33      0   179_99   \n",
       "\n",
       "        time_diff  partition  distance     speed  acceleration     bearing  \\\n",
       "0             0.0  010_100_0  0.000000  0.000000      0.000000    0.000000   \n",
       "1             1.0  010_100_0  0.000000  0.000000      0.000000    0.000000   \n",
       "2             1.0  010_100_0  0.000000  0.000000      0.000000    0.000000   \n",
       "3             1.0  010_100_0  0.914400  0.914400      0.914400    0.000000   \n",
       "4             2.0  010_100_0  0.000000  0.000000     -0.457200    0.000000   \n",
       "...           ...        ...       ...       ...           ...         ...   \n",
       "959588        2.0   179_99_3  8.144494  4.072247      1.827095  244.094490   \n",
       "959589        2.0   179_99_3  7.056891  3.528446     -0.271901  241.789812   \n",
       "959590        2.0   179_99_3  5.538716  2.769358     -0.379544  252.473989   \n",
       "959591        2.0   179_99_3  2.819963  1.409981     -0.679688  265.476815   \n",
       "959592        2.0   179_99_3  2.489163  1.244581     -0.082700  270.000009   \n",
       "\n",
       "            pitch  user  \n",
       "0        0.000000    10  \n",
       "1        0.000000    10  \n",
       "2        0.000000    10  \n",
       "3       90.000000    10  \n",
       "4        0.000000    10  \n",
       "...           ...   ...  \n",
       "959588   0.000000   179  \n",
       "959589   0.000000   179  \n",
       "959590   0.000000   179  \n",
       "959591   0.000000   179  \n",
       "959592  -7.033566   179  \n",
       "\n",
       "[959593 rows x 14 columns]"
      ]
     },
     "execution_count": 6,
     "metadata": {},
     "output_type": "execute_result"
    }
   ],
   "source": [
    "test_df = pd.read_csv(\"/kaggle/input/geolife-data/geolife_test_filtered_df.csv\")\n",
    "test_df"
   ]
  },
  {
   "cell_type": "code",
   "execution_count": 7,
   "id": "d5de7b26",
   "metadata": {
    "execution": {
     "iopub.execute_input": "2024-06-01T05:48:59.362440Z",
     "iopub.status.busy": "2024-06-01T05:48:59.362140Z",
     "iopub.status.idle": "2024-06-01T05:48:59.633612Z",
     "shell.execute_reply": "2024-06-01T05:48:59.632674Z"
    },
    "papermill": {
     "duration": 0.288971,
     "end_time": "2024-06-01T05:48:59.635833",
     "exception": false,
     "start_time": "2024-06-01T05:48:59.346862",
     "status": "completed"
    },
    "tags": []
   },
   "outputs": [
    {
     "data": {
      "text/html": [
       "<div>\n",
       "<style scoped>\n",
       "    .dataframe tbody tr th:only-of-type {\n",
       "        vertical-align: middle;\n",
       "    }\n",
       "\n",
       "    .dataframe tbody tr th {\n",
       "        vertical-align: top;\n",
       "    }\n",
       "\n",
       "    .dataframe thead th {\n",
       "        text-align: right;\n",
       "    }\n",
       "</style>\n",
       "<table border=\"1\" class=\"dataframe\">\n",
       "  <thead>\n",
       "    <tr style=\"text-align: right;\">\n",
       "      <th></th>\n",
       "      <th>lat</th>\n",
       "      <th>lon</th>\n",
       "      <th>alt</th>\n",
       "      <th>label</th>\n",
       "      <th>time_diff</th>\n",
       "      <th>distance</th>\n",
       "      <th>speed</th>\n",
       "      <th>acceleration</th>\n",
       "      <th>bearing</th>\n",
       "      <th>pitch</th>\n",
       "      <th>user</th>\n",
       "    </tr>\n",
       "  </thead>\n",
       "  <tbody>\n",
       "    <tr>\n",
       "      <th>count</th>\n",
       "      <td>959593.000000</td>\n",
       "      <td>959593.000000</td>\n",
       "      <td>959593.000000</td>\n",
       "      <td>959593.000000</td>\n",
       "      <td>959593.000000</td>\n",
       "      <td>959593.000000</td>\n",
       "      <td>959593.000000</td>\n",
       "      <td>959593.000000</td>\n",
       "      <td>959593.000000</td>\n",
       "      <td>959593.000000</td>\n",
       "      <td>959593.000000</td>\n",
       "    </tr>\n",
       "    <tr>\n",
       "      <th>mean</th>\n",
       "      <td>39.393988</td>\n",
       "      <td>114.601910</td>\n",
       "      <td>191.335325</td>\n",
       "      <td>2.188035</td>\n",
       "      <td>2.599460</td>\n",
       "      <td>16.304968</td>\n",
       "      <td>6.568493</td>\n",
       "      <td>0.035089</td>\n",
       "      <td>148.941512</td>\n",
       "      <td>0.272792</td>\n",
       "      <td>94.254330</td>\n",
       "    </tr>\n",
       "    <tr>\n",
       "      <th>std</th>\n",
       "      <td>2.411951</td>\n",
       "      <td>14.132974</td>\n",
       "      <td>730.862741</td>\n",
       "      <td>2.294542</td>\n",
       "      <td>4.611341</td>\n",
       "      <td>69.903692</td>\n",
       "      <td>10.596005</td>\n",
       "      <td>1.896243</td>\n",
       "      <td>114.006007</td>\n",
       "      <td>16.055305</td>\n",
       "      <td>49.232252</td>\n",
       "    </tr>\n",
       "    <tr>\n",
       "      <th>min</th>\n",
       "      <td>18.250557</td>\n",
       "      <td>-168.184927</td>\n",
       "      <td>-6458.986320</td>\n",
       "      <td>0.000000</td>\n",
       "      <td>0.000000</td>\n",
       "      <td>0.000000</td>\n",
       "      <td>0.000000</td>\n",
       "      <td>-432.439569</td>\n",
       "      <td>0.000000</td>\n",
       "      <td>-90.000000</td>\n",
       "      <td>10.000000</td>\n",
       "    </tr>\n",
       "    <tr>\n",
       "      <th>25%</th>\n",
       "      <td>39.911952</td>\n",
       "      <td>116.311132</td>\n",
       "      <td>6.096000</td>\n",
       "      <td>0.000000</td>\n",
       "      <td>1.000000</td>\n",
       "      <td>1.000754</td>\n",
       "      <td>0.511204</td>\n",
       "      <td>-0.176844</td>\n",
       "      <td>36.490524</td>\n",
       "      <td>0.000000</td>\n",
       "      <td>67.000000</td>\n",
       "    </tr>\n",
       "    <tr>\n",
       "      <th>50%</th>\n",
       "      <td>39.974627</td>\n",
       "      <td>116.339182</td>\n",
       "      <td>42.062400</td>\n",
       "      <td>2.000000</td>\n",
       "      <td>2.000000</td>\n",
       "      <td>4.226266</td>\n",
       "      <td>2.091501</td>\n",
       "      <td>0.000000</td>\n",
       "      <td>164.937457</td>\n",
       "      <td>0.000000</td>\n",
       "      <td>85.000000</td>\n",
       "    </tr>\n",
       "    <tr>\n",
       "      <th>75%</th>\n",
       "      <td>39.991600</td>\n",
       "      <td>116.418897</td>\n",
       "      <td>62.179200</td>\n",
       "      <td>3.000000</td>\n",
       "      <td>2.000000</td>\n",
       "      <td>15.903796</td>\n",
       "      <td>8.848339</td>\n",
       "      <td>0.185325</td>\n",
       "      <td>265.740046</td>\n",
       "      <td>0.000000</td>\n",
       "      <td>128.000000</td>\n",
       "    </tr>\n",
       "    <tr>\n",
       "      <th>max</th>\n",
       "      <td>58.657223</td>\n",
       "      <td>126.997961</td>\n",
       "      <td>15837.011760</td>\n",
       "      <td>10.000000</td>\n",
       "      <td>120.000000</td>\n",
       "      <td>17449.193621</td>\n",
       "      <td>2162.197843</td>\n",
       "      <td>717.059772</td>\n",
       "      <td>359.976139</td>\n",
       "      <td>90.000000</td>\n",
       "      <td>179.000000</td>\n",
       "    </tr>\n",
       "  </tbody>\n",
       "</table>\n",
       "</div>"
      ],
      "text/plain": [
       "                 lat            lon            alt          label  \\\n",
       "count  959593.000000  959593.000000  959593.000000  959593.000000   \n",
       "mean       39.393988     114.601910     191.335325       2.188035   \n",
       "std         2.411951      14.132974     730.862741       2.294542   \n",
       "min        18.250557    -168.184927   -6458.986320       0.000000   \n",
       "25%        39.911952     116.311132       6.096000       0.000000   \n",
       "50%        39.974627     116.339182      42.062400       2.000000   \n",
       "75%        39.991600     116.418897      62.179200       3.000000   \n",
       "max        58.657223     126.997961   15837.011760      10.000000   \n",
       "\n",
       "           time_diff       distance          speed   acceleration  \\\n",
       "count  959593.000000  959593.000000  959593.000000  959593.000000   \n",
       "mean        2.599460      16.304968       6.568493       0.035089   \n",
       "std         4.611341      69.903692      10.596005       1.896243   \n",
       "min         0.000000       0.000000       0.000000    -432.439569   \n",
       "25%         1.000000       1.000754       0.511204      -0.176844   \n",
       "50%         2.000000       4.226266       2.091501       0.000000   \n",
       "75%         2.000000      15.903796       8.848339       0.185325   \n",
       "max       120.000000   17449.193621    2162.197843     717.059772   \n",
       "\n",
       "             bearing          pitch           user  \n",
       "count  959593.000000  959593.000000  959593.000000  \n",
       "mean      148.941512       0.272792      94.254330  \n",
       "std       114.006007      16.055305      49.232252  \n",
       "min         0.000000     -90.000000      10.000000  \n",
       "25%        36.490524       0.000000      67.000000  \n",
       "50%       164.937457       0.000000      85.000000  \n",
       "75%       265.740046       0.000000     128.000000  \n",
       "max       359.976139      90.000000     179.000000  "
      ]
     },
     "execution_count": 7,
     "metadata": {},
     "output_type": "execute_result"
    }
   ],
   "source": [
    "test_df.describe()"
   ]
  },
  {
   "cell_type": "code",
   "execution_count": 8,
   "id": "311b3319",
   "metadata": {
    "execution": {
     "iopub.execute_input": "2024-06-01T05:48:59.666430Z",
     "iopub.status.busy": "2024-06-01T05:48:59.666130Z",
     "iopub.status.idle": "2024-06-01T05:49:01.649848Z",
     "shell.execute_reply": "2024-06-01T05:49:01.648902Z"
    },
    "papermill": {
     "duration": 2.001387,
     "end_time": "2024-06-01T05:49:01.652089",
     "exception": false,
     "start_time": "2024-06-01T05:48:59.650702",
     "status": "completed"
    },
    "tags": []
   },
   "outputs": [
    {
     "data": {
      "image/png": "[encoded data removed]",
      "text/plain": [
       "<Figure size 640x480 with 12 Axes>"
      ]
     },
     "metadata": {},
     "output_type": "display_data"
    }
   ],
   "source": [
    "test_df.hist()\n",
    "plt.tight_layout()"
   ]
  },
  {
   "cell_type": "markdown",
   "id": "4a73cc77",
   "metadata": {
    "papermill": {
     "duration": 0.014972,
     "end_time": "2024-06-01T05:49:01.682583",
     "exception": false,
     "start_time": "2024-06-01T05:49:01.667611",
     "status": "completed"
    },
    "tags": []
   },
   "source": [
    "# Make dataset"
   ]
  },
  {
   "cell_type": "code",
   "execution_count": 9,
   "id": "70ec0d97",
   "metadata": {
    "execution": {
     "iopub.execute_input": "2024-06-01T05:49:01.714011Z",
     "iopub.status.busy": "2024-06-01T05:49:01.713689Z",
     "iopub.status.idle": "2024-06-01T05:49:01.718092Z",
     "shell.execute_reply": "2024-06-01T05:49:01.717248Z"
    },
    "papermill": {
     "duration": 0.022296,
     "end_time": "2024-06-01T05:49:01.720040",
     "exception": false,
     "start_time": "2024-06-01T05:49:01.697744",
     "status": "completed"
    },
    "tags": []
   },
   "outputs": [],
   "source": [
    "# cols = ['lat', 'lon', 'alt', 'time_diff', 'distance', \n",
    "#         'speed', 'acceleration', 'bearing', 'pitch']\n",
    "\n",
    "cols = ['lat', 'lon', 'alt', 'time_diff', 'distance', 'speed', 'acceleration']"
   ]
  },
  {
   "cell_type": "code",
   "execution_count": 10,
   "id": "f15a9c31",
   "metadata": {
    "execution": {
     "iopub.execute_input": "2024-06-01T05:49:01.751215Z",
     "iopub.status.busy": "2024-06-01T05:49:01.750932Z",
     "iopub.status.idle": "2024-06-01T05:49:06.475096Z",
     "shell.execute_reply": "2024-06-01T05:49:06.474040Z"
    },
    "papermill": {
     "duration": 4.742534,
     "end_time": "2024-06-01T05:49:06.477565",
     "exception": false,
     "start_time": "2024-06-01T05:49:01.735031",
     "status": "completed"
    },
    "tags": []
   },
   "outputs": [],
   "source": [
    "train_df_partition = list(train_df.groupby('partition'))\n",
    "test_df_partition = list(test_df.groupby('partition'))"
   ]
  },
  {
   "cell_type": "code",
   "execution_count": 11,
   "id": "c951c25d",
   "metadata": {
    "execution": {
     "iopub.execute_input": "2024-06-01T05:49:06.509889Z",
     "iopub.status.busy": "2024-06-01T05:49:06.509187Z",
     "iopub.status.idle": "2024-06-01T05:49:06.517136Z",
     "shell.execute_reply": "2024-06-01T05:49:06.516216Z"
    },
    "papermill": {
     "duration": 0.025978,
     "end_time": "2024-06-01T05:49:06.519104",
     "exception": false,
     "start_time": "2024-06-01T05:49:06.493126",
     "status": "completed"
    },
    "tags": []
   },
   "outputs": [
    {
     "data": {
      "text/plain": [
       "((100, 7), (66, 7))"
      ]
     },
     "execution_count": 11,
     "metadata": {},
     "output_type": "execute_result"
    }
   ],
   "source": [
    "train_df_partition[0][1][cols].values.shape, test_df_partition[0][1][cols].values.shape"
   ]
  },
  {
   "cell_type": "code",
   "execution_count": 12,
   "id": "cfb994b6",
   "metadata": {
    "execution": {
     "iopub.execute_input": "2024-06-01T05:49:06.550802Z",
     "iopub.status.busy": "2024-06-01T05:49:06.550322Z",
     "iopub.status.idle": "2024-06-01T05:49:06.557833Z",
     "shell.execute_reply": "2024-06-01T05:49:06.557009Z"
    },
    "papermill": {
     "duration": 0.025331,
     "end_time": "2024-06-01T05:49:06.559783",
     "exception": false,
     "start_time": "2024-06-01T05:49:06.534452",
     "status": "completed"
    },
    "tags": []
   },
   "outputs": [],
   "source": [
    "# Write a custom dataset class (inherits from torch.utils.data.Dataset)\n",
    "from torch.utils.data import Dataset\n",
    "\n",
    "\n",
    "# 1. Subclass torch.utils.data.Dataset\n",
    "class DatasetCustom(Dataset):\n",
    "    \n",
    "    # 2. Initialize with a target_dir and transform (optional) parameter\n",
    "    def __init__(self, df, cols = None, label_y = 'label'):\n",
    "        self.df = df\n",
    "        self.cols = cols\n",
    "        self.label_y = label_y\n",
    "        \n",
    "    # 5. Overwrite the __len__() method (optional but recommended for subclasses of torch.utils.data.Dataset)\n",
    "    def __len__(self) -> int:\n",
    "        \"Returns the total number of samples.\"\n",
    "        return len(self.df)\n",
    "    \n",
    "    \n",
    "    # 6. Overwrite the __getitem__() method (required for subclasses of torch.utils.data.Dataset)\n",
    "    def __getitem__(self, index: int):\n",
    "        \"Returns one sample of data, data and label (X, y).\"\n",
    "        if self.cols != None:\n",
    "            X = self.df[index][1][cols].values\n",
    "        else:\n",
    "            X = self.df[index][1].values\n",
    "        \n",
    "        y = self.df[index][1][self.label_y].iloc[0]\n",
    "        \n",
    "        return torch.tensor(X).type(torch.float), torch.tensor(y)\n",
    "        "
   ]
  },
  {
   "cell_type": "code",
   "execution_count": 13,
   "id": "d476a7d4",
   "metadata": {
    "execution": {
     "iopub.execute_input": "2024-06-01T05:49:06.591262Z",
     "iopub.status.busy": "2024-06-01T05:49:06.590598Z",
     "iopub.status.idle": "2024-06-01T05:49:06.594763Z",
     "shell.execute_reply": "2024-06-01T05:49:06.593927Z"
    },
    "papermill": {
     "duration": 0.02181,
     "end_time": "2024-06-01T05:49:06.596609",
     "exception": false,
     "start_time": "2024-06-01T05:49:06.574799",
     "status": "completed"
    },
    "tags": []
   },
   "outputs": [],
   "source": [
    "train_dataset = DatasetCustom(df = train_df_partition, cols = cols)\n",
    "test_dataset = DatasetCustom(df = test_df_partition, cols = cols)"
   ]
  },
  {
   "cell_type": "code",
   "execution_count": 14,
   "id": "bef8fe22",
   "metadata": {
    "execution": {
     "iopub.execute_input": "2024-06-01T05:49:06.628051Z",
     "iopub.status.busy": "2024-06-01T05:49:06.627786Z",
     "iopub.status.idle": "2024-06-01T05:49:06.633172Z",
     "shell.execute_reply": "2024-06-01T05:49:06.632366Z"
    },
    "papermill": {
     "duration": 0.02321,
     "end_time": "2024-06-01T05:49:06.634966",
     "exception": false,
     "start_time": "2024-06-01T05:49:06.611756",
     "status": "completed"
    },
    "tags": []
   },
   "outputs": [
    {
     "data": {
      "text/plain": [
       "(42728, 10682)"
      ]
     },
     "execution_count": 14,
     "metadata": {},
     "output_type": "execute_result"
    }
   ],
   "source": [
    "len(train_dataset), len(test_dataset)"
   ]
  },
  {
   "cell_type": "code",
   "execution_count": 15,
   "id": "073a9223",
   "metadata": {
    "execution": {
     "iopub.execute_input": "2024-06-01T05:49:06.666884Z",
     "iopub.status.busy": "2024-06-01T05:49:06.666205Z",
     "iopub.status.idle": "2024-06-01T05:49:06.702195Z",
     "shell.execute_reply": "2024-06-01T05:49:06.701387Z"
    },
    "papermill": {
     "duration": 0.05391,
     "end_time": "2024-06-01T05:49:06.704037",
     "exception": false,
     "start_time": "2024-06-01T05:49:06.650127",
     "status": "completed"
    },
    "tags": []
   },
   "outputs": [
    {
     "data": {
      "text/plain": [
       "(torch.Size([100, 7]), torch.Size([]), tensor(0))"
      ]
     },
     "execution_count": 15,
     "metadata": {},
     "output_type": "execute_result"
    }
   ],
   "source": [
    "train_dataset[0][0].shape, train_dataset[0][1].shape, train_dataset[0][1]"
   ]
  },
  {
   "cell_type": "code",
   "execution_count": 16,
   "id": "2066f9a1",
   "metadata": {
    "execution": {
     "iopub.execute_input": "2024-06-01T05:49:06.736648Z",
     "iopub.status.busy": "2024-06-01T05:49:06.736000Z",
     "iopub.status.idle": "2024-06-01T05:49:06.744669Z",
     "shell.execute_reply": "2024-06-01T05:49:06.743830Z"
    },
    "papermill": {
     "duration": 0.026913,
     "end_time": "2024-06-01T05:49:06.746570",
     "exception": false,
     "start_time": "2024-06-01T05:49:06.719657",
     "status": "completed"
    },
    "tags": []
   },
   "outputs": [
    {
     "data": {
      "text/plain": [
       "(torch.Size([66, 7]), torch.Size([]), tensor(0))"
      ]
     },
     "execution_count": 16,
     "metadata": {},
     "output_type": "execute_result"
    }
   ],
   "source": [
    "test_dataset[0][0].shape, train_dataset[0][1].shape, test_dataset[0][1]"
   ]
  },
  {
   "cell_type": "markdown",
   "id": "ddbc2738",
   "metadata": {
    "papermill": {
     "duration": 0.015578,
     "end_time": "2024-06-01T05:49:06.777588",
     "exception": false,
     "start_time": "2024-06-01T05:49:06.762010",
     "status": "completed"
    },
    "tags": []
   },
   "source": [
    "# Prepare dataloader"
   ]
  },
  {
   "cell_type": "code",
   "execution_count": 17,
   "id": "9359b4b4",
   "metadata": {
    "execution": {
     "iopub.execute_input": "2024-06-01T05:49:06.809827Z",
     "iopub.status.busy": "2024-06-01T05:49:06.809466Z",
     "iopub.status.idle": "2024-06-01T05:49:06.814395Z",
     "shell.execute_reply": "2024-06-01T05:49:06.813560Z"
    },
    "papermill": {
     "duration": 0.023127,
     "end_time": "2024-06-01T05:49:06.816180",
     "exception": false,
     "start_time": "2024-06-01T05:49:06.793053",
     "status": "completed"
    },
    "tags": []
   },
   "outputs": [],
   "source": [
    "from torch.nn.utils.rnn import pad_sequence\n",
    "\n",
    "def collate_fn(batch):\n",
    "    # Separate data and labels\n",
    "    sequences, labels = zip(*batch)\n",
    "    # Pad the sequences\n",
    "    padded_sequences = pad_sequence(sequences, batch_first=True, padding_value=0)\n",
    "    \n",
    "    labels_tensor = torch.stack(labels)\n",
    "    return padded_sequences, labels_tensor"
   ]
  },
  {
   "cell_type": "code",
   "execution_count": 18,
   "id": "efc97c5f",
   "metadata": {
    "execution": {
     "iopub.execute_input": "2024-06-01T05:49:06.848489Z",
     "iopub.status.busy": "2024-06-01T05:49:06.847992Z",
     "iopub.status.idle": "2024-06-01T05:49:06.855897Z",
     "shell.execute_reply": "2024-06-01T05:49:06.854526Z"
    },
    "papermill": {
     "duration": 0.026539,
     "end_time": "2024-06-01T05:49:06.858038",
     "exception": false,
     "start_time": "2024-06-01T05:49:06.831499",
     "status": "completed"
    },
    "tags": []
   },
   "outputs": [
    {
     "name": "stdout",
     "output_type": "stream",
     "text": [
      "Dataloaders: (<torch.utils.data.dataloader.DataLoader object at 0x7b87ce5bc6d0>, <torch.utils.data.dataloader.DataLoader object at 0x7b87ce5bc4f0>)\n",
      "Length of training dataset: 42728\n",
      "Length of train dataloader: 42 batches of 1024\n",
      "Length of test dataset: 10682\n",
      "Length of test dataloader: 11 batches of 1024\n"
     ]
    }
   ],
   "source": [
    "from torch.utils.data import DataLoader\n",
    "import os\n",
    "\n",
    "BATCH_SIZE = 1024\n",
    "NUM_CORES = os.cpu_count() \n",
    "\n",
    "\n",
    "train_dataloader = DataLoader(train_dataset, batch_size=BATCH_SIZE, collate_fn = collate_fn, num_workers = NUM_CORES, pin_memory = True)\n",
    "test_dataloader = DataLoader(test_dataset, batch_size=BATCH_SIZE, collate_fn = collate_fn, num_workers = NUM_CORES, pin_memory = True)\n",
    "\n",
    "# Let's check out what we've created\n",
    "print(f\"Dataloaders: {train_dataloader, test_dataloader}\") \n",
    "print(f\"Length of training dataset: {len(train_dataloader.dataset)}\")\n",
    "print(f\"Length of train dataloader: {len(train_dataloader)} batches of {BATCH_SIZE}\")\n",
    "print(f\"Length of test dataset: {len(test_dataloader.dataset)}\")\n",
    "print(f\"Length of test dataloader: {len(test_dataloader)} batches of {BATCH_SIZE}\")"
   ]
  },
  {
   "cell_type": "code",
   "execution_count": 19,
   "id": "0e7ffcac",
   "metadata": {
    "execution": {
     "iopub.execute_input": "2024-06-01T05:49:06.890863Z",
     "iopub.status.busy": "2024-06-01T05:49:06.890566Z",
     "iopub.status.idle": "2024-06-01T05:49:08.749198Z",
     "shell.execute_reply": "2024-06-01T05:49:08.748162Z"
    },
    "papermill": {
     "duration": 1.876975,
     "end_time": "2024-06-01T05:49:08.751200",
     "exception": false,
     "start_time": "2024-06-01T05:49:06.874225",
     "status": "completed"
    },
    "tags": []
   },
   "outputs": [
    {
     "data": {
      "text/plain": [
       "(torch.Size([1024, 100, 7]), torch.Size([1024]))"
      ]
     },
     "execution_count": 19,
     "metadata": {},
     "output_type": "execute_result"
    }
   ],
   "source": [
    "train_features_batch, train_labels_batch = next(iter(train_dataloader))\n",
    "train_features_batch.shape, train_labels_batch.shape"
   ]
  },
  {
   "cell_type": "code",
   "execution_count": 20,
   "id": "0c15dfd8",
   "metadata": {
    "execution": {
     "iopub.execute_input": "2024-06-01T05:49:08.824874Z",
     "iopub.status.busy": "2024-06-01T05:49:08.824154Z",
     "iopub.status.idle": "2024-06-01T05:49:10.570184Z",
     "shell.execute_reply": "2024-06-01T05:49:10.569108Z"
    },
    "papermill": {
     "duration": 1.765482,
     "end_time": "2024-06-01T05:49:10.572407",
     "exception": false,
     "start_time": "2024-06-01T05:49:08.806925",
     "status": "completed"
    },
    "tags": []
   },
   "outputs": [
    {
     "data": {
      "text/plain": [
       "(torch.Size([1024, 100, 7]), torch.Size([1024]))"
      ]
     },
     "execution_count": 20,
     "metadata": {},
     "output_type": "execute_result"
    }
   ],
   "source": [
    "test_features_batch, test_labels_batch = next(iter(test_dataloader))\n",
    "test_features_batch.shape, test_labels_batch.shape"
   ]
  },
  {
   "cell_type": "markdown",
   "id": "6d3a9141",
   "metadata": {
    "papermill": {
     "duration": 0.015688,
     "end_time": "2024-06-01T05:49:10.604626",
     "exception": false,
     "start_time": "2024-06-01T05:49:10.588938",
     "status": "completed"
    },
    "tags": []
   },
   "source": [
    "# Model_architecture"
   ]
  },
  {
   "cell_type": "code",
   "execution_count": 21,
   "id": "622a10ca",
   "metadata": {
    "execution": {
     "iopub.execute_input": "2024-06-01T05:49:10.638040Z",
     "iopub.status.busy": "2024-06-01T05:49:10.637366Z",
     "iopub.status.idle": "2024-06-01T05:49:10.648444Z",
     "shell.execute_reply": "2024-06-01T05:49:10.647610Z"
    },
    "papermill": {
     "duration": 0.029883,
     "end_time": "2024-06-01T05:49:10.650286",
     "exception": false,
     "start_time": "2024-06-01T05:49:10.620403",
     "status": "completed"
    },
    "tags": []
   },
   "outputs": [],
   "source": [
    "class LSTM_Model(torch.nn.Module):\n",
    "    def __init__(self, embedding_size, hidden_state_size, output_size, bidirectional = False):\n",
    "        super().__init__()\n",
    "        \n",
    "        self.lstm = torch.nn.LSTM(\n",
    "            input_size = embedding_size,\n",
    "            hidden_size = hidden_state_size,\n",
    "            batch_first = True,\n",
    "            bias = True,\n",
    "            bidirectional = bidirectional\n",
    "        )\n",
    "        \n",
    "        if bidirectional == False:\n",
    "            self.classifier = torch.nn.Sequential(\n",
    "                nn.LayerNorm(hidden_state_size),\n",
    "                nn.Linear(hidden_state_size, hidden_state_size),\n",
    "                nn.ReLU(),\n",
    "                nn.LayerNorm(hidden_state_size),\n",
    "                nn.Linear(hidden_state_size, hidden_state_size),\n",
    "                nn.ReLU(),\n",
    "                nn.LayerNorm(hidden_state_size),\n",
    "                nn.Linear(hidden_state_size, output_size)\n",
    "            )\n",
    "        else:\n",
    "            self.classifier = torch.nn.Sequential(\n",
    "                nn.LayerNorm(2*hidden_state_size),\n",
    "                nn.Linear(2*hidden_state_size, 2*hidden_state_size),\n",
    "                nn.ReLU(),\n",
    "                nn.LayerNorm(2*hidden_state_size),\n",
    "                nn.Linear(2*hidden_state_size, 2*hidden_state_size),\n",
    "                nn.ReLU(),\n",
    "                nn.LayerNorm(2*hidden_state_size),\n",
    "                nn.Linear(2*hidden_state_size, output_size)\n",
    "            )\n",
    "        \n",
    "        \n",
    "    def forward(self,x):\n",
    "        # x_shape = [N,seq,features]\n",
    "        out, (hn, cn) = self.lstm(x)\n",
    "        # output_LSTM_shape = [N,seq,hidden_size]; \n",
    "        # hidden_LSTM_shape = [D,N,hidden_size]; \n",
    "        # cell_LSTM_shape = [D,N,hidden_size]\n",
    "        hn = hn.permute(1,0,2)\n",
    "        hn = hn.reshape(hn.shape[0],-1)\n",
    "        out = self.classifier(hn)\n",
    "        # output_linear_shape = [N, output_size]\n",
    "        return out"
   ]
  },
  {
   "cell_type": "markdown",
   "id": "e9ca45e9",
   "metadata": {
    "papermill": {
     "duration": 0.015699,
     "end_time": "2024-06-01T05:49:10.681771",
     "exception": false,
     "start_time": "2024-06-01T05:49:10.666072",
     "status": "completed"
    },
    "tags": []
   },
   "source": [
    "# LSTM"
   ]
  },
  {
   "cell_type": "code",
   "execution_count": 22,
   "id": "3a0753fa",
   "metadata": {
    "execution": {
     "iopub.execute_input": "2024-06-01T05:49:10.715046Z",
     "iopub.status.busy": "2024-06-01T05:49:10.714376Z",
     "iopub.status.idle": "2024-06-01T05:49:10.730831Z",
     "shell.execute_reply": "2024-06-01T05:49:10.730041Z"
    },
    "papermill": {
     "duration": 0.03487,
     "end_time": "2024-06-01T05:49:10.732723",
     "exception": false,
     "start_time": "2024-06-01T05:49:10.697853",
     "status": "completed"
    },
    "tags": []
   },
   "outputs": [
    {
     "data": {
      "text/plain": [
       "LSTM_Model(\n",
       "  (lstm): LSTM(7, 128, batch_first=True)\n",
       "  (classifier): Sequential(\n",
       "    (0): LayerNorm((128,), eps=1e-05, elementwise_affine=True)\n",
       "    (1): Linear(in_features=128, out_features=128, bias=True)\n",
       "    (2): ReLU()\n",
       "    (3): LayerNorm((128,), eps=1e-05, elementwise_affine=True)\n",
       "    (4): Linear(in_features=128, out_features=128, bias=True)\n",
       "    (5): ReLU()\n",
       "    (6): LayerNorm((128,), eps=1e-05, elementwise_affine=True)\n",
       "    (7): Linear(in_features=128, out_features=11, bias=True)\n",
       "  )\n",
       ")"
      ]
     },
     "execution_count": 22,
     "metadata": {},
     "output_type": "execute_result"
    }
   ],
   "source": [
    "torch.manual_seed(42)\n",
    "torch.cuda.manual_seed(42)\n",
    "\n",
    "model_0 = LSTM_Model(embedding_size = len(cols),\n",
    "                   hidden_state_size = 128,\n",
    "                   output_size = 11)\n",
    "model_0"
   ]
  },
  {
   "cell_type": "markdown",
   "id": "00c4579c",
   "metadata": {
    "papermill": {
     "duration": 0.015732,
     "end_time": "2024-06-01T05:49:10.764277",
     "exception": false,
     "start_time": "2024-06-01T05:49:10.748545",
     "status": "completed"
    },
    "tags": []
   },
   "source": [
    "## Train model"
   ]
  },
  {
   "cell_type": "code",
   "execution_count": 23,
   "id": "3d91d997",
   "metadata": {
    "execution": {
     "iopub.execute_input": "2024-06-01T05:49:10.797436Z",
     "iopub.status.busy": "2024-06-01T05:49:10.796955Z",
     "iopub.status.idle": "2024-06-01T05:49:10.801809Z",
     "shell.execute_reply": "2024-06-01T05:49:10.800986Z"
    },
    "papermill": {
     "duration": 0.023487,
     "end_time": "2024-06-01T05:49:10.803719",
     "exception": false,
     "start_time": "2024-06-01T05:49:10.780232",
     "status": "completed"
    },
    "tags": []
   },
   "outputs": [],
   "source": [
    "# Set seeds\n",
    "def set_seeds(seed: int=42):\n",
    "    \"\"\"Sets random sets for torch operations.\n",
    "\n",
    "    Args:\n",
    "        seed (int, optional): Random seed to set. Defaults to 42.\n",
    "    \"\"\"\n",
    "    # Set the seed for general torch operations\n",
    "    torch.manual_seed(seed)\n",
    "    # Set the seed for CUDA torch operations (ones that happen on the GPU)\n",
    "    torch.cuda.manual_seed(seed)"
   ]
  },
  {
   "cell_type": "code",
   "execution_count": 24,
   "id": "0f48fc6d",
   "metadata": {
    "execution": {
     "iopub.execute_input": "2024-06-01T05:49:10.837029Z",
     "iopub.status.busy": "2024-06-01T05:49:10.836327Z",
     "iopub.status.idle": "2024-06-01T05:49:10.849244Z",
     "shell.execute_reply": "2024-06-01T05:49:10.848458Z"
    },
    "papermill": {
     "duration": 0.031483,
     "end_time": "2024-06-01T05:49:10.851112",
     "exception": false,
     "start_time": "2024-06-01T05:49:10.819629",
     "status": "completed"
    },
    "tags": []
   },
   "outputs": [],
   "source": [
    "def train_step(model: torch.nn.Module,\n",
    "               data_loader: torch.utils.data.DataLoader,\n",
    "               loss_fn: torch.nn.Module,\n",
    "               optimizer: torch.optim.Optimizer,\n",
    "               accuracy_fn: torchmetrics,\n",
    "               device: torch.device = 'cpu'):\n",
    "    \n",
    "    if device != 'cpu':\n",
    "        model.to(device)\n",
    "        accuracy_fn.to(device)\n",
    "    \n",
    "    train_loss, train_acc = 0, 0\n",
    "    model.train()\n",
    "    for batch, (X, y) in enumerate(data_loader):\n",
    "        # Send data to GPU\n",
    "        if device != 'cpu':\n",
    "            X, y = X.to(device), y.to(device)\n",
    "\n",
    "        # 1. Forward pass\n",
    "        y_pred = model(X)\n",
    "#         print(f'y_pred: {y_pred}')\n",
    "\n",
    "        # 2. Calculate loss\n",
    "        loss = loss_fn(y_pred, y)\n",
    "        train_loss += loss\n",
    "#         print(f'train_loss/batch: {train_loss}')\n",
    "        \n",
    "#         print(f'batch {batch}')\n",
    "#         if math.isnan(loss):\n",
    "#             print(X.shape)\n",
    "    \n",
    "        # 3. Calculate accuracy\n",
    "        y_pred_class = torch.argmax(torch.softmax(y_pred, dim=1), dim=1)\n",
    "        train_acc += accuracy_fn(y, y_pred_class) # Go from logits -> pred labels\n",
    "\n",
    "        # 3. Optimizer zero grad\n",
    "        optimizer.zero_grad()\n",
    "\n",
    "        # 4. Loss backward\n",
    "        loss.backward()\n",
    "\n",
    "        # 5. Optimizer step\n",
    "        optimizer.step()\n",
    "    \n",
    "    # Calculate loss and accuracy per epoch and print out what's happening\n",
    "    train_loss /= len(data_loader)\n",
    "    train_acc /= len(data_loader)\n",
    "\t\t\n",
    "    return train_loss, train_acc\n",
    "\n",
    "def test_step(model: torch.nn.Module,\n",
    "              data_loader: torch.utils.data.DataLoader,\n",
    "              loss_fn: torch.nn.Module,\n",
    "              accuracy_fn: torchmetrics,\n",
    "              device: torch.device = 'cpu'):\n",
    "    \n",
    "    if device != 'cpu':\n",
    "        model.to(device)\n",
    "        accuracy_fn.to(device)\n",
    "\n",
    "    test_loss, test_acc = 0, 0\n",
    "    model.eval() # put model in eval mode\n",
    "    # Turn on inference context manager\n",
    "    with torch.inference_mode(): \n",
    "        for X, y in data_loader:\n",
    "            # Send data to GPU\n",
    "            if device != 'cpu':\n",
    "                X, y = X.to(device), y.to(device)\n",
    "            \n",
    "            # 1. Forward pass\n",
    "            y_pred = model(X)\n",
    "            \n",
    "            # 2. Calculate loss\n",
    "            test_loss += loss_fn(y_pred, y)\n",
    "\t\t\t\t\t\t\n",
    "            # 3. Calculate accuracy\n",
    "            y_pred_class = torch.argmax(torch.softmax(y_pred, dim=1), dim=1)\n",
    "            test_acc += accuracy_fn(y, y_pred_class) # Go from logits -> pred labels\n",
    "            \n",
    "        \n",
    "        # Adjust metrics and print out\n",
    "        test_loss /= len(data_loader)\n",
    "        test_acc /= len(data_loader)\n",
    "\t\t\n",
    "    return test_loss, test_acc"
   ]
  },
  {
   "cell_type": "code",
   "execution_count": 25,
   "id": "29b3aa1a",
   "metadata": {
    "execution": {
     "iopub.execute_input": "2024-06-01T05:49:10.884989Z",
     "iopub.status.busy": "2024-06-01T05:49:10.884118Z",
     "iopub.status.idle": "2024-06-01T05:49:10.893745Z",
     "shell.execute_reply": "2024-06-01T05:49:10.893047Z"
    },
    "papermill": {
     "duration": 0.028919,
     "end_time": "2024-06-01T05:49:10.895844",
     "exception": false,
     "start_time": "2024-06-01T05:49:10.866925",
     "status": "completed"
    },
    "tags": []
   },
   "outputs": [],
   "source": [
    "from typing import Dict, List, Tuple\n",
    "\n",
    "def train(model: torch.nn.Module, \n",
    "          train_dataloader: torch.utils.data.DataLoader, \n",
    "          test_dataloader: torch.utils.data.DataLoader, \n",
    "          optimizer: torch.optim.Optimizer,\n",
    "          loss_fn: torch.nn.Module,\n",
    "          accuracy_fn: torchmetrics,\n",
    "          epochs: int,\n",
    "          device: torch.device = 'cpu') -> Dict[str, List]:\n",
    "    \n",
    "    # Create empty results dictionary\n",
    "    results = {\n",
    "        \"Training_Loss\": [],\n",
    "        \"Training_Acc\": [],\n",
    "        \"Test_Loss\": [],\n",
    "        \"Test_Acc\": []\n",
    "    }\n",
    "\n",
    "    # Loop through training and testing steps for a number of epochs\n",
    "    for epoch in tqdm(range(epochs)):\n",
    "            Training_Loss, Training_Acc = train_step(\n",
    "                data_loader=train_dataloader, \n",
    "                model=model, \n",
    "                loss_fn=loss_fn,\n",
    "                optimizer=optimizer,\n",
    "                accuracy_fn=accuracy_fn,\n",
    "                device=device\n",
    "            )\n",
    "            Test_Loss, Test_Acc = test_step(\n",
    "                data_loader=test_dataloader,\n",
    "                model=model,\n",
    "                loss_fn=loss_fn,\n",
    "                accuracy_fn=accuracy_fn,\n",
    "                device=device\n",
    "            )\n",
    "            # Print out what's happening\n",
    "            print(\n",
    "                f\"Epoch: {epoch} | \"\n",
    "                f\"Training_Loss: {Training_Loss:.4f} | \"\n",
    "                f\"Training_Acc: {Training_Acc:.4f} | \"\n",
    "                f\"Test_Loss: {Test_Loss:.4f} | \"\n",
    "                f\"Test_Acc: {Test_Acc:.4f}\"\n",
    "            )\n",
    "\n",
    "            # Update results dictionary\n",
    "            results[\"Training_Loss\"].append(Training_Loss.item())\n",
    "            results[\"Training_Acc\"].append(Training_Acc.item())\n",
    "            results[\"Test_Loss\"].append(Test_Loss.item())\n",
    "            results[\"Test_Acc\"].append(Test_Acc.item())\n",
    "\n",
    "  # Return the filled results at the end of the epochs\n",
    "    return results"
   ]
  },
  {
   "cell_type": "code",
   "execution_count": 26,
   "id": "54fed3ce",
   "metadata": {
    "execution": {
     "iopub.execute_input": "2024-06-01T05:49:10.929813Z",
     "iopub.status.busy": "2024-06-01T05:49:10.929290Z",
     "iopub.status.idle": "2024-06-01T05:49:11.587904Z",
     "shell.execute_reply": "2024-06-01T05:49:11.587085Z"
    },
    "papermill": {
     "duration": 0.677666,
     "end_time": "2024-06-01T05:49:11.590195",
     "exception": false,
     "start_time": "2024-06-01T05:49:10.912529",
     "status": "completed"
    },
    "tags": []
   },
   "outputs": [],
   "source": [
    "# Setup loss function and optimizer\n",
    "loss_fn = nn.CrossEntropyLoss()\n",
    "optimizer = torch.optim.Adam(params=model_0.parameters(), lr=0.001)\n",
    "accuracy_fn = torchmetrics.F1Score(task = 'multiclass', num_classes=11)"
   ]
  },
  {
   "cell_type": "code",
   "execution_count": 27,
   "id": "03858da8",
   "metadata": {
    "execution": {
     "iopub.execute_input": "2024-06-01T05:49:11.625504Z",
     "iopub.status.busy": "2024-06-01T05:49:11.624837Z",
     "iopub.status.idle": "2024-06-01T06:29:38.632482Z",
     "shell.execute_reply": "2024-06-01T06:29:38.631297Z"
    },
    "papermill": {
     "duration": 2427.027863,
     "end_time": "2024-06-01T06:29:38.634694",
     "exception": false,
     "start_time": "2024-06-01T05:49:11.606831",
     "status": "completed"
    },
    "tags": []
   },
   "outputs": [
    {
     "data": {
      "application/vnd.jupyter.widget-view+json": {
       "model_id": "78dc8f2f9ae9431a9863b473d03f6b59",
       "version_major": 2,
       "version_minor": 0
      },
      "text/plain": [
       "  0%|          | 0/200 [00:00<?, ?it/s]"
      ]
     },
     "metadata": {},
     "output_type": "display_data"
    },
    {
     "name": "stdout",
     "output_type": "stream",
     "text": [
      "Epoch: 0 | Training_Loss: 1.9759 | Training_Acc: 0.2527 | Test_Loss: 1.7256 | Test_Acc: 0.3190\n",
      "Epoch: 1 | Training_Loss: 1.7530 | Training_Acc: 0.3229 | Test_Loss: 1.5318 | Test_Acc: 0.4069\n",
      "Epoch: 2 | Training_Loss: 1.6046 | Training_Acc: 0.4179 | Test_Loss: 1.4459 | Test_Acc: 0.4495\n",
      "Epoch: 3 | Training_Loss: 1.5451 | Training_Acc: 0.4430 | Test_Loss: 1.4700 | Test_Acc: 0.4423\n",
      "Epoch: 4 | Training_Loss: 1.4906 | Training_Acc: 0.4625 | Test_Loss: 1.3649 | Test_Acc: 0.4899\n",
      "Epoch: 5 | Training_Loss: 1.4438 | Training_Acc: 0.4953 | Test_Loss: 1.3332 | Test_Acc: 0.5142\n",
      "Epoch: 6 | Training_Loss: 1.4026 | Training_Acc: 0.5197 | Test_Loss: 1.2931 | Test_Acc: 0.5516\n",
      "Epoch: 7 | Training_Loss: 1.3738 | Training_Acc: 0.5361 | Test_Loss: 1.2787 | Test_Acc: 0.5267\n",
      "Epoch: 8 | Training_Loss: 1.3380 | Training_Acc: 0.5412 | Test_Loss: 1.2884 | Test_Acc: 0.5192\n",
      "Epoch: 9 | Training_Loss: 1.3482 | Training_Acc: 0.5461 | Test_Loss: 1.2781 | Test_Acc: 0.5310\n",
      "Epoch: 10 | Training_Loss: 1.3507 | Training_Acc: 0.5402 | Test_Loss: 1.2570 | Test_Acc: 0.5461\n",
      "Epoch: 11 | Training_Loss: 1.3074 | Training_Acc: 0.5639 | Test_Loss: 1.2084 | Test_Acc: 0.5621\n",
      "Epoch: 12 | Training_Loss: 1.2489 | Training_Acc: 0.5815 | Test_Loss: 1.1945 | Test_Acc: 0.5760\n",
      "Epoch: 13 | Training_Loss: 1.2348 | Training_Acc: 0.5928 | Test_Loss: 1.2065 | Test_Acc: 0.5632\n",
      "Epoch: 14 | Training_Loss: 1.2478 | Training_Acc: 0.5901 | Test_Loss: 1.1852 | Test_Acc: 0.5867\n",
      "Epoch: 15 | Training_Loss: 1.2352 | Training_Acc: 0.5918 | Test_Loss: 1.2087 | Test_Acc: 0.5735\n",
      "Epoch: 16 | Training_Loss: 1.2046 | Training_Acc: 0.6021 | Test_Loss: 1.1511 | Test_Acc: 0.6019\n",
      "Epoch: 17 | Training_Loss: 1.1926 | Training_Acc: 0.6140 | Test_Loss: 1.1437 | Test_Acc: 0.6063\n",
      "Epoch: 18 | Training_Loss: 1.1582 | Training_Acc: 0.6287 | Test_Loss: 1.1403 | Test_Acc: 0.6177\n",
      "Epoch: 19 | Training_Loss: 1.1530 | Training_Acc: 0.6288 | Test_Loss: 1.0964 | Test_Acc: 0.6435\n",
      "Epoch: 20 | Training_Loss: 1.1947 | Training_Acc: 0.6118 | Test_Loss: 1.1686 | Test_Acc: 0.5923\n",
      "Epoch: 21 | Training_Loss: 1.1571 | Training_Acc: 0.6237 | Test_Loss: 1.0978 | Test_Acc: 0.6418\n",
      "Epoch: 22 | Training_Loss: 1.1680 | Training_Acc: 0.6207 | Test_Loss: 1.0975 | Test_Acc: 0.6381\n",
      "Epoch: 23 | Training_Loss: 1.1212 | Training_Acc: 0.6383 | Test_Loss: 1.0607 | Test_Acc: 0.6555\n",
      "Epoch: 24 | Training_Loss: 1.1667 | Training_Acc: 0.6087 | Test_Loss: 1.0939 | Test_Acc: 0.6387\n",
      "Epoch: 25 | Training_Loss: 1.0920 | Training_Acc: 0.6543 | Test_Loss: 1.0586 | Test_Acc: 0.6632\n",
      "Epoch: 26 | Training_Loss: 1.1462 | Training_Acc: 0.6307 | Test_Loss: 1.0465 | Test_Acc: 0.6613\n",
      "Epoch: 27 | Training_Loss: 1.0768 | Training_Acc: 0.6535 | Test_Loss: 1.0301 | Test_Acc: 0.6750\n",
      "Epoch: 28 | Training_Loss: 1.0828 | Training_Acc: 0.6640 | Test_Loss: 1.0001 | Test_Acc: 0.6902\n",
      "Epoch: 29 | Training_Loss: 1.0442 | Training_Acc: 0.6710 | Test_Loss: 0.9885 | Test_Acc: 0.6902\n",
      "Epoch: 30 | Training_Loss: 1.0515 | Training_Acc: 0.6689 | Test_Loss: 1.0166 | Test_Acc: 0.6780\n",
      "Epoch: 31 | Training_Loss: 1.0725 | Training_Acc: 0.6624 | Test_Loss: 0.9901 | Test_Acc: 0.6910\n",
      "Epoch: 32 | Training_Loss: 1.0138 | Training_Acc: 0.6828 | Test_Loss: 0.9881 | Test_Acc: 0.6911\n",
      "Epoch: 33 | Training_Loss: 1.0400 | Training_Acc: 0.6744 | Test_Loss: 0.9924 | Test_Acc: 0.6815\n",
      "Epoch: 34 | Training_Loss: 1.0101 | Training_Acc: 0.6843 | Test_Loss: 0.9739 | Test_Acc: 0.6945\n",
      "Epoch: 35 | Training_Loss: 1.0161 | Training_Acc: 0.6848 | Test_Loss: 0.9835 | Test_Acc: 0.6898\n",
      "Epoch: 36 | Training_Loss: 1.0137 | Training_Acc: 0.6793 | Test_Loss: 0.9921 | Test_Acc: 0.6888\n",
      "Epoch: 37 | Training_Loss: 1.0375 | Training_Acc: 0.6741 | Test_Loss: 0.9885 | Test_Acc: 0.6925\n",
      "Epoch: 38 | Training_Loss: 1.0359 | Training_Acc: 0.6760 | Test_Loss: 0.9872 | Test_Acc: 0.6934\n",
      "Epoch: 39 | Training_Loss: 1.0236 | Training_Acc: 0.6791 | Test_Loss: 0.9848 | Test_Acc: 0.6943\n",
      "Epoch: 40 | Training_Loss: 0.9970 | Training_Acc: 0.6870 | Test_Loss: 0.9752 | Test_Acc: 0.6903\n",
      "Epoch: 41 | Training_Loss: 0.9797 | Training_Acc: 0.6901 | Test_Loss: 0.9633 | Test_Acc: 0.7002\n",
      "Epoch: 42 | Training_Loss: 0.9961 | Training_Acc: 0.6887 | Test_Loss: 0.9630 | Test_Acc: 0.7010\n",
      "Epoch: 43 | Training_Loss: 0.9983 | Training_Acc: 0.6842 | Test_Loss: 0.9679 | Test_Acc: 0.6971\n",
      "Epoch: 44 | Training_Loss: 0.9876 | Training_Acc: 0.6920 | Test_Loss: 0.9350 | Test_Acc: 0.7128\n",
      "Epoch: 45 | Training_Loss: 0.9724 | Training_Acc: 0.6943 | Test_Loss: 0.9425 | Test_Acc: 0.7084\n",
      "Epoch: 46 | Training_Loss: 0.9850 | Training_Acc: 0.6910 | Test_Loss: 0.9279 | Test_Acc: 0.7118\n",
      "Epoch: 47 | Training_Loss: 0.9436 | Training_Acc: 0.7042 | Test_Loss: 0.9203 | Test_Acc: 0.7136\n",
      "Epoch: 48 | Training_Loss: 0.9424 | Training_Acc: 0.7056 | Test_Loss: 0.9239 | Test_Acc: 0.7146\n",
      "Epoch: 49 | Training_Loss: 0.9300 | Training_Acc: 0.7112 | Test_Loss: 0.9287 | Test_Acc: 0.7142\n",
      "Epoch: 50 | Training_Loss: 0.9491 | Training_Acc: 0.7057 | Test_Loss: 0.9365 | Test_Acc: 0.7080\n",
      "Epoch: 51 | Training_Loss: 0.9285 | Training_Acc: 0.7123 | Test_Loss: 0.9401 | Test_Acc: 0.7147\n",
      "Epoch: 52 | Training_Loss: 0.9592 | Training_Acc: 0.6979 | Test_Loss: 0.9470 | Test_Acc: 0.7070\n",
      "Epoch: 53 | Training_Loss: 0.9622 | Training_Acc: 0.7009 | Test_Loss: 0.9393 | Test_Acc: 0.7074\n",
      "Epoch: 54 | Training_Loss: 0.9330 | Training_Acc: 0.7094 | Test_Loss: 0.9137 | Test_Acc: 0.7205\n",
      "Epoch: 55 | Training_Loss: 0.9324 | Training_Acc: 0.7091 | Test_Loss: 0.9071 | Test_Acc: 0.7198\n",
      "Epoch: 56 | Training_Loss: 0.9127 | Training_Acc: 0.7143 | Test_Loss: 0.9086 | Test_Acc: 0.7183\n",
      "Epoch: 57 | Training_Loss: 0.9250 | Training_Acc: 0.7118 | Test_Loss: 0.8954 | Test_Acc: 0.7243\n",
      "Epoch: 58 | Training_Loss: 0.9172 | Training_Acc: 0.7115 | Test_Loss: 0.8955 | Test_Acc: 0.7262\n",
      "Epoch: 59 | Training_Loss: 0.9126 | Training_Acc: 0.7197 | Test_Loss: 0.8939 | Test_Acc: 0.7272\n",
      "Epoch: 60 | Training_Loss: 0.9171 | Training_Acc: 0.7136 | Test_Loss: 0.8989 | Test_Acc: 0.7192\n",
      "Epoch: 61 | Training_Loss: 0.9681 | Training_Acc: 0.6956 | Test_Loss: 0.9472 | Test_Acc: 0.7042\n",
      "Epoch: 62 | Training_Loss: 0.9819 | Training_Acc: 0.6949 | Test_Loss: 0.9231 | Test_Acc: 0.7084\n",
      "Epoch: 63 | Training_Loss: 0.9224 | Training_Acc: 0.7135 | Test_Loss: 0.9123 | Test_Acc: 0.7169\n",
      "Epoch: 64 | Training_Loss: 0.9210 | Training_Acc: 0.7121 | Test_Loss: 0.9088 | Test_Acc: 0.7155\n",
      "Epoch: 65 | Training_Loss: 0.9243 | Training_Acc: 0.7089 | Test_Loss: 0.9187 | Test_Acc: 0.7140\n",
      "Epoch: 66 | Training_Loss: 0.9211 | Training_Acc: 0.7109 | Test_Loss: 0.9116 | Test_Acc: 0.7145\n",
      "Epoch: 67 | Training_Loss: 0.9066 | Training_Acc: 0.7146 | Test_Loss: 0.8917 | Test_Acc: 0.7248\n",
      "Epoch: 68 | Training_Loss: 0.8993 | Training_Acc: 0.7196 | Test_Loss: 0.8854 | Test_Acc: 0.7269\n",
      "Epoch: 69 | Training_Loss: 0.8871 | Training_Acc: 0.7242 | Test_Loss: 0.8938 | Test_Acc: 0.7219\n",
      "Epoch: 70 | Training_Loss: 0.8872 | Training_Acc: 0.7247 | Test_Loss: 0.8904 | Test_Acc: 0.7247\n",
      "Epoch: 71 | Training_Loss: 0.8753 | Training_Acc: 0.7274 | Test_Loss: 0.8873 | Test_Acc: 0.7262\n",
      "Epoch: 72 | Training_Loss: 0.8687 | Training_Acc: 0.7309 | Test_Loss: 0.8872 | Test_Acc: 0.7237\n",
      "Epoch: 73 | Training_Loss: 0.8845 | Training_Acc: 0.7242 | Test_Loss: 0.8945 | Test_Acc: 0.7193\n",
      "Epoch: 74 | Training_Loss: 0.8927 | Training_Acc: 0.7225 | Test_Loss: 0.9094 | Test_Acc: 0.7158\n",
      "Epoch: 75 | Training_Loss: 0.9162 | Training_Acc: 0.7134 | Test_Loss: 0.9204 | Test_Acc: 0.7155\n",
      "Epoch: 76 | Training_Loss: 0.8994 | Training_Acc: 0.7210 | Test_Loss: 0.8949 | Test_Acc: 0.7238\n",
      "Epoch: 77 | Training_Loss: 0.9074 | Training_Acc: 0.7202 | Test_Loss: 0.9088 | Test_Acc: 0.7150\n",
      "Epoch: 78 | Training_Loss: 0.9021 | Training_Acc: 0.7188 | Test_Loss: 0.9088 | Test_Acc: 0.7137\n",
      "Epoch: 79 | Training_Loss: 0.8931 | Training_Acc: 0.7181 | Test_Loss: 0.9114 | Test_Acc: 0.7133\n",
      "Epoch: 80 | Training_Loss: 0.8847 | Training_Acc: 0.7203 | Test_Loss: 0.8916 | Test_Acc: 0.7206\n",
      "Epoch: 81 | Training_Loss: 0.8816 | Training_Acc: 0.7216 | Test_Loss: 0.8957 | Test_Acc: 0.7190\n",
      "Epoch: 82 | Training_Loss: 0.8942 | Training_Acc: 0.7182 | Test_Loss: 0.8913 | Test_Acc: 0.7208\n",
      "Epoch: 83 | Training_Loss: 0.8765 | Training_Acc: 0.7259 | Test_Loss: 0.9235 | Test_Acc: 0.7092\n",
      "Epoch: 84 | Training_Loss: 0.9216 | Training_Acc: 0.7093 | Test_Loss: 0.8808 | Test_Acc: 0.7268\n",
      "Epoch: 85 | Training_Loss: 0.9055 | Training_Acc: 0.7159 | Test_Loss: 0.8720 | Test_Acc: 0.7309\n",
      "Epoch: 86 | Training_Loss: 0.8860 | Training_Acc: 0.7208 | Test_Loss: 0.8629 | Test_Acc: 0.7314\n",
      "Epoch: 87 | Training_Loss: 0.8814 | Training_Acc: 0.7184 | Test_Loss: 0.8535 | Test_Acc: 0.7359\n",
      "Epoch: 88 | Training_Loss: 0.8495 | Training_Acc: 0.7331 | Test_Loss: 0.8494 | Test_Acc: 0.7356\n",
      "Epoch: 89 | Training_Loss: 0.8411 | Training_Acc: 0.7349 | Test_Loss: 0.8448 | Test_Acc: 0.7368\n",
      "Epoch: 90 | Training_Loss: 0.8391 | Training_Acc: 0.7342 | Test_Loss: 0.8463 | Test_Acc: 0.7367\n",
      "Epoch: 91 | Training_Loss: 0.8456 | Training_Acc: 0.7327 | Test_Loss: 0.8643 | Test_Acc: 0.7344\n",
      "Epoch: 92 | Training_Loss: 0.8604 | Training_Acc: 0.7308 | Test_Loss: 0.8659 | Test_Acc: 0.7320\n",
      "Epoch: 93 | Training_Loss: 0.8421 | Training_Acc: 0.7336 | Test_Loss: 0.8595 | Test_Acc: 0.7299\n",
      "Epoch: 94 | Training_Loss: 0.8445 | Training_Acc: 0.7303 | Test_Loss: 0.8546 | Test_Acc: 0.7352\n",
      "Epoch: 95 | Training_Loss: 0.8504 | Training_Acc: 0.7311 | Test_Loss: 0.8518 | Test_Acc: 0.7369\n",
      "Epoch: 96 | Training_Loss: 0.8329 | Training_Acc: 0.7367 | Test_Loss: 0.8463 | Test_Acc: 0.7371\n",
      "Epoch: 97 | Training_Loss: 0.8418 | Training_Acc: 0.7313 | Test_Loss: 0.8599 | Test_Acc: 0.7330\n",
      "Epoch: 98 | Training_Loss: 0.8412 | Training_Acc: 0.7321 | Test_Loss: 0.8626 | Test_Acc: 0.7310\n",
      "Epoch: 99 | Training_Loss: 0.8467 | Training_Acc: 0.7283 | Test_Loss: 0.8546 | Test_Acc: 0.7322\n",
      "Epoch: 100 | Training_Loss: 0.8298 | Training_Acc: 0.7356 | Test_Loss: 0.8457 | Test_Acc: 0.7358\n",
      "Epoch: 101 | Training_Loss: 0.8213 | Training_Acc: 0.7378 | Test_Loss: 0.8474 | Test_Acc: 0.7367\n",
      "Epoch: 102 | Training_Loss: 0.8102 | Training_Acc: 0.7432 | Test_Loss: 0.8594 | Test_Acc: 0.7336\n",
      "Epoch: 103 | Training_Loss: 0.8206 | Training_Acc: 0.7425 | Test_Loss: 0.8653 | Test_Acc: 0.7286\n",
      "Epoch: 104 | Training_Loss: 0.8393 | Training_Acc: 0.7339 | Test_Loss: 0.8639 | Test_Acc: 0.7277\n",
      "Epoch: 105 | Training_Loss: 0.8226 | Training_Acc: 0.7407 | Test_Loss: 0.8618 | Test_Acc: 0.7300\n",
      "Epoch: 106 | Training_Loss: 0.8217 | Training_Acc: 0.7395 | Test_Loss: 0.8644 | Test_Acc: 0.7276\n",
      "Epoch: 107 | Training_Loss: 0.8182 | Training_Acc: 0.7407 | Test_Loss: 0.8455 | Test_Acc: 0.7367\n",
      "Epoch: 108 | Training_Loss: 0.8141 | Training_Acc: 0.7432 | Test_Loss: 0.8441 | Test_Acc: 0.7353\n",
      "Epoch: 109 | Training_Loss: 0.8077 | Training_Acc: 0.7411 | Test_Loss: 0.8483 | Test_Acc: 0.7343\n",
      "Epoch: 110 | Training_Loss: 0.8245 | Training_Acc: 0.7381 | Test_Loss: 0.8370 | Test_Acc: 0.7384\n",
      "Epoch: 111 | Training_Loss: 0.8134 | Training_Acc: 0.7389 | Test_Loss: 0.8489 | Test_Acc: 0.7356\n",
      "Epoch: 112 | Training_Loss: 0.8025 | Training_Acc: 0.7427 | Test_Loss: 0.8421 | Test_Acc: 0.7362\n",
      "Epoch: 113 | Training_Loss: 0.8088 | Training_Acc: 0.7413 | Test_Loss: 0.8428 | Test_Acc: 0.7360\n",
      "Epoch: 114 | Training_Loss: 0.8067 | Training_Acc: 0.7414 | Test_Loss: 0.8509 | Test_Acc: 0.7354\n",
      "Epoch: 115 | Training_Loss: 0.8023 | Training_Acc: 0.7423 | Test_Loss: 0.8419 | Test_Acc: 0.7353\n",
      "Epoch: 116 | Training_Loss: 0.8009 | Training_Acc: 0.7402 | Test_Loss: 0.8453 | Test_Acc: 0.7348\n",
      "Epoch: 117 | Training_Loss: 0.7912 | Training_Acc: 0.7456 | Test_Loss: 0.8547 | Test_Acc: 0.7301\n",
      "Epoch: 118 | Training_Loss: 0.7986 | Training_Acc: 0.7445 | Test_Loss: 0.8511 | Test_Acc: 0.7320\n",
      "Epoch: 119 | Training_Loss: 0.7922 | Training_Acc: 0.7459 | Test_Loss: 0.8550 | Test_Acc: 0.7309\n",
      "Epoch: 120 | Training_Loss: 0.7963 | Training_Acc: 0.7463 | Test_Loss: 0.8474 | Test_Acc: 0.7337\n",
      "Epoch: 121 | Training_Loss: 0.7770 | Training_Acc: 0.7528 | Test_Loss: 0.8303 | Test_Acc: 0.7383\n",
      "Epoch: 122 | Training_Loss: 0.7785 | Training_Acc: 0.7504 | Test_Loss: 0.8373 | Test_Acc: 0.7390\n",
      "Epoch: 123 | Training_Loss: 0.7784 | Training_Acc: 0.7511 | Test_Loss: 0.8302 | Test_Acc: 0.7418\n",
      "Epoch: 124 | Training_Loss: 0.7693 | Training_Acc: 0.7548 | Test_Loss: 0.8264 | Test_Acc: 0.7430\n",
      "Epoch: 125 | Training_Loss: 0.7677 | Training_Acc: 0.7549 | Test_Loss: 0.8280 | Test_Acc: 0.7432\n",
      "Epoch: 126 | Training_Loss: 0.7665 | Training_Acc: 0.7546 | Test_Loss: 0.8336 | Test_Acc: 0.7332\n",
      "Epoch: 127 | Training_Loss: 0.7760 | Training_Acc: 0.7479 | Test_Loss: 0.8418 | Test_Acc: 0.7365\n",
      "Epoch: 128 | Training_Loss: 0.7652 | Training_Acc: 0.7544 | Test_Loss: 0.8379 | Test_Acc: 0.7361\n",
      "Epoch: 129 | Training_Loss: 0.7690 | Training_Acc: 0.7497 | Test_Loss: 0.8335 | Test_Acc: 0.7397\n",
      "Epoch: 130 | Training_Loss: 0.7612 | Training_Acc: 0.7556 | Test_Loss: 0.8369 | Test_Acc: 0.7388\n",
      "Epoch: 131 | Training_Loss: 0.7657 | Training_Acc: 0.7514 | Test_Loss: 0.8297 | Test_Acc: 0.7421\n",
      "Epoch: 132 | Training_Loss: 0.7627 | Training_Acc: 0.7550 | Test_Loss: 0.8293 | Test_Acc: 0.7431\n",
      "Epoch: 133 | Training_Loss: 0.7647 | Training_Acc: 0.7525 | Test_Loss: 0.8363 | Test_Acc: 0.7415\n",
      "Epoch: 134 | Training_Loss: 0.7664 | Training_Acc: 0.7517 | Test_Loss: 0.8468 | Test_Acc: 0.7392\n",
      "Epoch: 135 | Training_Loss: 0.7603 | Training_Acc: 0.7534 | Test_Loss: 0.8466 | Test_Acc: 0.7350\n",
      "Epoch: 136 | Training_Loss: 0.7541 | Training_Acc: 0.7546 | Test_Loss: 0.8434 | Test_Acc: 0.7301\n",
      "Epoch: 137 | Training_Loss: 0.7502 | Training_Acc: 0.7586 | Test_Loss: 0.8404 | Test_Acc: 0.7354\n",
      "Epoch: 138 | Training_Loss: 0.7519 | Training_Acc: 0.7562 | Test_Loss: 0.8380 | Test_Acc: 0.7391\n",
      "Epoch: 139 | Training_Loss: 0.7680 | Training_Acc: 0.7542 | Test_Loss: 0.8523 | Test_Acc: 0.7309\n",
      "Epoch: 140 | Training_Loss: 0.7604 | Training_Acc: 0.7576 | Test_Loss: 0.8480 | Test_Acc: 0.7396\n",
      "Epoch: 141 | Training_Loss: 0.7481 | Training_Acc: 0.7627 | Test_Loss: 0.8347 | Test_Acc: 0.7414\n",
      "Epoch: 142 | Training_Loss: 0.7449 | Training_Acc: 0.7623 | Test_Loss: 0.8412 | Test_Acc: 0.7343\n",
      "Epoch: 143 | Training_Loss: 0.7732 | Training_Acc: 0.7480 | Test_Loss: 0.8304 | Test_Acc: 0.7428\n",
      "Epoch: 144 | Training_Loss: 0.7387 | Training_Acc: 0.7647 | Test_Loss: 0.8272 | Test_Acc: 0.7446\n",
      "Epoch: 145 | Training_Loss: 0.7584 | Training_Acc: 0.7554 | Test_Loss: 0.8386 | Test_Acc: 0.7381\n",
      "Epoch: 146 | Training_Loss: 0.7527 | Training_Acc: 0.7588 | Test_Loss: 0.8379 | Test_Acc: 0.7416\n",
      "Epoch: 147 | Training_Loss: 0.7450 | Training_Acc: 0.7613 | Test_Loss: 0.8441 | Test_Acc: 0.7366\n",
      "Epoch: 148 | Training_Loss: 0.7308 | Training_Acc: 0.7644 | Test_Loss: 0.8339 | Test_Acc: 0.7418\n",
      "Epoch: 149 | Training_Loss: 0.7242 | Training_Acc: 0.7684 | Test_Loss: 0.8339 | Test_Acc: 0.7400\n",
      "Epoch: 150 | Training_Loss: 0.7164 | Training_Acc: 0.7694 | Test_Loss: 0.8396 | Test_Acc: 0.7352\n",
      "Epoch: 151 | Training_Loss: 0.7190 | Training_Acc: 0.7680 | Test_Loss: 0.8286 | Test_Acc: 0.7401\n",
      "Epoch: 152 | Training_Loss: 0.7134 | Training_Acc: 0.7711 | Test_Loss: 0.8407 | Test_Acc: 0.7377\n",
      "Epoch: 153 | Training_Loss: 0.7136 | Training_Acc: 0.7700 | Test_Loss: 0.8360 | Test_Acc: 0.7431\n",
      "Epoch: 154 | Training_Loss: 0.7171 | Training_Acc: 0.7676 | Test_Loss: 0.8340 | Test_Acc: 0.7408\n",
      "Epoch: 155 | Training_Loss: 0.7064 | Training_Acc: 0.7729 | Test_Loss: 0.8296 | Test_Acc: 0.7459\n",
      "Epoch: 156 | Training_Loss: 0.7033 | Training_Acc: 0.7744 | Test_Loss: 0.8321 | Test_Acc: 0.7444\n",
      "Epoch: 157 | Training_Loss: 0.7065 | Training_Acc: 0.7719 | Test_Loss: 0.8228 | Test_Acc: 0.7439\n",
      "Epoch: 158 | Training_Loss: 0.6987 | Training_Acc: 0.7751 | Test_Loss: 0.8241 | Test_Acc: 0.7426\n",
      "Epoch: 159 | Training_Loss: 0.7073 | Training_Acc: 0.7706 | Test_Loss: 0.8284 | Test_Acc: 0.7462\n",
      "Epoch: 160 | Training_Loss: 0.7218 | Training_Acc: 0.7679 | Test_Loss: 0.8304 | Test_Acc: 0.7425\n",
      "Epoch: 161 | Training_Loss: 0.7128 | Training_Acc: 0.7697 | Test_Loss: 0.8331 | Test_Acc: 0.7424\n",
      "Epoch: 162 | Training_Loss: 0.7041 | Training_Acc: 0.7733 | Test_Loss: 0.8394 | Test_Acc: 0.7393\n",
      "Epoch: 163 | Training_Loss: 0.7030 | Training_Acc: 0.7735 | Test_Loss: 0.8336 | Test_Acc: 0.7417\n",
      "Epoch: 164 | Training_Loss: 0.6959 | Training_Acc: 0.7775 | Test_Loss: 0.8500 | Test_Acc: 0.7362\n",
      "Epoch: 165 | Training_Loss: 0.7250 | Training_Acc: 0.7672 | Test_Loss: 0.8419 | Test_Acc: 0.7415\n",
      "Epoch: 166 | Training_Loss: 0.7015 | Training_Acc: 0.7743 | Test_Loss: 0.8295 | Test_Acc: 0.7447\n",
      "Epoch: 167 | Training_Loss: 0.6898 | Training_Acc: 0.7768 | Test_Loss: 0.8297 | Test_Acc: 0.7449\n",
      "Epoch: 168 | Training_Loss: 0.6828 | Training_Acc: 0.7788 | Test_Loss: 0.8381 | Test_Acc: 0.7386\n",
      "Epoch: 169 | Training_Loss: 0.6810 | Training_Acc: 0.7779 | Test_Loss: 0.8415 | Test_Acc: 0.7408\n",
      "Epoch: 170 | Training_Loss: 0.6780 | Training_Acc: 0.7796 | Test_Loss: 0.8388 | Test_Acc: 0.7406\n",
      "Epoch: 171 | Training_Loss: 0.6873 | Training_Acc: 0.7778 | Test_Loss: 0.8623 | Test_Acc: 0.7376\n",
      "Epoch: 172 | Training_Loss: 0.6920 | Training_Acc: 0.7777 | Test_Loss: 0.8620 | Test_Acc: 0.7371\n",
      "Epoch: 173 | Training_Loss: 0.7062 | Training_Acc: 0.7722 | Test_Loss: 0.8553 | Test_Acc: 0.7366\n",
      "Epoch: 174 | Training_Loss: 0.7055 | Training_Acc: 0.7728 | Test_Loss: 0.8470 | Test_Acc: 0.7413\n",
      "Epoch: 175 | Training_Loss: 0.6982 | Training_Acc: 0.7732 | Test_Loss: 0.8563 | Test_Acc: 0.7374\n",
      "Epoch: 176 | Training_Loss: 0.6834 | Training_Acc: 0.7786 | Test_Loss: 0.8561 | Test_Acc: 0.7371\n",
      "Epoch: 177 | Training_Loss: 0.6917 | Training_Acc: 0.7775 | Test_Loss: 0.8559 | Test_Acc: 0.7399\n",
      "Epoch: 178 | Training_Loss: 0.6769 | Training_Acc: 0.7825 | Test_Loss: 0.8612 | Test_Acc: 0.7360\n",
      "Epoch: 179 | Training_Loss: 0.6910 | Training_Acc: 0.7741 | Test_Loss: 0.8740 | Test_Acc: 0.7317\n",
      "Epoch: 180 | Training_Loss: 0.7098 | Training_Acc: 0.7706 | Test_Loss: 0.8541 | Test_Acc: 0.7408\n",
      "Epoch: 181 | Training_Loss: 0.7036 | Training_Acc: 0.7724 | Test_Loss: 0.8456 | Test_Acc: 0.7438\n",
      "Epoch: 182 | Training_Loss: 0.7006 | Training_Acc: 0.7746 | Test_Loss: 0.8327 | Test_Acc: 0.7476\n",
      "Epoch: 183 | Training_Loss: 0.6823 | Training_Acc: 0.7790 | Test_Loss: 0.8309 | Test_Acc: 0.7475\n",
      "Epoch: 184 | Training_Loss: 0.6674 | Training_Acc: 0.7852 | Test_Loss: 0.8276 | Test_Acc: 0.7483\n",
      "Epoch: 185 | Training_Loss: 0.6734 | Training_Acc: 0.7807 | Test_Loss: 0.8482 | Test_Acc: 0.7306\n",
      "Epoch: 186 | Training_Loss: 0.7141 | Training_Acc: 0.7644 | Test_Loss: 0.8556 | Test_Acc: 0.7419\n",
      "Epoch: 187 | Training_Loss: 0.6791 | Training_Acc: 0.7812 | Test_Loss: 0.8404 | Test_Acc: 0.7450\n",
      "Epoch: 188 | Training_Loss: 0.6671 | Training_Acc: 0.7833 | Test_Loss: 0.8270 | Test_Acc: 0.7475\n",
      "Epoch: 189 | Training_Loss: 0.6486 | Training_Acc: 0.7900 | Test_Loss: 0.8313 | Test_Acc: 0.7466\n",
      "Epoch: 190 | Training_Loss: 0.6532 | Training_Acc: 0.7879 | Test_Loss: 0.8312 | Test_Acc: 0.7456\n",
      "Epoch: 191 | Training_Loss: 0.6539 | Training_Acc: 0.7884 | Test_Loss: 0.8583 | Test_Acc: 0.7247\n",
      "Epoch: 192 | Training_Loss: 0.6928 | Training_Acc: 0.7724 | Test_Loss: 0.8592 | Test_Acc: 0.7400\n",
      "Epoch: 193 | Training_Loss: 0.6661 | Training_Acc: 0.7841 | Test_Loss: 0.8519 | Test_Acc: 0.7419\n",
      "Epoch: 194 | Training_Loss: 0.6521 | Training_Acc: 0.7867 | Test_Loss: 0.8350 | Test_Acc: 0.7448\n",
      "Epoch: 195 | Training_Loss: 0.6352 | Training_Acc: 0.7936 | Test_Loss: 0.8322 | Test_Acc: 0.7477\n",
      "Epoch: 196 | Training_Loss: 0.6293 | Training_Acc: 0.7953 | Test_Loss: 0.8421 | Test_Acc: 0.7447\n",
      "Epoch: 197 | Training_Loss: 0.6262 | Training_Acc: 0.7948 | Test_Loss: 0.8489 | Test_Acc: 0.7421\n",
      "Epoch: 198 | Training_Loss: 0.6434 | Training_Acc: 0.7892 | Test_Loss: 0.8568 | Test_Acc: 0.7415\n",
      "Epoch: 199 | Training_Loss: 0.6371 | Training_Acc: 0.7934 | Test_Loss: 0.8696 | Test_Acc: 0.7370\n"
     ]
    }
   ],
   "source": [
    "from tqdm.auto import tqdm\n",
    "\n",
    "set_seeds()\n",
    "\n",
    "# Setup the num_epochs hyperparameter\n",
    "NUM_EPOCHS = 200\n",
    "\n",
    "\n",
    "results = train(model=model_0,\n",
    "                train_dataloader=train_dataloader,\n",
    "                test_dataloader=test_dataloader, \n",
    "                optimizer=optimizer,\n",
    "                loss_fn=loss_fn,\n",
    "                accuracy_fn = accuracy_fn,\n",
    "                epochs=NUM_EPOCHS,\n",
    "                device='cuda')"
   ]
  },
  {
   "cell_type": "markdown",
   "id": "b7d2a871",
   "metadata": {
    "papermill": {
     "duration": 0.032107,
     "end_time": "2024-06-01T06:29:38.699266",
     "exception": false,
     "start_time": "2024-06-01T06:29:38.667159",
     "status": "completed"
    },
    "tags": []
   },
   "source": [
    "## Plot training results"
   ]
  },
  {
   "cell_type": "code",
   "execution_count": 28,
   "id": "4da96ebc",
   "metadata": {
    "execution": {
     "iopub.execute_input": "2024-06-01T06:29:38.765898Z",
     "iopub.status.busy": "2024-06-01T06:29:38.765375Z",
     "iopub.status.idle": "2024-06-01T06:29:38.773885Z",
     "shell.execute_reply": "2024-06-01T06:29:38.773072Z"
    },
    "papermill": {
     "duration": 0.043795,
     "end_time": "2024-06-01T06:29:38.775709",
     "exception": false,
     "start_time": "2024-06-01T06:29:38.731914",
     "status": "completed"
    },
    "tags": []
   },
   "outputs": [],
   "source": [
    "def plot_results(Training_Loss, Training_Acc, Test_Loss, Test_Acc):\n",
    "    plt.figure(figsize=(10,5))\n",
    "    \n",
    "    plt.subplot(1,2,1)\n",
    "    plt.plot(Training_Loss, color=\"blue\", label=\"Training Loss\")\n",
    "    plt.plot(Test_Loss, color=\"green\", label=\"Test Loss\")\n",
    "    plt.title(\"Training and Test Loss curves\")\n",
    "    plt.xlabel(\"Epoch\")\n",
    "    plt.ylabel(\"Loss value\")\n",
    "    plt.legend()\n",
    "\n",
    "    plt.subplot(1,2,2)\n",
    "    plt.plot(Training_Acc, color=\"blue\", label=\"Training Accuracy\")\n",
    "    plt.plot(Test_Acc, color=\"green\", label=\"Test Accuracy\")\n",
    "    plt.title(\"Training and Test Accuracy curves\")\n",
    "    plt.xlabel(\"Epoch\")\n",
    "    plt.ylabel(\"Accuracy value\")\n",
    "    plt.legend()\n",
    "\n",
    "    plt.tight_layout()\n",
    "    plt.show()"
   ]
  },
  {
   "cell_type": "code",
   "execution_count": 29,
   "id": "8289577c",
   "metadata": {
    "execution": {
     "iopub.execute_input": "2024-06-01T06:29:38.841790Z",
     "iopub.status.busy": "2024-06-01T06:29:38.841064Z",
     "iopub.status.idle": "2024-06-01T06:29:39.536476Z",
     "shell.execute_reply": "2024-06-01T06:29:39.535617Z"
    },
    "papermill": {
     "duration": 0.731414,
     "end_time": "2024-06-01T06:29:39.539191",
     "exception": false,
     "start_time": "2024-06-01T06:29:38.807777",
     "status": "completed"
    },
    "tags": []
   },
   "outputs": [
    {
     "data": {
      "image/png": "[encoded data removed]",
      "text/plain": [
       "<Figure size 1000x500 with 2 Axes>"
      ]
     },
     "metadata": {},
     "output_type": "display_data"
    }
   ],
   "source": [
    "plot_results(results[\"Training_Loss\"], results[\"Training_Acc\"], results[\"Test_Loss\"], results[\"Test_Acc\"])"
   ]
  },
  {
   "cell_type": "markdown",
   "id": "3324aabe",
   "metadata": {
    "papermill": {
     "duration": 0.033505,
     "end_time": "2024-06-01T06:29:39.606884",
     "exception": false,
     "start_time": "2024-06-01T06:29:39.573379",
     "status": "completed"
    },
    "tags": []
   },
   "source": [
    "# Bi-LSTM"
   ]
  },
  {
   "cell_type": "code",
   "execution_count": 30,
   "id": "182ea033",
   "metadata": {
    "execution": {
     "iopub.execute_input": "2024-06-01T06:29:39.676791Z",
     "iopub.status.busy": "2024-06-01T06:29:39.676017Z",
     "iopub.status.idle": "2024-06-01T06:29:39.687503Z",
     "shell.execute_reply": "2024-06-01T06:29:39.686651Z"
    },
    "papermill": {
     "duration": 0.048762,
     "end_time": "2024-06-01T06:29:39.689465",
     "exception": false,
     "start_time": "2024-06-01T06:29:39.640703",
     "status": "completed"
    },
    "tags": []
   },
   "outputs": [
    {
     "data": {
      "text/plain": [
       "LSTM_Model(\n",
       "  (lstm): LSTM(7, 128, batch_first=True, bidirectional=True)\n",
       "  (classifier): Sequential(\n",
       "    (0): LayerNorm((256,), eps=1e-05, elementwise_affine=True)\n",
       "    (1): Linear(in_features=256, out_features=256, bias=True)\n",
       "    (2): ReLU()\n",
       "    (3): LayerNorm((256,), eps=1e-05, elementwise_affine=True)\n",
       "    (4): Linear(in_features=256, out_features=256, bias=True)\n",
       "    (5): ReLU()\n",
       "    (6): LayerNorm((256,), eps=1e-05, elementwise_affine=True)\n",
       "    (7): Linear(in_features=256, out_features=11, bias=True)\n",
       "  )\n",
       ")"
      ]
     },
     "execution_count": 30,
     "metadata": {},
     "output_type": "execute_result"
    }
   ],
   "source": [
    "torch.manual_seed(42)\n",
    "torch.cuda.manual_seed(42)\n",
    "\n",
    "model_1 = LSTM_Model(embedding_size = len(cols),\n",
    "                     hidden_state_size = 128,\n",
    "                     output_size = 11,\n",
    "                     bidirectional=True\n",
    "                    )\n",
    "model_1"
   ]
  },
  {
   "cell_type": "markdown",
   "id": "1c2a88c3",
   "metadata": {
    "papermill": {
     "duration": 0.033641,
     "end_time": "2024-06-01T06:29:39.757491",
     "exception": false,
     "start_time": "2024-06-01T06:29:39.723850",
     "status": "completed"
    },
    "tags": []
   },
   "source": [
    "## Train model"
   ]
  },
  {
   "cell_type": "code",
   "execution_count": 31,
   "id": "fe1fe1d5",
   "metadata": {
    "execution": {
     "iopub.execute_input": "2024-06-01T06:29:39.829332Z",
     "iopub.status.busy": "2024-06-01T06:29:39.828554Z",
     "iopub.status.idle": "2024-06-01T06:29:39.835912Z",
     "shell.execute_reply": "2024-06-01T06:29:39.835156Z"
    },
    "papermill": {
     "duration": 0.04575,
     "end_time": "2024-06-01T06:29:39.838045",
     "exception": false,
     "start_time": "2024-06-01T06:29:39.792295",
     "status": "completed"
    },
    "tags": []
   },
   "outputs": [],
   "source": [
    "# Setup loss function and optimizer\n",
    "loss_fn = nn.CrossEntropyLoss()\n",
    "optimizer = torch.optim.Adam(params=model_1.parameters(), lr=0.001)\n",
    "accuracy_fn = torchmetrics.F1Score(task = 'multiclass', num_classes=11)"
   ]
  },
  {
   "cell_type": "code",
   "execution_count": 32,
   "id": "b3cc44f9",
   "metadata": {
    "execution": {
     "iopub.execute_input": "2024-06-01T06:29:39.908981Z",
     "iopub.status.busy": "2024-06-01T06:29:39.908153Z",
     "iopub.status.idle": "2024-06-01T07:11:55.820570Z",
     "shell.execute_reply": "2024-06-01T07:11:55.819398Z"
    },
    "papermill": {
     "duration": 2535.949361,
     "end_time": "2024-06-01T07:11:55.822830",
     "exception": false,
     "start_time": "2024-06-01T06:29:39.873469",
     "status": "completed"
    },
    "tags": []
   },
   "outputs": [
    {
     "data": {
      "application/vnd.jupyter.widget-view+json": {
       "model_id": "871b668bf7834174a26385582e997b33",
       "version_major": 2,
       "version_minor": 0
      },
      "text/plain": [
       "  0%|          | 0/200 [00:00<?, ?it/s]"
      ]
     },
     "metadata": {},
     "output_type": "display_data"
    },
    {
     "name": "stdout",
     "output_type": "stream",
     "text": [
      "Epoch: 0 | Training_Loss: 2.0716 | Training_Acc: 0.2509 | Test_Loss: 1.7676 | Test_Acc: 0.3017\n",
      "Epoch: 1 | Training_Loss: 1.8242 | Training_Acc: 0.3173 | Test_Loss: 1.5459 | Test_Acc: 0.3860\n",
      "Epoch: 2 | Training_Loss: 1.5767 | Training_Acc: 0.4131 | Test_Loss: 1.5442 | Test_Acc: 0.3912\n",
      "Epoch: 3 | Training_Loss: 1.5272 | Training_Acc: 0.4422 | Test_Loss: 1.3587 | Test_Acc: 0.4459\n",
      "Epoch: 4 | Training_Loss: 1.4323 | Training_Acc: 0.5028 | Test_Loss: 1.2877 | Test_Acc: 0.5447\n",
      "Epoch: 5 | Training_Loss: 1.4240 | Training_Acc: 0.4951 | Test_Loss: 1.4424 | Test_Acc: 0.4789\n",
      "Epoch: 6 | Training_Loss: 1.4072 | Training_Acc: 0.5145 | Test_Loss: 1.3328 | Test_Acc: 0.5050\n",
      "Epoch: 7 | Training_Loss: 1.3719 | Training_Acc: 0.5313 | Test_Loss: 1.2199 | Test_Acc: 0.5828\n",
      "Epoch: 8 | Training_Loss: 1.2920 | Training_Acc: 0.5618 | Test_Loss: 1.2198 | Test_Acc: 0.5600\n",
      "Epoch: 9 | Training_Loss: 1.2858 | Training_Acc: 0.5570 | Test_Loss: 1.1832 | Test_Acc: 0.5971\n",
      "Epoch: 10 | Training_Loss: 1.2585 | Training_Acc: 0.5801 | Test_Loss: 1.2146 | Test_Acc: 0.5536\n",
      "Epoch: 11 | Training_Loss: 1.2724 | Training_Acc: 0.5598 | Test_Loss: 1.1941 | Test_Acc: 0.6141\n",
      "Epoch: 12 | Training_Loss: 1.2860 | Training_Acc: 0.5771 | Test_Loss: 1.1144 | Test_Acc: 0.6413\n",
      "Epoch: 13 | Training_Loss: 1.2291 | Training_Acc: 0.5940 | Test_Loss: 1.1139 | Test_Acc: 0.6379\n",
      "Epoch: 14 | Training_Loss: 1.1684 | Training_Acc: 0.6280 | Test_Loss: 1.0829 | Test_Acc: 0.6628\n",
      "Epoch: 15 | Training_Loss: 1.1370 | Training_Acc: 0.6437 | Test_Loss: 1.0541 | Test_Acc: 0.6760\n",
      "Epoch: 16 | Training_Loss: 1.1182 | Training_Acc: 0.6479 | Test_Loss: 1.0371 | Test_Acc: 0.6778\n",
      "Epoch: 17 | Training_Loss: 1.1083 | Training_Acc: 0.6513 | Test_Loss: 1.0156 | Test_Acc: 0.6913\n",
      "Epoch: 18 | Training_Loss: 1.0988 | Training_Acc: 0.6513 | Test_Loss: 1.0164 | Test_Acc: 0.6891\n",
      "Epoch: 19 | Training_Loss: 1.0728 | Training_Acc: 0.6659 | Test_Loss: 1.0172 | Test_Acc: 0.6811\n",
      "Epoch: 20 | Training_Loss: 1.0760 | Training_Acc: 0.6671 | Test_Loss: 0.9883 | Test_Acc: 0.7006\n",
      "Epoch: 21 | Training_Loss: 1.1080 | Training_Acc: 0.6476 | Test_Loss: 1.0003 | Test_Acc: 0.6925\n",
      "Epoch: 22 | Training_Loss: 1.0426 | Training_Acc: 0.6761 | Test_Loss: 0.9940 | Test_Acc: 0.6768\n",
      "Epoch: 23 | Training_Loss: 1.0439 | Training_Acc: 0.6737 | Test_Loss: 0.9916 | Test_Acc: 0.6943\n",
      "Epoch: 24 | Training_Loss: 1.0361 | Training_Acc: 0.6753 | Test_Loss: 0.9670 | Test_Acc: 0.7015\n",
      "Epoch: 25 | Training_Loss: 1.0018 | Training_Acc: 0.6902 | Test_Loss: 0.9682 | Test_Acc: 0.7000\n",
      "Epoch: 26 | Training_Loss: 0.9824 | Training_Acc: 0.6976 | Test_Loss: 0.9539 | Test_Acc: 0.6943\n",
      "Epoch: 27 | Training_Loss: 1.0194 | Training_Acc: 0.6778 | Test_Loss: 0.9642 | Test_Acc: 0.7025\n",
      "Epoch: 28 | Training_Loss: 0.9988 | Training_Acc: 0.6905 | Test_Loss: 0.9556 | Test_Acc: 0.7049\n",
      "Epoch: 29 | Training_Loss: 1.0192 | Training_Acc: 0.6868 | Test_Loss: 0.9452 | Test_Acc: 0.7094\n",
      "Epoch: 30 | Training_Loss: 0.9582 | Training_Acc: 0.7024 | Test_Loss: 0.9329 | Test_Acc: 0.7109\n",
      "Epoch: 31 | Training_Loss: 0.9589 | Training_Acc: 0.7031 | Test_Loss: 0.9236 | Test_Acc: 0.7157\n",
      "Epoch: 32 | Training_Loss: 0.9700 | Training_Acc: 0.6988 | Test_Loss: 0.9208 | Test_Acc: 0.7170\n",
      "Epoch: 33 | Training_Loss: 0.9356 | Training_Acc: 0.7104 | Test_Loss: 0.9213 | Test_Acc: 0.7120\n",
      "Epoch: 34 | Training_Loss: 0.9332 | Training_Acc: 0.7116 | Test_Loss: 0.9027 | Test_Acc: 0.7203\n",
      "Epoch: 35 | Training_Loss: 0.9509 | Training_Acc: 0.7041 | Test_Loss: 0.9095 | Test_Acc: 0.7218\n",
      "Epoch: 36 | Training_Loss: 0.9524 | Training_Acc: 0.7047 | Test_Loss: 0.9012 | Test_Acc: 0.7210\n",
      "Epoch: 37 | Training_Loss: 0.9213 | Training_Acc: 0.7124 | Test_Loss: 0.9032 | Test_Acc: 0.7201\n",
      "Epoch: 38 | Training_Loss: 0.9231 | Training_Acc: 0.7122 | Test_Loss: 0.8825 | Test_Acc: 0.7281\n",
      "Epoch: 39 | Training_Loss: 0.9003 | Training_Acc: 0.7213 | Test_Loss: 0.8863 | Test_Acc: 0.7251\n",
      "Epoch: 40 | Training_Loss: 0.9057 | Training_Acc: 0.7193 | Test_Loss: 0.8852 | Test_Acc: 0.7265\n",
      "Epoch: 41 | Training_Loss: 0.8986 | Training_Acc: 0.7196 | Test_Loss: 0.8917 | Test_Acc: 0.7276\n",
      "Epoch: 42 | Training_Loss: 0.9192 | Training_Acc: 0.7139 | Test_Loss: 0.8791 | Test_Acc: 0.7267\n",
      "Epoch: 43 | Training_Loss: 0.9000 | Training_Acc: 0.7174 | Test_Loss: 0.8766 | Test_Acc: 0.7306\n",
      "Epoch: 44 | Training_Loss: 0.9075 | Training_Acc: 0.7201 | Test_Loss: 0.8727 | Test_Acc: 0.7319\n",
      "Epoch: 45 | Training_Loss: 0.8958 | Training_Acc: 0.7181 | Test_Loss: 0.8803 | Test_Acc: 0.7270\n",
      "Epoch: 46 | Training_Loss: 0.8920 | Training_Acc: 0.7254 | Test_Loss: 0.8787 | Test_Acc: 0.7282\n",
      "Epoch: 47 | Training_Loss: 0.8839 | Training_Acc: 0.7222 | Test_Loss: 0.8733 | Test_Acc: 0.7285\n",
      "Epoch: 48 | Training_Loss: 0.8733 | Training_Acc: 0.7283 | Test_Loss: 0.8715 | Test_Acc: 0.7322\n",
      "Epoch: 49 | Training_Loss: 0.8662 | Training_Acc: 0.7301 | Test_Loss: 0.8736 | Test_Acc: 0.7298\n",
      "Epoch: 50 | Training_Loss: 0.8676 | Training_Acc: 0.7296 | Test_Loss: 0.8719 | Test_Acc: 0.7306\n",
      "Epoch: 51 | Training_Loss: 0.8623 | Training_Acc: 0.7302 | Test_Loss: 0.8706 | Test_Acc: 0.7312\n",
      "Epoch: 52 | Training_Loss: 0.8592 | Training_Acc: 0.7298 | Test_Loss: 0.8720 | Test_Acc: 0.7283\n",
      "Epoch: 53 | Training_Loss: 0.8599 | Training_Acc: 0.7300 | Test_Loss: 0.9017 | Test_Acc: 0.7104\n",
      "Epoch: 54 | Training_Loss: 0.8996 | Training_Acc: 0.7154 | Test_Loss: 0.8968 | Test_Acc: 0.7203\n",
      "Epoch: 55 | Training_Loss: 0.8806 | Training_Acc: 0.7238 | Test_Loss: 0.8875 | Test_Acc: 0.7245\n",
      "Epoch: 56 | Training_Loss: 0.8613 | Training_Acc: 0.7339 | Test_Loss: 0.8887 | Test_Acc: 0.7243\n",
      "Epoch: 57 | Training_Loss: 0.8575 | Training_Acc: 0.7324 | Test_Loss: 0.8958 | Test_Acc: 0.7211\n",
      "Epoch: 58 | Training_Loss: 0.8466 | Training_Acc: 0.7325 | Test_Loss: 0.8698 | Test_Acc: 0.7287\n",
      "Epoch: 59 | Training_Loss: 0.8307 | Training_Acc: 0.7397 | Test_Loss: 0.8675 | Test_Acc: 0.7313\n",
      "Epoch: 60 | Training_Loss: 0.8303 | Training_Acc: 0.7413 | Test_Loss: 0.8727 | Test_Acc: 0.7266\n",
      "Epoch: 61 | Training_Loss: 0.8510 | Training_Acc: 0.7296 | Test_Loss: 0.8768 | Test_Acc: 0.7269\n",
      "Epoch: 62 | Training_Loss: 0.8358 | Training_Acc: 0.7390 | Test_Loss: 0.8732 | Test_Acc: 0.7258\n",
      "Epoch: 63 | Training_Loss: 0.8478 | Training_Acc: 0.7305 | Test_Loss: 0.8987 | Test_Acc: 0.7227\n",
      "Epoch: 64 | Training_Loss: 0.8502 | Training_Acc: 0.7363 | Test_Loss: 0.8925 | Test_Acc: 0.7122\n",
      "Epoch: 65 | Training_Loss: 0.8216 | Training_Acc: 0.7411 | Test_Loss: 0.8756 | Test_Acc: 0.7233\n",
      "Epoch: 66 | Training_Loss: 0.8274 | Training_Acc: 0.7405 | Test_Loss: 0.8694 | Test_Acc: 0.7266\n",
      "Epoch: 67 | Training_Loss: 0.8212 | Training_Acc: 0.7410 | Test_Loss: 0.8805 | Test_Acc: 0.7234\n",
      "Epoch: 68 | Training_Loss: 0.8446 | Training_Acc: 0.7352 | Test_Loss: 0.8815 | Test_Acc: 0.7224\n",
      "Epoch: 69 | Training_Loss: 0.8106 | Training_Acc: 0.7454 | Test_Loss: 0.8641 | Test_Acc: 0.7309\n",
      "Epoch: 70 | Training_Loss: 0.8289 | Training_Acc: 0.7428 | Test_Loss: 0.8529 | Test_Acc: 0.7353\n",
      "Epoch: 71 | Training_Loss: 0.7902 | Training_Acc: 0.7512 | Test_Loss: 0.8445 | Test_Acc: 0.7374\n",
      "Epoch: 72 | Training_Loss: 0.7917 | Training_Acc: 0.7503 | Test_Loss: 0.8474 | Test_Acc: 0.7383\n",
      "Epoch: 73 | Training_Loss: 0.7983 | Training_Acc: 0.7441 | Test_Loss: 0.8549 | Test_Acc: 0.7319\n",
      "Epoch: 74 | Training_Loss: 0.8194 | Training_Acc: 0.7355 | Test_Loss: 0.8804 | Test_Acc: 0.7315\n",
      "Epoch: 75 | Training_Loss: 0.8124 | Training_Acc: 0.7416 | Test_Loss: 0.8560 | Test_Acc: 0.7335\n",
      "Epoch: 76 | Training_Loss: 0.8120 | Training_Acc: 0.7421 | Test_Loss: 0.8592 | Test_Acc: 0.7322\n",
      "Epoch: 77 | Training_Loss: 0.7947 | Training_Acc: 0.7503 | Test_Loss: 0.8479 | Test_Acc: 0.7315\n",
      "Epoch: 78 | Training_Loss: 0.7719 | Training_Acc: 0.7578 | Test_Loss: 0.8360 | Test_Acc: 0.7376\n",
      "Epoch: 79 | Training_Loss: 0.7721 | Training_Acc: 0.7558 | Test_Loss: 0.8573 | Test_Acc: 0.7309\n",
      "Epoch: 80 | Training_Loss: 0.7714 | Training_Acc: 0.7571 | Test_Loss: 0.8560 | Test_Acc: 0.7308\n",
      "Epoch: 81 | Training_Loss: 0.7789 | Training_Acc: 0.7523 | Test_Loss: 0.8617 | Test_Acc: 0.7301\n",
      "Epoch: 82 | Training_Loss: 0.7624 | Training_Acc: 0.7578 | Test_Loss: 0.8371 | Test_Acc: 0.7443\n",
      "Epoch: 83 | Training_Loss: 0.7744 | Training_Acc: 0.7572 | Test_Loss: 0.8447 | Test_Acc: 0.7399\n",
      "Epoch: 84 | Training_Loss: 0.7644 | Training_Acc: 0.7579 | Test_Loss: 0.8342 | Test_Acc: 0.7432\n",
      "Epoch: 85 | Training_Loss: 0.7514 | Training_Acc: 0.7625 | Test_Loss: 0.8343 | Test_Acc: 0.7450\n",
      "Epoch: 86 | Training_Loss: 0.7576 | Training_Acc: 0.7605 | Test_Loss: 0.8642 | Test_Acc: 0.7367\n",
      "Epoch: 87 | Training_Loss: 0.7566 | Training_Acc: 0.7604 | Test_Loss: 0.8293 | Test_Acc: 0.7407\n",
      "Epoch: 88 | Training_Loss: 0.7494 | Training_Acc: 0.7616 | Test_Loss: 0.8272 | Test_Acc: 0.7425\n",
      "Epoch: 89 | Training_Loss: 0.7381 | Training_Acc: 0.7648 | Test_Loss: 0.8242 | Test_Acc: 0.7460\n",
      "Epoch: 90 | Training_Loss: 0.7548 | Training_Acc: 0.7593 | Test_Loss: 0.8429 | Test_Acc: 0.7401\n",
      "Epoch: 91 | Training_Loss: 0.7398 | Training_Acc: 0.7678 | Test_Loss: 0.8466 | Test_Acc: 0.7394\n",
      "Epoch: 92 | Training_Loss: 0.7398 | Training_Acc: 0.7681 | Test_Loss: 0.8294 | Test_Acc: 0.7447\n",
      "Epoch: 93 | Training_Loss: 0.7292 | Training_Acc: 0.7695 | Test_Loss: 0.8372 | Test_Acc: 0.7389\n",
      "Epoch: 94 | Training_Loss: 0.7221 | Training_Acc: 0.7713 | Test_Loss: 0.8238 | Test_Acc: 0.7448\n",
      "Epoch: 95 | Training_Loss: 0.7054 | Training_Acc: 0.7767 | Test_Loss: 0.8190 | Test_Acc: 0.7468\n",
      "Epoch: 96 | Training_Loss: 0.6949 | Training_Acc: 0.7790 | Test_Loss: 0.8347 | Test_Acc: 0.7423\n",
      "Epoch: 97 | Training_Loss: 0.6915 | Training_Acc: 0.7788 | Test_Loss: 0.8289 | Test_Acc: 0.7433\n",
      "Epoch: 98 | Training_Loss: 0.7057 | Training_Acc: 0.7737 | Test_Loss: 0.8530 | Test_Acc: 0.7375\n",
      "Epoch: 99 | Training_Loss: 0.6935 | Training_Acc: 0.7804 | Test_Loss: 0.8399 | Test_Acc: 0.7427\n",
      "Epoch: 100 | Training_Loss: 0.6896 | Training_Acc: 0.7808 | Test_Loss: 0.8563 | Test_Acc: 0.7434\n",
      "Epoch: 101 | Training_Loss: 0.6900 | Training_Acc: 0.7794 | Test_Loss: 0.8600 | Test_Acc: 0.7452\n",
      "Epoch: 102 | Training_Loss: 0.7025 | Training_Acc: 0.7746 | Test_Loss: 0.8519 | Test_Acc: 0.7396\n",
      "Epoch: 103 | Training_Loss: 0.7359 | Training_Acc: 0.7665 | Test_Loss: 0.8403 | Test_Acc: 0.7440\n",
      "Epoch: 104 | Training_Loss: 0.6973 | Training_Acc: 0.7769 | Test_Loss: 0.8340 | Test_Acc: 0.7453\n",
      "Epoch: 105 | Training_Loss: 0.6865 | Training_Acc: 0.7805 | Test_Loss: 0.8365 | Test_Acc: 0.7459\n",
      "Epoch: 106 | Training_Loss: 0.6856 | Training_Acc: 0.7822 | Test_Loss: 0.8355 | Test_Acc: 0.7472\n",
      "Epoch: 107 | Training_Loss: 0.6744 | Training_Acc: 0.7847 | Test_Loss: 0.8411 | Test_Acc: 0.7456\n",
      "Epoch: 108 | Training_Loss: 0.6652 | Training_Acc: 0.7849 | Test_Loss: 0.8368 | Test_Acc: 0.7512\n",
      "Epoch: 109 | Training_Loss: 0.6544 | Training_Acc: 0.7914 | Test_Loss: 0.8393 | Test_Acc: 0.7504\n",
      "Epoch: 110 | Training_Loss: 0.6512 | Training_Acc: 0.7923 | Test_Loss: 0.8533 | Test_Acc: 0.7466\n",
      "Epoch: 111 | Training_Loss: 0.6458 | Training_Acc: 0.7941 | Test_Loss: 0.8568 | Test_Acc: 0.7446\n",
      "Epoch: 112 | Training_Loss: 0.6802 | Training_Acc: 0.7833 | Test_Loss: 0.8587 | Test_Acc: 0.7425\n",
      "Epoch: 113 | Training_Loss: 0.6824 | Training_Acc: 0.7805 | Test_Loss: 0.8534 | Test_Acc: 0.7412\n",
      "Epoch: 114 | Training_Loss: 0.6660 | Training_Acc: 0.7855 | Test_Loss: 0.8494 | Test_Acc: 0.7457\n",
      "Epoch: 115 | Training_Loss: 0.6447 | Training_Acc: 0.7918 | Test_Loss: 0.8564 | Test_Acc: 0.7476\n",
      "Epoch: 116 | Training_Loss: 0.6382 | Training_Acc: 0.7968 | Test_Loss: 0.8417 | Test_Acc: 0.7499\n",
      "Epoch: 117 | Training_Loss: 0.6222 | Training_Acc: 0.7997 | Test_Loss: 0.8280 | Test_Acc: 0.7535\n",
      "Epoch: 118 | Training_Loss: 0.6052 | Training_Acc: 0.8053 | Test_Loss: 0.8344 | Test_Acc: 0.7508\n",
      "Epoch: 119 | Training_Loss: 0.6114 | Training_Acc: 0.8016 | Test_Loss: 0.8638 | Test_Acc: 0.7394\n",
      "Epoch: 120 | Training_Loss: 0.6253 | Training_Acc: 0.7977 | Test_Loss: 0.9720 | Test_Acc: 0.7206\n",
      "Epoch: 121 | Training_Loss: 0.6617 | Training_Acc: 0.7919 | Test_Loss: 0.8679 | Test_Acc: 0.7412\n",
      "Epoch: 122 | Training_Loss: 0.6426 | Training_Acc: 0.7966 | Test_Loss: 0.8774 | Test_Acc: 0.7411\n",
      "Epoch: 123 | Training_Loss: 0.6186 | Training_Acc: 0.8015 | Test_Loss: 0.8786 | Test_Acc: 0.7432\n",
      "Epoch: 124 | Training_Loss: 0.6027 | Training_Acc: 0.8071 | Test_Loss: 0.8928 | Test_Acc: 0.7360\n",
      "Epoch: 125 | Training_Loss: 0.6008 | Training_Acc: 0.8074 | Test_Loss: 0.8892 | Test_Acc: 0.7420\n",
      "Epoch: 126 | Training_Loss: 0.6202 | Training_Acc: 0.7986 | Test_Loss: 0.8902 | Test_Acc: 0.7364\n",
      "Epoch: 127 | Training_Loss: 0.6512 | Training_Acc: 0.7850 | Test_Loss: 0.9409 | Test_Acc: 0.7262\n",
      "Epoch: 128 | Training_Loss: 0.6725 | Training_Acc: 0.7820 | Test_Loss: 0.9373 | Test_Acc: 0.7241\n",
      "Epoch: 129 | Training_Loss: 0.6541 | Training_Acc: 0.7856 | Test_Loss: 0.9226 | Test_Acc: 0.7309\n",
      "Epoch: 130 | Training_Loss: 0.6523 | Training_Acc: 0.7852 | Test_Loss: 0.9010 | Test_Acc: 0.7376\n",
      "Epoch: 131 | Training_Loss: 0.6312 | Training_Acc: 0.7949 | Test_Loss: 0.9153 | Test_Acc: 0.7428\n",
      "Epoch: 132 | Training_Loss: 0.6155 | Training_Acc: 0.7973 | Test_Loss: 0.8959 | Test_Acc: 0.7429\n",
      "Epoch: 133 | Training_Loss: 0.6006 | Training_Acc: 0.8035 | Test_Loss: 0.8840 | Test_Acc: 0.7461\n",
      "Epoch: 134 | Training_Loss: 0.6044 | Training_Acc: 0.8014 | Test_Loss: 0.8801 | Test_Acc: 0.7467\n",
      "Epoch: 135 | Training_Loss: 0.5821 | Training_Acc: 0.8093 | Test_Loss: 0.8758 | Test_Acc: 0.7492\n",
      "Epoch: 136 | Training_Loss: 0.5696 | Training_Acc: 0.8143 | Test_Loss: 0.8717 | Test_Acc: 0.7493\n",
      "Epoch: 137 | Training_Loss: 0.5607 | Training_Acc: 0.8186 | Test_Loss: 0.8861 | Test_Acc: 0.7494\n",
      "Epoch: 138 | Training_Loss: 0.5804 | Training_Acc: 0.8143 | Test_Loss: 0.8964 | Test_Acc: 0.7438\n",
      "Epoch: 139 | Training_Loss: 0.5574 | Training_Acc: 0.8181 | Test_Loss: 0.8705 | Test_Acc: 0.7487\n",
      "Epoch: 140 | Training_Loss: 0.5442 | Training_Acc: 0.8223 | Test_Loss: 0.8850 | Test_Acc: 0.7461\n",
      "Epoch: 141 | Training_Loss: 0.5288 | Training_Acc: 0.8264 | Test_Loss: 0.8891 | Test_Acc: 0.7455\n",
      "Epoch: 142 | Training_Loss: 0.5318 | Training_Acc: 0.8246 | Test_Loss: 0.8981 | Test_Acc: 0.7412\n",
      "Epoch: 143 | Training_Loss: 0.5320 | Training_Acc: 0.8226 | Test_Loss: 0.9032 | Test_Acc: 0.7412\n",
      "Epoch: 144 | Training_Loss: 0.5515 | Training_Acc: 0.8163 | Test_Loss: 0.9285 | Test_Acc: 0.7371\n",
      "Epoch: 145 | Training_Loss: 0.5732 | Training_Acc: 0.8122 | Test_Loss: 0.9455 | Test_Acc: 0.7357\n",
      "Epoch: 146 | Training_Loss: 0.5849 | Training_Acc: 0.8084 | Test_Loss: 0.9368 | Test_Acc: 0.7349\n",
      "Epoch: 147 | Training_Loss: 0.5780 | Training_Acc: 0.8099 | Test_Loss: 0.9365 | Test_Acc: 0.7358\n",
      "Epoch: 148 | Training_Loss: 0.5619 | Training_Acc: 0.8178 | Test_Loss: 0.9092 | Test_Acc: 0.7417\n",
      "Epoch: 149 | Training_Loss: 0.5483 | Training_Acc: 0.8177 | Test_Loss: 0.9265 | Test_Acc: 0.7415\n",
      "Epoch: 150 | Training_Loss: 0.5224 | Training_Acc: 0.8278 | Test_Loss: 0.9125 | Test_Acc: 0.7454\n",
      "Epoch: 151 | Training_Loss: 0.5138 | Training_Acc: 0.8322 | Test_Loss: 0.9184 | Test_Acc: 0.7418\n",
      "Epoch: 152 | Training_Loss: 0.5165 | Training_Acc: 0.8318 | Test_Loss: 0.9187 | Test_Acc: 0.7433\n",
      "Epoch: 153 | Training_Loss: 0.4908 | Training_Acc: 0.8389 | Test_Loss: 0.9299 | Test_Acc: 0.7477\n",
      "Epoch: 154 | Training_Loss: 0.4935 | Training_Acc: 0.8381 | Test_Loss: 0.9401 | Test_Acc: 0.7445\n",
      "Epoch: 155 | Training_Loss: 0.4895 | Training_Acc: 0.8382 | Test_Loss: 0.9376 | Test_Acc: 0.7428\n",
      "Epoch: 156 | Training_Loss: 0.4818 | Training_Acc: 0.8404 | Test_Loss: 0.9460 | Test_Acc: 0.7430\n",
      "Epoch: 157 | Training_Loss: 0.4848 | Training_Acc: 0.8407 | Test_Loss: 0.9518 | Test_Acc: 0.7425\n",
      "Epoch: 158 | Training_Loss: 0.4790 | Training_Acc: 0.8407 | Test_Loss: 0.9230 | Test_Acc: 0.7481\n",
      "Epoch: 159 | Training_Loss: 0.4731 | Training_Acc: 0.8419 | Test_Loss: 0.9245 | Test_Acc: 0.7450\n",
      "Epoch: 160 | Training_Loss: 0.4720 | Training_Acc: 0.8428 | Test_Loss: 0.9333 | Test_Acc: 0.7446\n",
      "Epoch: 161 | Training_Loss: 0.4719 | Training_Acc: 0.8449 | Test_Loss: 0.9387 | Test_Acc: 0.7374\n",
      "Epoch: 162 | Training_Loss: 0.4749 | Training_Acc: 0.8417 | Test_Loss: 0.9608 | Test_Acc: 0.7369\n",
      "Epoch: 163 | Training_Loss: 0.4808 | Training_Acc: 0.8399 | Test_Loss: 0.9786 | Test_Acc: 0.7352\n",
      "Epoch: 164 | Training_Loss: 0.4834 | Training_Acc: 0.8401 | Test_Loss: 0.9923 | Test_Acc: 0.7335\n",
      "Epoch: 165 | Training_Loss: 0.4727 | Training_Acc: 0.8409 | Test_Loss: 1.0045 | Test_Acc: 0.7391\n",
      "Epoch: 166 | Training_Loss: 0.4620 | Training_Acc: 0.8455 | Test_Loss: 0.9881 | Test_Acc: 0.7421\n",
      "Epoch: 167 | Training_Loss: 0.4661 | Training_Acc: 0.8460 | Test_Loss: 1.0287 | Test_Acc: 0.7333\n",
      "Epoch: 168 | Training_Loss: 0.4995 | Training_Acc: 0.8328 | Test_Loss: 1.0400 | Test_Acc: 0.7298\n",
      "Epoch: 169 | Training_Loss: 0.5083 | Training_Acc: 0.8326 | Test_Loss: 1.0410 | Test_Acc: 0.7345\n",
      "Epoch: 170 | Training_Loss: 0.5079 | Training_Acc: 0.8326 | Test_Loss: 1.0108 | Test_Acc: 0.7381\n",
      "Epoch: 171 | Training_Loss: 0.4944 | Training_Acc: 0.8363 | Test_Loss: 1.0108 | Test_Acc: 0.7337\n",
      "Epoch: 172 | Training_Loss: 0.5161 | Training_Acc: 0.8337 | Test_Loss: 1.0018 | Test_Acc: 0.7399\n",
      "Epoch: 173 | Training_Loss: 0.4967 | Training_Acc: 0.8349 | Test_Loss: 1.0288 | Test_Acc: 0.7328\n",
      "Epoch: 174 | Training_Loss: 0.4763 | Training_Acc: 0.8405 | Test_Loss: 1.0221 | Test_Acc: 0.7381\n",
      "Epoch: 175 | Training_Loss: 0.4628 | Training_Acc: 0.8460 | Test_Loss: 0.9939 | Test_Acc: 0.7395\n",
      "Epoch: 176 | Training_Loss: 0.4479 | Training_Acc: 0.8491 | Test_Loss: 0.9914 | Test_Acc: 0.7438\n",
      "Epoch: 177 | Training_Loss: 0.4317 | Training_Acc: 0.8545 | Test_Loss: 0.9914 | Test_Acc: 0.7445\n",
      "Epoch: 178 | Training_Loss: 0.4329 | Training_Acc: 0.8566 | Test_Loss: 0.9950 | Test_Acc: 0.7400\n",
      "Epoch: 179 | Training_Loss: 0.4299 | Training_Acc: 0.8576 | Test_Loss: 0.9989 | Test_Acc: 0.7349\n",
      "Epoch: 180 | Training_Loss: 0.4336 | Training_Acc: 0.8552 | Test_Loss: 1.0133 | Test_Acc: 0.7405\n",
      "Epoch: 181 | Training_Loss: 0.4361 | Training_Acc: 0.8547 | Test_Loss: 1.0065 | Test_Acc: 0.7393\n",
      "Epoch: 182 | Training_Loss: 0.4231 | Training_Acc: 0.8585 | Test_Loss: 1.0128 | Test_Acc: 0.7407\n",
      "Epoch: 183 | Training_Loss: 0.4174 | Training_Acc: 0.8604 | Test_Loss: 1.0125 | Test_Acc: 0.7452\n",
      "Epoch: 184 | Training_Loss: 0.4111 | Training_Acc: 0.8618 | Test_Loss: 1.0336 | Test_Acc: 0.7383\n",
      "Epoch: 185 | Training_Loss: 0.4126 | Training_Acc: 0.8652 | Test_Loss: 1.0688 | Test_Acc: 0.7270\n",
      "Epoch: 186 | Training_Loss: 0.4364 | Training_Acc: 0.8556 | Test_Loss: 1.0949 | Test_Acc: 0.7267\n",
      "Epoch: 187 | Training_Loss: 0.4381 | Training_Acc: 0.8514 | Test_Loss: 1.1126 | Test_Acc: 0.7230\n",
      "Epoch: 188 | Training_Loss: 0.4432 | Training_Acc: 0.8520 | Test_Loss: 1.0862 | Test_Acc: 0.7282\n",
      "Epoch: 189 | Training_Loss: 0.4311 | Training_Acc: 0.8549 | Test_Loss: 1.1066 | Test_Acc: 0.7234\n",
      "Epoch: 190 | Training_Loss: 0.4290 | Training_Acc: 0.8577 | Test_Loss: 1.1121 | Test_Acc: 0.7231\n",
      "Epoch: 191 | Training_Loss: 0.4502 | Training_Acc: 0.8496 | Test_Loss: 1.0919 | Test_Acc: 0.7281\n",
      "Epoch: 192 | Training_Loss: 0.4526 | Training_Acc: 0.8487 | Test_Loss: 1.0573 | Test_Acc: 0.7410\n",
      "Epoch: 193 | Training_Loss: 0.4411 | Training_Acc: 0.8512 | Test_Loss: 1.0596 | Test_Acc: 0.7383\n",
      "Epoch: 194 | Training_Loss: 0.4281 | Training_Acc: 0.8570 | Test_Loss: 1.0811 | Test_Acc: 0.7343\n",
      "Epoch: 195 | Training_Loss: 0.4201 | Training_Acc: 0.8584 | Test_Loss: 1.1030 | Test_Acc: 0.7373\n",
      "Epoch: 196 | Training_Loss: 0.4166 | Training_Acc: 0.8608 | Test_Loss: 1.0733 | Test_Acc: 0.7356\n",
      "Epoch: 197 | Training_Loss: 0.4163 | Training_Acc: 0.8601 | Test_Loss: 1.0581 | Test_Acc: 0.7378\n",
      "Epoch: 198 | Training_Loss: 0.3977 | Training_Acc: 0.8678 | Test_Loss: 1.0593 | Test_Acc: 0.7438\n",
      "Epoch: 199 | Training_Loss: 0.3757 | Training_Acc: 0.8757 | Test_Loss: 1.0646 | Test_Acc: 0.7432\n"
     ]
    }
   ],
   "source": [
    "from tqdm.auto import tqdm\n",
    "\n",
    "set_seeds()\n",
    "\n",
    "# Setup the num_epochs hyperparameter\n",
    "NUM_EPOCHS = 200\n",
    "\n",
    "results = train(model=model_1,\n",
    "                train_dataloader=train_dataloader,\n",
    "                test_dataloader=test_dataloader,\n",
    "                optimizer=optimizer,\n",
    "                loss_fn=loss_fn,\n",
    "                accuracy_fn = accuracy_fn,\n",
    "                epochs=NUM_EPOCHS,\n",
    "                device='cuda')"
   ]
  },
  {
   "cell_type": "markdown",
   "id": "050bafc0",
   "metadata": {
    "papermill": {
     "duration": 0.048534,
     "end_time": "2024-06-01T07:11:55.920255",
     "exception": false,
     "start_time": "2024-06-01T07:11:55.871721",
     "status": "completed"
    },
    "tags": []
   },
   "source": [
    "## Plot training results"
   ]
  },
  {
   "cell_type": "code",
   "execution_count": 33,
   "id": "d9a992a8",
   "metadata": {
    "execution": {
     "iopub.execute_input": "2024-06-01T07:11:56.022926Z",
     "iopub.status.busy": "2024-06-01T07:11:56.022477Z",
     "iopub.status.idle": "2024-06-01T07:11:56.725176Z",
     "shell.execute_reply": "2024-06-01T07:11:56.724173Z"
    },
    "papermill": {
     "duration": 0.755206,
     "end_time": "2024-06-01T07:11:56.727246",
     "exception": false,
     "start_time": "2024-06-01T07:11:55.972040",
     "status": "completed"
    },
    "tags": []
   },
   "outputs": [
    {
     "data": {
      "image/png": "[encoded data removed]",
      "text/plain": [
       "<Figure size 1000x500 with 2 Axes>"
      ]
     },
     "metadata": {},
     "output_type": "display_data"
    }
   ],
   "source": [
    "plot_results(results[\"Training_Loss\"], results[\"Training_Acc\"], results[\"Test_Loss\"], results[\"Test_Acc\"])"
   ]
  },
  {
   "cell_type": "markdown",
   "id": "9ecc0a09",
   "metadata": {
    "papermill": {
     "duration": 0.052648,
     "end_time": "2024-06-01T07:11:56.833063",
     "exception": false,
     "start_time": "2024-06-01T07:11:56.780415",
     "status": "completed"
    },
    "tags": []
   },
   "source": [
    "# Evaluation"
   ]
  },
  {
   "cell_type": "code",
   "execution_count": 34,
   "id": "2faf1a14",
   "metadata": {
    "execution": {
     "iopub.execute_input": "2024-06-01T07:11:56.941025Z",
     "iopub.status.busy": "2024-06-01T07:11:56.940338Z",
     "iopub.status.idle": "2024-06-01T07:11:56.946820Z",
     "shell.execute_reply": "2024-06-01T07:11:56.945867Z"
    },
    "papermill": {
     "duration": 0.06263,
     "end_time": "2024-06-01T07:11:56.949121",
     "exception": false,
     "start_time": "2024-06-01T07:11:56.886491",
     "status": "completed"
    },
    "tags": []
   },
   "outputs": [
    {
     "name": "stdout",
     "output_type": "stream",
     "text": [
      "Dataloaders: <torch.utils.data.dataloader.DataLoader object at 0x7b88cfe46fe0>\n",
      "Length of eval dataset: 10682\n",
      "Length of eval dataloader: 11 batches of 1024\n"
     ]
    }
   ],
   "source": [
    "BATCH_SIZE = 1024\n",
    "eval_dataloader = DataLoader(test_dataset, batch_size=BATCH_SIZE, collate_fn = collate_fn, num_workers = NUM_CORES, pin_memory = True)\n",
    "\n",
    "# Let's check out what we've created\n",
    "print(f\"Dataloaders: {eval_dataloader}\") \n",
    "print(f\"Length of eval dataset: {len(eval_dataloader.dataset)}\")\n",
    "print(f\"Length of eval dataloader: {len(eval_dataloader)} batches of {BATCH_SIZE}\")"
   ]
  },
  {
   "cell_type": "code",
   "execution_count": 35,
   "id": "87a5b0e3",
   "metadata": {
    "execution": {
     "iopub.execute_input": "2024-06-01T07:11:57.056130Z",
     "iopub.status.busy": "2024-06-01T07:11:57.055354Z",
     "iopub.status.idle": "2024-06-01T07:11:58.894880Z",
     "shell.execute_reply": "2024-06-01T07:11:58.893786Z"
    },
    "papermill": {
     "duration": 1.896275,
     "end_time": "2024-06-01T07:11:58.897147",
     "exception": false,
     "start_time": "2024-06-01T07:11:57.000872",
     "status": "completed"
    },
    "tags": []
   },
   "outputs": [
    {
     "data": {
      "text/plain": [
       "(torch.Size([1024, 100, 7]), torch.Size([1024]))"
      ]
     },
     "execution_count": 35,
     "metadata": {},
     "output_type": "execute_result"
    }
   ],
   "source": [
    "features_batch, labels_batch = next(iter(eval_dataloader))\n",
    "features_batch.shape, labels_batch.shape"
   ]
  },
  {
   "cell_type": "markdown",
   "id": "22ab2b1c",
   "metadata": {
    "papermill": {
     "duration": 0.04951,
     "end_time": "2024-06-01T07:11:58.997514",
     "exception": false,
     "start_time": "2024-06-01T07:11:58.948004",
     "status": "completed"
    },
    "tags": []
   },
   "source": [
    "## LSTM"
   ]
  },
  {
   "cell_type": "code",
   "execution_count": 36,
   "id": "11695c5d",
   "metadata": {
    "collapsed": true,
    "execution": {
     "iopub.execute_input": "2024-06-01T07:11:59.098709Z",
     "iopub.status.busy": "2024-06-01T07:11:59.097857Z",
     "iopub.status.idle": "2024-06-01T07:12:02.824628Z",
     "shell.execute_reply": "2024-06-01T07:12:02.823362Z"
    },
    "jupyter": {
     "outputs_hidden": true
    },
    "papermill": {
     "duration": 3.77985,
     "end_time": "2024-06-01T07:12:02.826845",
     "exception": false,
     "start_time": "2024-06-01T07:11:59.046995",
     "status": "completed"
    },
    "tags": []
   },
   "outputs": [
    {
     "name": "stderr",
     "output_type": "stream",
     "text": [
      "/opt/conda/lib/python3.10/site-packages/sklearn/metrics/_classification.py:1344: UndefinedMetricWarning: Precision is ill-defined and being set to 0.0 in labels with no predicted samples. Use `zero_division` parameter to control this behavior.\n",
      "  _warn_prf(average, modifier, msg_start, len(result))\n",
      "/opt/conda/lib/python3.10/site-packages/sklearn/metrics/_classification.py:1344: UndefinedMetricWarning: Recall is ill-defined and being set to 0.0 in labels with no true samples. Use `zero_division` parameter to control this behavior.\n",
      "  _warn_prf(average, modifier, msg_start, len(result))\n",
      "/opt/conda/lib/python3.10/site-packages/sklearn/metrics/_classification.py:1344: UndefinedMetricWarning: Precision is ill-defined and being set to 0.0 in labels with no predicted samples. Use `zero_division` parameter to control this behavior.\n",
      "  _warn_prf(average, modifier, msg_start, len(result))\n",
      "/opt/conda/lib/python3.10/site-packages/sklearn/metrics/_classification.py:1344: UndefinedMetricWarning: Recall is ill-defined and being set to 0.0 in labels with no true samples. Use `zero_division` parameter to control this behavior.\n",
      "  _warn_prf(average, modifier, msg_start, len(result))\n",
      "/opt/conda/lib/python3.10/site-packages/sklearn/metrics/_classification.py:1344: UndefinedMetricWarning: Precision is ill-defined and being set to 0.0 in labels with no predicted samples. Use `zero_division` parameter to control this behavior.\n",
      "  _warn_prf(average, modifier, msg_start, len(result))\n",
      "/opt/conda/lib/python3.10/site-packages/sklearn/metrics/_classification.py:1344: UndefinedMetricWarning: Precision is ill-defined and being set to 0.0 in labels with no predicted samples. Use `zero_division` parameter to control this behavior.\n",
      "  _warn_prf(average, modifier, msg_start, len(result))\n",
      "/opt/conda/lib/python3.10/site-packages/sklearn/metrics/_classification.py:1344: UndefinedMetricWarning: Recall is ill-defined and being set to 0.0 in labels with no true samples. Use `zero_division` parameter to control this behavior.\n",
      "  _warn_prf(average, modifier, msg_start, len(result))\n",
      "/opt/conda/lib/python3.10/site-packages/sklearn/metrics/_classification.py:1344: UndefinedMetricWarning: Recall is ill-defined and being set to 0.0 in labels with no true samples. Use `zero_division` parameter to control this behavior.\n",
      "  _warn_prf(average, modifier, msg_start, len(result))\n",
      "/opt/conda/lib/python3.10/site-packages/sklearn/metrics/_classification.py:1344: UndefinedMetricWarning: Precision is ill-defined and being set to 0.0 in labels with no predicted samples. Use `zero_division` parameter to control this behavior.\n",
      "  _warn_prf(average, modifier, msg_start, len(result))\n",
      "/opt/conda/lib/python3.10/site-packages/sklearn/metrics/_classification.py:1344: UndefinedMetricWarning: Precision is ill-defined and being set to 0.0 in labels with no predicted samples. Use `zero_division` parameter to control this behavior.\n",
      "  _warn_prf(average, modifier, msg_start, len(result))\n",
      "/opt/conda/lib/python3.10/site-packages/sklearn/metrics/_classification.py:1344: UndefinedMetricWarning: Recall is ill-defined and being set to 0.0 in labels with no true samples. Use `zero_division` parameter to control this behavior.\n",
      "  _warn_prf(average, modifier, msg_start, len(result))\n",
      "/opt/conda/lib/python3.10/site-packages/sklearn/metrics/_classification.py:1344: UndefinedMetricWarning: Precision is ill-defined and being set to 0.0 in labels with no predicted samples. Use `zero_division` parameter to control this behavior.\n",
      "  _warn_prf(average, modifier, msg_start, len(result))\n",
      "/opt/conda/lib/python3.10/site-packages/sklearn/metrics/_classification.py:1344: UndefinedMetricWarning: Recall is ill-defined and being set to 0.0 in labels with no true samples. Use `zero_division` parameter to control this behavior.\n",
      "  _warn_prf(average, modifier, msg_start, len(result))\n"
     ]
    }
   ],
   "source": [
    "from sklearn.metrics import accuracy_score, precision_score, recall_score, f1_score\n",
    "\n",
    "accuracy = 0\n",
    "precision = 0\n",
    "recall = 0\n",
    "f1 = 0\n",
    "\n",
    "for X, y in eval_dataloader:\n",
    "    y_pred_0 = model_0(X.cuda())\n",
    "    y_pred_class_0 = torch.argmax(torch.softmax(y_pred_0, dim=1), dim=1)\n",
    "    \n",
    "    accuracy += accuracy_score(y, y_pred_class_0.cpu())\n",
    "    precision += precision_score(y, y_pred_class_0.cpu(), average = 'weighted')\n",
    "    recall += recall_score(y, y_pred_class_0.cpu(), average = 'weighted')\n",
    "    f1 += f1_score(y, y_pred_class_0.cpu(), average = 'weighted')\n",
    "    \n",
    "accuracy /= len(eval_dataloader)\n",
    "precision /= len(eval_dataloader)\n",
    "recall /= len(eval_dataloader)\n",
    "f1 /= len(eval_dataloader)"
   ]
  },
  {
   "cell_type": "code",
   "execution_count": 37,
   "id": "724ea68b",
   "metadata": {
    "execution": {
     "iopub.execute_input": "2024-06-01T07:12:02.929704Z",
     "iopub.status.busy": "2024-06-01T07:12:02.928835Z",
     "iopub.status.idle": "2024-06-01T07:12:02.934055Z",
     "shell.execute_reply": "2024-06-01T07:12:02.933143Z"
    },
    "papermill": {
     "duration": 0.059187,
     "end_time": "2024-06-01T07:12:02.936630",
     "exception": false,
     "start_time": "2024-06-01T07:12:02.877443",
     "status": "completed"
    },
    "tags": []
   },
   "outputs": [
    {
     "name": "stdout",
     "output_type": "stream",
     "text": [
      "0.7369873348159195\n",
      "0.7741567752692433\n",
      "0.7369873348159195\n",
      "0.7383774132182128\n"
     ]
    }
   ],
   "source": [
    "print(accuracy)\n",
    "print(precision)\n",
    "print(recall)\n",
    "print(f1)"
   ]
  },
  {
   "cell_type": "markdown",
   "id": "b439a973",
   "metadata": {
    "papermill": {
     "duration": 0.049648,
     "end_time": "2024-06-01T07:12:03.036416",
     "exception": false,
     "start_time": "2024-06-01T07:12:02.986768",
     "status": "completed"
    },
    "tags": []
   },
   "source": [
    "## Bi-LSTM"
   ]
  },
  {
   "cell_type": "code",
   "execution_count": 38,
   "id": "7df73f73",
   "metadata": {
    "execution": {
     "iopub.execute_input": "2024-06-01T07:12:03.140399Z",
     "iopub.status.busy": "2024-06-01T07:12:03.139488Z",
     "iopub.status.idle": "2024-06-01T07:12:03.147179Z",
     "shell.execute_reply": "2024-06-01T07:12:03.146460Z"
    },
    "papermill": {
     "duration": 0.062138,
     "end_time": "2024-06-01T07:12:03.149036",
     "exception": false,
     "start_time": "2024-06-01T07:12:03.086898",
     "status": "completed"
    },
    "tags": []
   },
   "outputs": [],
   "source": [
    "y_pred_1 = model_1(features_batch.cuda())\n",
    "y_pred_class_1 = torch.argmax(torch.softmax(y_pred_1, dim=1), dim=1)"
   ]
  },
  {
   "cell_type": "code",
   "execution_count": 39,
   "id": "5d2df593",
   "metadata": {
    "execution": {
     "iopub.execute_input": "2024-06-01T07:12:03.254078Z",
     "iopub.status.busy": "2024-06-01T07:12:03.253719Z",
     "iopub.status.idle": "2024-06-01T07:12:05.933548Z",
     "shell.execute_reply": "2024-06-01T07:12:05.932477Z"
    },
    "papermill": {
     "duration": 2.734043,
     "end_time": "2024-06-01T07:12:05.935786",
     "exception": false,
     "start_time": "2024-06-01T07:12:03.201743",
     "status": "completed"
    },
    "tags": []
   },
   "outputs": [
    {
     "name": "stderr",
     "output_type": "stream",
     "text": [
      "/opt/conda/lib/python3.10/site-packages/sklearn/metrics/_classification.py:1344: UndefinedMetricWarning: Precision is ill-defined and being set to 0.0 in labels with no predicted samples. Use `zero_division` parameter to control this behavior.\n",
      "  _warn_prf(average, modifier, msg_start, len(result))\n",
      "/opt/conda/lib/python3.10/site-packages/sklearn/metrics/_classification.py:1344: UndefinedMetricWarning: Recall is ill-defined and being set to 0.0 in labels with no true samples. Use `zero_division` parameter to control this behavior.\n",
      "  _warn_prf(average, modifier, msg_start, len(result))\n",
      "/opt/conda/lib/python3.10/site-packages/sklearn/metrics/_classification.py:1344: UndefinedMetricWarning: Precision is ill-defined and being set to 0.0 in labels with no predicted samples. Use `zero_division` parameter to control this behavior.\n",
      "  _warn_prf(average, modifier, msg_start, len(result))\n",
      "/opt/conda/lib/python3.10/site-packages/sklearn/metrics/_classification.py:1344: UndefinedMetricWarning: Recall is ill-defined and being set to 0.0 in labels with no true samples. Use `zero_division` parameter to control this behavior.\n",
      "  _warn_prf(average, modifier, msg_start, len(result))\n",
      "/opt/conda/lib/python3.10/site-packages/sklearn/metrics/_classification.py:1344: UndefinedMetricWarning: Recall is ill-defined and being set to 0.0 in labels with no true samples. Use `zero_division` parameter to control this behavior.\n",
      "  _warn_prf(average, modifier, msg_start, len(result))\n",
      "/opt/conda/lib/python3.10/site-packages/sklearn/metrics/_classification.py:1344: UndefinedMetricWarning: Recall is ill-defined and being set to 0.0 in labels with no true samples. Use `zero_division` parameter to control this behavior.\n",
      "  _warn_prf(average, modifier, msg_start, len(result))\n",
      "/opt/conda/lib/python3.10/site-packages/sklearn/metrics/_classification.py:1344: UndefinedMetricWarning: Precision is ill-defined and being set to 0.0 in labels with no predicted samples. Use `zero_division` parameter to control this behavior.\n",
      "  _warn_prf(average, modifier, msg_start, len(result))\n",
      "/opt/conda/lib/python3.10/site-packages/sklearn/metrics/_classification.py:1344: UndefinedMetricWarning: Precision is ill-defined and being set to 0.0 in labels with no predicted samples. Use `zero_division` parameter to control this behavior.\n",
      "  _warn_prf(average, modifier, msg_start, len(result))\n",
      "/opt/conda/lib/python3.10/site-packages/sklearn/metrics/_classification.py:1344: UndefinedMetricWarning: Recall is ill-defined and being set to 0.0 in labels with no true samples. Use `zero_division` parameter to control this behavior.\n",
      "  _warn_prf(average, modifier, msg_start, len(result))\n",
      "/opt/conda/lib/python3.10/site-packages/sklearn/metrics/_classification.py:1344: UndefinedMetricWarning: Precision is ill-defined and being set to 0.0 in labels with no predicted samples. Use `zero_division` parameter to control this behavior.\n",
      "  _warn_prf(average, modifier, msg_start, len(result))\n",
      "/opt/conda/lib/python3.10/site-packages/sklearn/metrics/_classification.py:1344: UndefinedMetricWarning: Recall is ill-defined and being set to 0.0 in labels with no true samples. Use `zero_division` parameter to control this behavior.\n",
      "  _warn_prf(average, modifier, msg_start, len(result))\n"
     ]
    }
   ],
   "source": [
    "from sklearn.metrics import accuracy_score, precision_score, recall_score, f1_score\n",
    "\n",
    "accuracy = 0\n",
    "precision = 0\n",
    "recall = 0\n",
    "f1 = 0\n",
    "\n",
    "for X, y in eval_dataloader:\n",
    "    y_pred_1 = model_1(X.cuda())\n",
    "    y_pred_class_1 = torch.argmax(torch.softmax(y_pred_1, dim=1), dim=1)\n",
    "    \n",
    "    accuracy += accuracy_score(y, y_pred_class_1.cpu())\n",
    "    precision += precision_score(y, y_pred_class_1.cpu(), average = 'weighted')\n",
    "    recall += recall_score(y, y_pred_class_1.cpu(), average = 'weighted')\n",
    "    f1 += f1_score(y, y_pred_class_1.cpu(), average = 'weighted')\n",
    "    \n",
    "accuracy /= len(eval_dataloader)\n",
    "precision /= len(eval_dataloader)\n",
    "recall /= len(eval_dataloader)\n",
    "f1 /= len(eval_dataloader)"
   ]
  },
  {
   "cell_type": "code",
   "execution_count": 40,
   "id": "066f14be",
   "metadata": {
    "execution": {
     "iopub.execute_input": "2024-06-01T07:12:06.040251Z",
     "iopub.status.busy": "2024-06-01T07:12:06.039333Z",
     "iopub.status.idle": "2024-06-01T07:12:06.045021Z",
     "shell.execute_reply": "2024-06-01T07:12:06.044049Z"
    },
    "papermill": {
     "duration": 0.05907,
     "end_time": "2024-06-01T07:12:06.046875",
     "exception": false,
     "start_time": "2024-06-01T07:12:05.987805",
     "status": "completed"
    },
    "tags": []
   },
   "outputs": [
    {
     "name": "stdout",
     "output_type": "stream",
     "text": [
      "0.7431825412638831\n",
      "0.7784430491994595\n",
      "0.7431825412638831\n",
      "0.7495117137906402\n"
     ]
    }
   ],
   "source": [
    "print(accuracy)\n",
    "print(precision)\n",
    "print(recall)\n",
    "print(f1)"
   ]
  },
  {
   "cell_type": "code",
   "execution_count": null,
   "id": "ec052b24",
   "metadata": {
    "papermill": {
     "duration": 0.051059,
     "end_time": "2024-06-01T07:12:06.148529",
     "exception": false,
     "start_time": "2024-06-01T07:12:06.097470",
     "status": "completed"
    },
    "tags": []
   },
   "outputs": [],
   "source": []
  }
 ],
 "metadata": {
  "kaggle": {
   "accelerator": "gpu",
   "dataSources": [
    {
     "datasetId": 5011386,
     "sourceId": 8526948,
     "sourceType": "datasetVersion"
    }
   ],
   "dockerImageVersionId": 30699,
   "isGpuEnabled": true,
   "isInternetEnabled": true,
   "language": "python",
   "sourceType": "notebook"
  },
  "kernelspec": {
   "display_name": "Python 3",
   "language": "python",
   "name": "python3"
  },
  "language_info": {
   "codemirror_mode": {
    "name": "ipython",
    "version": 3
   },
   "file_extension": ".py",
   "mimetype": "text/x-python",
   "name": "python",
   "nbconvert_exporter": "python",
   "pygments_lexer": "ipython3",
   "version": "3.10.13"
  },
  "papermill": {
   "default_parameters": {},
   "duration": 5024.827376,
   "end_time": "2024-06-01T07:12:09.572371",
   "environment_variables": {},
   "exception": null,
   "input_path": "__notebook__.ipynb",
   "output_path": "__notebook__.ipynb",
   "parameters": {},
   "start_time": "2024-06-01T05:48:24.744995",
   "version": "2.5.0"
  },
  "widgets": {
   "application/vnd.jupyter.widget-state+json": {
    "state": {
     "2044da0e89b848fbb25ef3b1645eb642": {
      "model_module": "@jupyter-widgets/controls",
      "model_module_version": "1.5.0",
      "model_name": "DescriptionStyleModel",
      "state": {
       "_model_module": "@jupyter-widgets/controls",
       "_model_module_version": "1.5.0",
       "_model_name": "DescriptionStyleModel",
       "_view_count": null,
       "_view_module": "@jupyter-widgets/base",
       "_view_module_version": "1.2.0",
       "_view_name": "StyleView",
       "description_width": ""
      }
     },
     "255dda8bfbe4485583e4322691c7fb3d": {
      "model_module": "@jupyter-widgets/base",
      "model_module_version": "1.2.0",
      "model_name": "LayoutModel",
      "state": {
       "_model_module": "@jupyter-widgets/base",
       "_model_module_version": "1.2.0",
       "_model_name": "LayoutModel",
       "_view_count": null,
       "_view_module": "@jupyter-widgets/base",
       "_view_module_version": "1.2.0",
       "_view_name": "LayoutView",
       "align_content": null,
       "align_items": null,
       "align_self": null,
       "border": null,
       "bottom": null,
       "display": null,
       "flex": null,
       "flex_flow": null,
       "grid_area": null,
       "grid_auto_columns": null,
       "grid_auto_flow": null,
       "grid_auto_rows": null,
       "grid_column": null,
       "grid_gap": null,
       "grid_row": null,
       "grid_template_areas": null,
       "grid_template_columns": null,
       "grid_template_rows": null,
       "height": null,
       "justify_content": null,
       "justify_items": null,
       "left": null,
       "margin": null,
       "max_height": null,
       "max_width": null,
       "min_height": null,
       "min_width": null,
       "object_fit": null,
       "object_position": null,
       "order": null,
       "overflow": null,
       "overflow_x": null,
       "overflow_y": null,
       "padding": null,
       "right": null,
       "top": null,
       "visibility": null,
       "width": null
      }
     },
     "2d990cb58717458daf43f710feb0276c": {
      "model_module": "@jupyter-widgets/base",
      "model_module_version": "1.2.0",
      "model_name": "LayoutModel",
      "state": {
       "_model_module": "@jupyter-widgets/base",
       "_model_module_version": "1.2.0",
       "_model_name": "LayoutModel",
       "_view_count": null,
       "_view_module": "@jupyter-widgets/base",
       "_view_module_version": "1.2.0",
       "_view_name": "LayoutView",
       "align_content": null,
       "align_items": null,
       "align_self": null,
       "border": null,
       "bottom": null,
       "display": null,
       "flex": null,
       "flex_flow": null,
       "grid_area": null,
       "grid_auto_columns": null,
       "grid_auto_flow": null,
       "grid_auto_rows": null,
       "grid_column": null,
       "grid_gap": null,
       "grid_row": null,
       "grid_template_areas": null,
       "grid_template_columns": null,
       "grid_template_rows": null,
       "height": null,
       "justify_content": null,
       "justify_items": null,
       "left": null,
       "margin": null,
       "max_height": null,
       "max_width": null,
       "min_height": null,
       "min_width": null,
       "object_fit": null,
       "object_position": null,
       "order": null,
       "overflow": null,
       "overflow_x": null,
       "overflow_y": null,
       "padding": null,
       "right": null,
       "top": null,
       "visibility": null,
       "width": null
      }
     },
     "34396b1528cc44bd8a4ca1a229bf7fd7": {
      "model_module": "@jupyter-widgets/base",
      "model_module_version": "1.2.0",
      "model_name": "LayoutModel",
      "state": {
       "_model_module": "@jupyter-widgets/base",
       "_model_module_version": "1.2.0",
       "_model_name": "LayoutModel",
       "_view_count": null,
       "_view_module": "@jupyter-widgets/base",
       "_view_module_version": "1.2.0",
       "_view_name": "LayoutView",
       "align_content": null,
       "align_items": null,
       "align_self": null,
       "border": null,
       "bottom": null,
       "display": null,
       "flex": null,
       "flex_flow": null,
       "grid_area": null,
       "grid_auto_columns": null,
       "grid_auto_flow": null,
       "grid_auto_rows": null,
       "grid_column": null,
       "grid_gap": null,
       "grid_row": null,
       "grid_template_areas": null,
       "grid_template_columns": null,
       "grid_template_rows": null,
       "height": null,
       "justify_content": null,
       "justify_items": null,
       "left": null,
       "margin": null,
       "max_height": null,
       "max_width": null,
       "min_height": null,
       "min_width": null,
       "object_fit": null,
       "object_position": null,
       "order": null,
       "overflow": null,
       "overflow_x": null,
       "overflow_y": null,
       "padding": null,
       "right": null,
       "top": null,
       "visibility": null,
       "width": null
      }
     },
     "764eab8cec2f42538be61de2f0005ecf": {
      "model_module": "@jupyter-widgets/controls",
      "model_module_version": "1.5.0",
      "model_name": "DescriptionStyleModel",
      "state": {
       "_model_module": "@jupyter-widgets/controls",
       "_model_module_version": "1.5.0",
       "_model_name": "DescriptionStyleModel",
       "_view_count": null,
       "_view_module": "@jupyter-widgets/base",
       "_view_module_version": "1.2.0",
       "_view_name": "StyleView",
       "description_width": ""
      }
     },
     "78dc8f2f9ae9431a9863b473d03f6b59": {
      "model_module": "@jupyter-widgets/controls",
      "model_module_version": "1.5.0",
      "model_name": "HBoxModel",
      "state": {
       "_dom_classes": [],
       "_model_module": "@jupyter-widgets/controls",
       "_model_module_version": "1.5.0",
       "_model_name": "HBoxModel",
       "_view_count": null,
       "_view_module": "@jupyter-widgets/controls",
       "_view_module_version": "1.5.0",
       "_view_name": "HBoxView",
       "box_style": "",
       "children": [
        "IPY_MODEL_fd0ad8621ff54d209a1b700cb3ad633b",
        "IPY_MODEL_e999144ea81d4e63a3aa0f9419e3759e",
        "IPY_MODEL_f38884427f4b43eeb6b21fd16102955c"
       ],
       "layout": "IPY_MODEL_255dda8bfbe4485583e4322691c7fb3d"
      }
     },
     "871b668bf7834174a26385582e997b33": {
      "model_module": "@jupyter-widgets/controls",
      "model_module_version": "1.5.0",
      "model_name": "HBoxModel",
      "state": {
       "_dom_classes": [],
       "_model_module": "@jupyter-widgets/controls",
       "_model_module_version": "1.5.0",
       "_model_name": "HBoxModel",
       "_view_count": null,
       "_view_module": "@jupyter-widgets/controls",
       "_view_module_version": "1.5.0",
       "_view_name": "HBoxView",
       "box_style": "",
       "children": [
        "IPY_MODEL_e8e8ca59d87c4daf938e1d9939d316ff",
        "IPY_MODEL_eecb5da67f264f9eb651be8295181f59",
        "IPY_MODEL_f78edb42ade44fb683a41ff14b284025"
       ],
       "layout": "IPY_MODEL_2d990cb58717458daf43f710feb0276c"
      }
     },
     "af4bc4ef2194410da527f32d5dabf1d0": {
      "model_module": "@jupyter-widgets/base",
      "model_module_version": "1.2.0",
      "model_name": "LayoutModel",
      "state": {
       "_model_module": "@jupyter-widgets/base",
       "_model_module_version": "1.2.0",
       "_model_name": "LayoutModel",
       "_view_count": null,
       "_view_module": "@jupyter-widgets/base",
       "_view_module_version": "1.2.0",
       "_view_name": "LayoutView",
       "align_content": null,
       "align_items": null,
       "align_self": null,
       "border": null,
       "bottom": null,
       "display": null,
       "flex": null,
       "flex_flow": null,
       "grid_area": null,
       "grid_auto_columns": null,
       "grid_auto_flow": null,
       "grid_auto_rows": null,
       "grid_column": null,
       "grid_gap": null,
       "grid_row": null,
       "grid_template_areas": null,
       "grid_template_columns": null,
       "grid_template_rows": null,
       "height": null,
       "justify_content": null,
       "justify_items": null,
       "left": null,
       "margin": null,
       "max_height": null,
       "max_width": null,
       "min_height": null,
       "min_width": null,
       "object_fit": null,
       "object_position": null,
       "order": null,
       "overflow": null,
       "overflow_x": null,
       "overflow_y": null,
       "padding": null,
       "right": null,
       "top": null,
       "visibility": null,
       "width": null
      }
     },
     "af6f4c83efa546d3939434dd193b3ad7": {
      "model_module": "@jupyter-widgets/base",
      "model_module_version": "1.2.0",
      "model_name": "LayoutModel",
      "state": {
       "_model_module": "@jupyter-widgets/base",
       "_model_module_version": "1.2.0",
       "_model_name": "LayoutModel",
       "_view_count": null,
       "_view_module": "@jupyter-widgets/base",
       "_view_module_version": "1.2.0",
       "_view_name": "LayoutView",
       "align_content": null,
       "align_items": null,
       "align_self": null,
       "border": null,
       "bottom": null,
       "display": null,
       "flex": null,
       "flex_flow": null,
       "grid_area": null,
       "grid_auto_columns": null,
       "grid_auto_flow": null,
       "grid_auto_rows": null,
       "grid_column": null,
       "grid_gap": null,
       "grid_row": null,
       "grid_template_areas": null,
       "grid_template_columns": null,
       "grid_template_rows": null,
       "height": null,
       "justify_content": null,
       "justify_items": null,
       "left": null,
       "margin": null,
       "max_height": null,
       "max_width": null,
       "min_height": null,
       "min_width": null,
       "object_fit": null,
       "object_position": null,
       "order": null,
       "overflow": null,
       "overflow_x": null,
       "overflow_y": null,
       "padding": null,
       "right": null,
       "top": null,
       "visibility": null,
       "width": null
      }
     },
     "c8fa6f321dc64882a74e2129fc2acd80": {
      "model_module": "@jupyter-widgets/base",
      "model_module_version": "1.2.0",
      "model_name": "LayoutModel",
      "state": {
       "_model_module": "@jupyter-widgets/base",
       "_model_module_version": "1.2.0",
       "_model_name": "LayoutModel",
       "_view_count": null,
       "_view_module": "@jupyter-widgets/base",
       "_view_module_version": "1.2.0",
       "_view_name": "LayoutView",
       "align_content": null,
       "align_items": null,
       "align_self": null,
       "border": null,
       "bottom": null,
       "display": null,
       "flex": null,
       "flex_flow": null,
       "grid_area": null,
       "grid_auto_columns": null,
       "grid_auto_flow": null,
       "grid_auto_rows": null,
       "grid_column": null,
       "grid_gap": null,
       "grid_row": null,
       "grid_template_areas": null,
       "grid_template_columns": null,
       "grid_template_rows": null,
       "height": null,
       "justify_content": null,
       "justify_items": null,
       "left": null,
       "margin": null,
       "max_height": null,
       "max_width": null,
       "min_height": null,
       "min_width": null,
       "object_fit": null,
       "object_position": null,
       "order": null,
       "overflow": null,
       "overflow_x": null,
       "overflow_y": null,
       "padding": null,
       "right": null,
       "top": null,
       "visibility": null,
       "width": null
      }
     },
     "d1e7c4a46dfe49af81a52d2cb8397308": {
      "model_module": "@jupyter-widgets/controls",
      "model_module_version": "1.5.0",
      "model_name": "DescriptionStyleModel",
      "state": {
       "_model_module": "@jupyter-widgets/controls",
       "_model_module_version": "1.5.0",
       "_model_name": "DescriptionStyleModel",
       "_view_count": null,
       "_view_module": "@jupyter-widgets/base",
       "_view_module_version": "1.2.0",
       "_view_name": "StyleView",
       "description_width": ""
      }
     },
     "e4e8b3dfa4354639be69af140173ad57": {
      "model_module": "@jupyter-widgets/base",
      "model_module_version": "1.2.0",
      "model_name": "LayoutModel",
      "state": {
       "_model_module": "@jupyter-widgets/base",
       "_model_module_version": "1.2.0",
       "_model_name": "LayoutModel",
       "_view_count": null,
       "_view_module": "@jupyter-widgets/base",
       "_view_module_version": "1.2.0",
       "_view_name": "LayoutView",
       "align_content": null,
       "align_items": null,
       "align_self": null,
       "border": null,
       "bottom": null,
       "display": null,
       "flex": null,
       "flex_flow": null,
       "grid_area": null,
       "grid_auto_columns": null,
       "grid_auto_flow": null,
       "grid_auto_rows": null,
       "grid_column": null,
       "grid_gap": null,
       "grid_row": null,
       "grid_template_areas": null,
       "grid_template_columns": null,
       "grid_template_rows": null,
       "height": null,
       "justify_content": null,
       "justify_items": null,
       "left": null,
       "margin": null,
       "max_height": null,
       "max_width": null,
       "min_height": null,
       "min_width": null,
       "object_fit": null,
       "object_position": null,
       "order": null,
       "overflow": null,
       "overflow_x": null,
       "overflow_y": null,
       "padding": null,
       "right": null,
       "top": null,
       "visibility": null,
       "width": null
      }
     },
     "e8e8ca59d87c4daf938e1d9939d316ff": {
      "model_module": "@jupyter-widgets/controls",
      "model_module_version": "1.5.0",
      "model_name": "HTMLModel",
      "state": {
       "_dom_classes": [],
       "_model_module": "@jupyter-widgets/controls",
       "_model_module_version": "1.5.0",
       "_model_name": "HTMLModel",
       "_view_count": null,
       "_view_module": "@jupyter-widgets/controls",
       "_view_module_version": "1.5.0",
       "_view_name": "HTMLView",
       "description": "",
       "description_tooltip": null,
       "layout": "IPY_MODEL_34396b1528cc44bd8a4ca1a229bf7fd7",
       "placeholder": "​",
       "style": "IPY_MODEL_764eab8cec2f42538be61de2f0005ecf",
       "value": "100%"
      }
     },
     "e999144ea81d4e63a3aa0f9419e3759e": {
      "model_module": "@jupyter-widgets/controls",
      "model_module_version": "1.5.0",
      "model_name": "FloatProgressModel",
      "state": {
       "_dom_classes": [],
       "_model_module": "@jupyter-widgets/controls",
       "_model_module_version": "1.5.0",
       "_model_name": "FloatProgressModel",
       "_view_count": null,
       "_view_module": "@jupyter-widgets/controls",
       "_view_module_version": "1.5.0",
       "_view_name": "ProgressView",
       "bar_style": "success",
       "description": "",
       "description_tooltip": null,
       "layout": "IPY_MODEL_af6f4c83efa546d3939434dd193b3ad7",
       "max": 200.0,
       "min": 0.0,
       "orientation": "horizontal",
       "style": "IPY_MODEL_eb78da1888284f0e9c343b4c8d3b601b",
       "value": 200.0
      }
     },
     "eb78da1888284f0e9c343b4c8d3b601b": {
      "model_module": "@jupyter-widgets/controls",
      "model_module_version": "1.5.0",
      "model_name": "ProgressStyleModel",
      "state": {
       "_model_module": "@jupyter-widgets/controls",
       "_model_module_version": "1.5.0",
       "_model_name": "ProgressStyleModel",
       "_view_count": null,
       "_view_module": "@jupyter-widgets/base",
       "_view_module_version": "1.2.0",
       "_view_name": "StyleView",
       "bar_color": null,
       "description_width": ""
      }
     },
     "eecb5da67f264f9eb651be8295181f59": {
      "model_module": "@jupyter-widgets/controls",
      "model_module_version": "1.5.0",
      "model_name": "FloatProgressModel",
      "state": {
       "_dom_classes": [],
       "_model_module": "@jupyter-widgets/controls",
       "_model_module_version": "1.5.0",
       "_model_name": "FloatProgressModel",
       "_view_count": null,
       "_view_module": "@jupyter-widgets/controls",
       "_view_module_version": "1.5.0",
       "_view_name": "ProgressView",
       "bar_style": "success",
       "description": "",
       "description_tooltip": null,
       "layout": "IPY_MODEL_af4bc4ef2194410da527f32d5dabf1d0",
       "max": 200.0,
       "min": 0.0,
       "orientation": "horizontal",
       "style": "IPY_MODEL_ff9c5d0170864fec9080b8053e0ee574",
       "value": 200.0
      }
     },
     "f2620dcc10804c2ebecc628979524ac3": {
      "model_module": "@jupyter-widgets/base",
      "model_module_version": "1.2.0",
      "model_name": "LayoutModel",
      "state": {
       "_model_module": "@jupyter-widgets/base",
       "_model_module_version": "1.2.0",
       "_model_name": "LayoutModel",
       "_view_count": null,
       "_view_module": "@jupyter-widgets/base",
       "_view_module_version": "1.2.0",
       "_view_name": "LayoutView",
       "align_content": null,
       "align_items": null,
       "align_self": null,
       "border": null,
       "bottom": null,
       "display": null,
       "flex": null,
       "flex_flow": null,
       "grid_area": null,
       "grid_auto_columns": null,
       "grid_auto_flow": null,
       "grid_auto_rows": null,
       "grid_column": null,
       "grid_gap": null,
       "grid_row": null,
       "grid_template_areas": null,
       "grid_template_columns": null,
       "grid_template_rows": null,
       "height": null,
       "justify_content": null,
       "justify_items": null,
       "left": null,
       "margin": null,
       "max_height": null,
       "max_width": null,
       "min_height": null,
       "min_width": null,
       "object_fit": null,
       "object_position": null,
       "order": null,
       "overflow": null,
       "overflow_x": null,
       "overflow_y": null,
       "padding": null,
       "right": null,
       "top": null,
       "visibility": null,
       "width": null
      }
     },
     "f38884427f4b43eeb6b21fd16102955c": {
      "model_module": "@jupyter-widgets/controls",
      "model_module_version": "1.5.0",
      "model_name": "HTMLModel",
      "state": {
       "_dom_classes": [],
       "_model_module": "@jupyter-widgets/controls",
       "_model_module_version": "1.5.0",
       "_model_name": "HTMLModel",
       "_view_count": null,
       "_view_module": "@jupyter-widgets/controls",
       "_view_module_version": "1.5.0",
       "_view_name": "HTMLView",
       "description": "",
       "description_tooltip": null,
       "layout": "IPY_MODEL_e4e8b3dfa4354639be69af140173ad57",
       "placeholder": "​",
       "style": "IPY_MODEL_f579393410504cce8c2ae064c9addae6",
       "value": " 200/200 [40:26&lt;00:00, 12.15s/it]"
      }
     },
     "f579393410504cce8c2ae064c9addae6": {
      "model_module": "@jupyter-widgets/controls",
      "model_module_version": "1.5.0",
      "model_name": "DescriptionStyleModel",
      "state": {
       "_model_module": "@jupyter-widgets/controls",
       "_model_module_version": "1.5.0",
       "_model_name": "DescriptionStyleModel",
       "_view_count": null,
       "_view_module": "@jupyter-widgets/base",
       "_view_module_version": "1.2.0",
       "_view_name": "StyleView",
       "description_width": ""
      }
     },
     "f78edb42ade44fb683a41ff14b284025": {
      "model_module": "@jupyter-widgets/controls",
      "model_module_version": "1.5.0",
      "model_name": "HTMLModel",
      "state": {
       "_dom_classes": [],
       "_model_module": "@jupyter-widgets/controls",
       "_model_module_version": "1.5.0",
       "_model_name": "HTMLModel",
       "_view_count": null,
       "_view_module": "@jupyter-widgets/controls",
       "_view_module_version": "1.5.0",
       "_view_name": "HTMLView",
       "description": "",
       "description_tooltip": null,
       "layout": "IPY_MODEL_f2620dcc10804c2ebecc628979524ac3",
       "placeholder": "​",
       "style": "IPY_MODEL_2044da0e89b848fbb25ef3b1645eb642",
       "value": " 200/200 [42:15&lt;00:00, 12.67s/it]"
      }
     },
     "fd0ad8621ff54d209a1b700cb3ad633b": {
      "model_module": "@jupyter-widgets/controls",
      "model_module_version": "1.5.0",
      "model_name": "HTMLModel",
      "state": {
       "_dom_classes": [],
       "_model_module": "@jupyter-widgets/controls",
       "_model_module_version": "1.5.0",
       "_model_name": "HTMLModel",
       "_view_count": null,
       "_view_module": "@jupyter-widgets/controls",
       "_view_module_version": "1.5.0",
       "_view_name": "HTMLView",
       "description": "",
       "description_tooltip": null,
       "layout": "IPY_MODEL_c8fa6f321dc64882a74e2129fc2acd80",
       "placeholder": "​",
       "style": "IPY_MODEL_d1e7c4a46dfe49af81a52d2cb8397308",
       "value": "100%"
      }
     },
     "ff9c5d0170864fec9080b8053e0ee574": {
      "model_module": "@jupyter-widgets/controls",
      "model_module_version": "1.5.0",
      "model_name": "ProgressStyleModel",
      "state": {
       "_model_module": "@jupyter-widgets/controls",
       "_model_module_version": "1.5.0",
       "_model_name": "ProgressStyleModel",
       "_view_count": null,
       "_view_module": "@jupyter-widgets/base",
       "_view_module_version": "1.2.0",
       "_view_name": "StyleView",
       "bar_color": null,
       "description_width": ""
      }
     }
    },
    "version_major": 2,
    "version_minor": 0
   }
  }
 },
 "nbformat": 4,
 "nbformat_minor": 5
}
