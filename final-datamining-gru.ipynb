{
 "cells": [
  {
   "cell_type": "markdown",
   "id": "bcc7fa57",
   "metadata": {
    "papermill": {
     "duration": 0.011043,
     "end_time": "2024-06-01T05:52:01.327504",
     "exception": false,
     "start_time": "2024-06-01T05:52:01.316461",
     "status": "completed"
    },
    "tags": []
   },
   "source": [
    "# Data"
   ]
  },
  {
   "cell_type": "code",
   "execution_count": 1,
   "id": "17f97ec8",
   "metadata": {
    "_cell_guid": "b1076dfc-b9ad-4769-8c92-a6c4dae69d19",
    "_uuid": "8f2839f25d086af736a60e9eeb907d3b93b6e0e5",
    "execution": {
     "iopub.execute_input": "2024-06-01T05:52:01.350378Z",
     "iopub.status.busy": "2024-06-01T05:52:01.350061Z",
     "iopub.status.idle": "2024-06-01T05:52:09.835055Z",
     "shell.execute_reply": "2024-06-01T05:52:09.834151Z"
    },
    "papermill": {
     "duration": 8.499125,
     "end_time": "2024-06-01T05:52:09.837372",
     "exception": false,
     "start_time": "2024-06-01T05:52:01.338247",
     "status": "completed"
    },
    "tags": []
   },
   "outputs": [],
   "source": [
    "import numpy as np\n",
    "import pandas as pd\n",
    "import torch\n",
    "from torch import nn\n",
    "import torchmetrics\n",
    "import matplotlib.pyplot as plt\n",
    "import math"
   ]
  },
  {
   "cell_type": "code",
   "execution_count": 2,
   "id": "08926830",
   "metadata": {
    "execution": {
     "iopub.execute_input": "2024-06-01T05:52:09.862119Z",
     "iopub.status.busy": "2024-06-01T05:52:09.861069Z",
     "iopub.status.idle": "2024-06-01T05:52:09.917010Z",
     "shell.execute_reply": "2024-06-01T05:52:09.916101Z"
    },
    "papermill": {
     "duration": 0.070259,
     "end_time": "2024-06-01T05:52:09.919055",
     "exception": false,
     "start_time": "2024-06-01T05:52:09.848796",
     "status": "completed"
    },
    "tags": []
   },
   "outputs": [
    {
     "data": {
      "text/plain": [
       "'cuda'"
      ]
     },
     "execution_count": 2,
     "metadata": {},
     "output_type": "execute_result"
    }
   ],
   "source": [
    "device = \"mps\" if torch.backends.mps.is_available() \\\n",
    "    else \"cuda\" if torch.cuda.is_available() else \"cpu\"\n",
    "device"
   ]
  },
  {
   "cell_type": "code",
   "execution_count": 3,
   "id": "276f7611",
   "metadata": {
    "execution": {
     "iopub.execute_input": "2024-06-01T05:52:09.943599Z",
     "iopub.status.busy": "2024-06-01T05:52:09.943286Z",
     "iopub.status.idle": "2024-06-01T05:52:26.359097Z",
     "shell.execute_reply": "2024-06-01T05:52:26.358180Z"
    },
    "papermill": {
     "duration": 16.431001,
     "end_time": "2024-06-01T05:52:26.361242",
     "exception": false,
     "start_time": "2024-06-01T05:52:09.930241",
     "status": "completed"
    },
    "tags": []
   },
   "outputs": [
    {
     "data": {
      "text/html": [
       "<div>\n",
       "<style scoped>\n",
       "    .dataframe tbody tr th:only-of-type {\n",
       "        vertical-align: middle;\n",
       "    }\n",
       "\n",
       "    .dataframe tbody tr th {\n",
       "        vertical-align: top;\n",
       "    }\n",
       "\n",
       "    .dataframe thead th {\n",
       "        text-align: right;\n",
       "    }\n",
       "</style>\n",
       "<table border=\"1\" class=\"dataframe\">\n",
       "  <thead>\n",
       "    <tr style=\"text-align: right;\">\n",
       "      <th></th>\n",
       "      <th>lat</th>\n",
       "      <th>lon</th>\n",
       "      <th>alt</th>\n",
       "      <th>time</th>\n",
       "      <th>label</th>\n",
       "      <th>tid</th>\n",
       "      <th>time_diff</th>\n",
       "      <th>partition</th>\n",
       "      <th>distance</th>\n",
       "      <th>speed</th>\n",
       "      <th>acceleration</th>\n",
       "      <th>bearing</th>\n",
       "      <th>pitch</th>\n",
       "      <th>user</th>\n",
       "    </tr>\n",
       "  </thead>\n",
       "  <tbody>\n",
       "    <tr>\n",
       "      <th>0</th>\n",
       "      <td>31.445176</td>\n",
       "      <td>91.989489</td>\n",
       "      <td>4522.9272</td>\n",
       "      <td>2008-10-01 05:58:52</td>\n",
       "      <td>0</td>\n",
       "      <td>010_101</td>\n",
       "      <td>0.0</td>\n",
       "      <td>010_101_0</td>\n",
       "      <td>0.000000</td>\n",
       "      <td>0.000000</td>\n",
       "      <td>0.000000</td>\n",
       "      <td>0.000000</td>\n",
       "      <td>0.0</td>\n",
       "      <td>10</td>\n",
       "    </tr>\n",
       "    <tr>\n",
       "      <th>1</th>\n",
       "      <td>31.445176</td>\n",
       "      <td>91.989506</td>\n",
       "      <td>4522.9272</td>\n",
       "      <td>2008-10-01 05:58:53</td>\n",
       "      <td>0</td>\n",
       "      <td>010_101</td>\n",
       "      <td>1.0</td>\n",
       "      <td>010_101_0</td>\n",
       "      <td>1.612702</td>\n",
       "      <td>1.612702</td>\n",
       "      <td>1.612702</td>\n",
       "      <td>89.999996</td>\n",
       "      <td>0.0</td>\n",
       "      <td>10</td>\n",
       "    </tr>\n",
       "    <tr>\n",
       "      <th>2</th>\n",
       "      <td>31.445183</td>\n",
       "      <td>91.989559</td>\n",
       "      <td>4522.9272</td>\n",
       "      <td>2008-10-01 05:58:54</td>\n",
       "      <td>0</td>\n",
       "      <td>010_101</td>\n",
       "      <td>1.0</td>\n",
       "      <td>010_101_0</td>\n",
       "      <td>5.087728</td>\n",
       "      <td>5.087728</td>\n",
       "      <td>3.475026</td>\n",
       "      <td>81.199824</td>\n",
       "      <td>0.0</td>\n",
       "      <td>10</td>\n",
       "    </tr>\n",
       "    <tr>\n",
       "      <th>3</th>\n",
       "      <td>31.445186</td>\n",
       "      <td>91.989575</td>\n",
       "      <td>4522.9272</td>\n",
       "      <td>2008-10-01 05:58:55</td>\n",
       "      <td>0</td>\n",
       "      <td>010_101</td>\n",
       "      <td>1.0</td>\n",
       "      <td>010_101_0</td>\n",
       "      <td>1.554062</td>\n",
       "      <td>1.554062</td>\n",
       "      <td>-3.533666</td>\n",
       "      <td>77.604795</td>\n",
       "      <td>0.0</td>\n",
       "      <td>10</td>\n",
       "    </tr>\n",
       "    <tr>\n",
       "      <th>4</th>\n",
       "      <td>31.445196</td>\n",
       "      <td>91.989609</td>\n",
       "      <td>4522.9272</td>\n",
       "      <td>2008-10-01 05:58:56</td>\n",
       "      <td>0</td>\n",
       "      <td>010_101</td>\n",
       "      <td>1.0</td>\n",
       "      <td>010_101_0</td>\n",
       "      <td>3.411694</td>\n",
       "      <td>3.411694</td>\n",
       "      <td>1.857632</td>\n",
       "      <td>70.978492</td>\n",
       "      <td>0.0</td>\n",
       "      <td>10</td>\n",
       "    </tr>\n",
       "    <tr>\n",
       "      <th>...</th>\n",
       "      <td>...</td>\n",
       "      <td>...</td>\n",
       "      <td>...</td>\n",
       "      <td>...</td>\n",
       "      <td>...</td>\n",
       "      <td>...</td>\n",
       "      <td>...</td>\n",
       "      <td>...</td>\n",
       "      <td>...</td>\n",
       "      <td>...</td>\n",
       "      <td>...</td>\n",
       "      <td>...</td>\n",
       "      <td>...</td>\n",
       "      <td>...</td>\n",
       "    </tr>\n",
       "    <tr>\n",
       "      <th>3842192</th>\n",
       "      <td>39.991445</td>\n",
       "      <td>116.327465</td>\n",
       "      <td>279.5016</td>\n",
       "      <td>2008-08-21 10:25:42</td>\n",
       "      <td>0</td>\n",
       "      <td>179_9</td>\n",
       "      <td>2.0</td>\n",
       "      <td>179_9_1</td>\n",
       "      <td>0.000000</td>\n",
       "      <td>0.000000</td>\n",
       "      <td>0.000000</td>\n",
       "      <td>0.000000</td>\n",
       "      <td>0.0</td>\n",
       "      <td>179</td>\n",
       "    </tr>\n",
       "    <tr>\n",
       "      <th>3842193</th>\n",
       "      <td>39.991445</td>\n",
       "      <td>116.327465</td>\n",
       "      <td>279.5016</td>\n",
       "      <td>2008-08-21 10:25:44</td>\n",
       "      <td>0</td>\n",
       "      <td>179_9</td>\n",
       "      <td>2.0</td>\n",
       "      <td>179_9_1</td>\n",
       "      <td>0.000000</td>\n",
       "      <td>0.000000</td>\n",
       "      <td>0.000000</td>\n",
       "      <td>0.000000</td>\n",
       "      <td>0.0</td>\n",
       "      <td>179</td>\n",
       "    </tr>\n",
       "    <tr>\n",
       "      <th>3842194</th>\n",
       "      <td>39.991445</td>\n",
       "      <td>116.327465</td>\n",
       "      <td>279.5016</td>\n",
       "      <td>2008-08-21 10:25:46</td>\n",
       "      <td>0</td>\n",
       "      <td>179_9</td>\n",
       "      <td>2.0</td>\n",
       "      <td>179_9_1</td>\n",
       "      <td>0.000000</td>\n",
       "      <td>0.000000</td>\n",
       "      <td>0.000000</td>\n",
       "      <td>0.000000</td>\n",
       "      <td>0.0</td>\n",
       "      <td>179</td>\n",
       "    </tr>\n",
       "    <tr>\n",
       "      <th>3842195</th>\n",
       "      <td>39.991445</td>\n",
       "      <td>116.327465</td>\n",
       "      <td>279.5016</td>\n",
       "      <td>2008-08-21 10:25:48</td>\n",
       "      <td>0</td>\n",
       "      <td>179_9</td>\n",
       "      <td>2.0</td>\n",
       "      <td>179_9_1</td>\n",
       "      <td>0.000000</td>\n",
       "      <td>0.000000</td>\n",
       "      <td>0.000000</td>\n",
       "      <td>0.000000</td>\n",
       "      <td>0.0</td>\n",
       "      <td>179</td>\n",
       "    </tr>\n",
       "    <tr>\n",
       "      <th>3842196</th>\n",
       "      <td>39.991445</td>\n",
       "      <td>116.327465</td>\n",
       "      <td>279.5016</td>\n",
       "      <td>2008-08-21 10:25:50</td>\n",
       "      <td>0</td>\n",
       "      <td>179_9</td>\n",
       "      <td>2.0</td>\n",
       "      <td>179_9_1</td>\n",
       "      <td>0.000000</td>\n",
       "      <td>0.000000</td>\n",
       "      <td>0.000000</td>\n",
       "      <td>0.000000</td>\n",
       "      <td>0.0</td>\n",
       "      <td>179</td>\n",
       "    </tr>\n",
       "  </tbody>\n",
       "</table>\n",
       "<p>3842197 rows × 14 columns</p>\n",
       "</div>"
      ],
      "text/plain": [
       "               lat         lon        alt                 time  label  \\\n",
       "0        31.445176   91.989489  4522.9272  2008-10-01 05:58:52      0   \n",
       "1        31.445176   91.989506  4522.9272  2008-10-01 05:58:53      0   \n",
       "2        31.445183   91.989559  4522.9272  2008-10-01 05:58:54      0   \n",
       "3        31.445186   91.989575  4522.9272  2008-10-01 05:58:55      0   \n",
       "4        31.445196   91.989609  4522.9272  2008-10-01 05:58:56      0   \n",
       "...            ...         ...        ...                  ...    ...   \n",
       "3842192  39.991445  116.327465   279.5016  2008-08-21 10:25:42      0   \n",
       "3842193  39.991445  116.327465   279.5016  2008-08-21 10:25:44      0   \n",
       "3842194  39.991445  116.327465   279.5016  2008-08-21 10:25:46      0   \n",
       "3842195  39.991445  116.327465   279.5016  2008-08-21 10:25:48      0   \n",
       "3842196  39.991445  116.327465   279.5016  2008-08-21 10:25:50      0   \n",
       "\n",
       "             tid  time_diff  partition  distance     speed  acceleration  \\\n",
       "0        010_101        0.0  010_101_0  0.000000  0.000000      0.000000   \n",
       "1        010_101        1.0  010_101_0  1.612702  1.612702      1.612702   \n",
       "2        010_101        1.0  010_101_0  5.087728  5.087728      3.475026   \n",
       "3        010_101        1.0  010_101_0  1.554062  1.554062     -3.533666   \n",
       "4        010_101        1.0  010_101_0  3.411694  3.411694      1.857632   \n",
       "...          ...        ...        ...       ...       ...           ...   \n",
       "3842192    179_9        2.0    179_9_1  0.000000  0.000000      0.000000   \n",
       "3842193    179_9        2.0    179_9_1  0.000000  0.000000      0.000000   \n",
       "3842194    179_9        2.0    179_9_1  0.000000  0.000000      0.000000   \n",
       "3842195    179_9        2.0    179_9_1  0.000000  0.000000      0.000000   \n",
       "3842196    179_9        2.0    179_9_1  0.000000  0.000000      0.000000   \n",
       "\n",
       "           bearing  pitch  user  \n",
       "0         0.000000    0.0    10  \n",
       "1        89.999996    0.0    10  \n",
       "2        81.199824    0.0    10  \n",
       "3        77.604795    0.0    10  \n",
       "4        70.978492    0.0    10  \n",
       "...            ...    ...   ...  \n",
       "3842192   0.000000    0.0   179  \n",
       "3842193   0.000000    0.0   179  \n",
       "3842194   0.000000    0.0   179  \n",
       "3842195   0.000000    0.0   179  \n",
       "3842196   0.000000    0.0   179  \n",
       "\n",
       "[3842197 rows x 14 columns]"
      ]
     },
     "execution_count": 3,
     "metadata": {},
     "output_type": "execute_result"
    }
   ],
   "source": [
    "train_df = pd.read_csv(\"/kaggle/input/geolife-data/geolife_train_filtered_df.csv\")\n",
    "train_df"
   ]
  },
  {
   "cell_type": "code",
   "execution_count": 4,
   "id": "95c4b327",
   "metadata": {
    "execution": {
     "iopub.execute_input": "2024-06-01T05:52:26.385927Z",
     "iopub.status.busy": "2024-06-01T05:52:26.385615Z",
     "iopub.status.idle": "2024-06-01T05:52:27.799756Z",
     "shell.execute_reply": "2024-06-01T05:52:27.798753Z"
    },
    "papermill": {
     "duration": 1.428707,
     "end_time": "2024-06-01T05:52:27.801821",
     "exception": false,
     "start_time": "2024-06-01T05:52:26.373114",
     "status": "completed"
    },
    "tags": []
   },
   "outputs": [
    {
     "data": {
      "text/html": [
       "<div>\n",
       "<style scoped>\n",
       "    .dataframe tbody tr th:only-of-type {\n",
       "        vertical-align: middle;\n",
       "    }\n",
       "\n",
       "    .dataframe tbody tr th {\n",
       "        vertical-align: top;\n",
       "    }\n",
       "\n",
       "    .dataframe thead th {\n",
       "        text-align: right;\n",
       "    }\n",
       "</style>\n",
       "<table border=\"1\" class=\"dataframe\">\n",
       "  <thead>\n",
       "    <tr style=\"text-align: right;\">\n",
       "      <th></th>\n",
       "      <th>lat</th>\n",
       "      <th>lon</th>\n",
       "      <th>alt</th>\n",
       "      <th>label</th>\n",
       "      <th>time_diff</th>\n",
       "      <th>distance</th>\n",
       "      <th>speed</th>\n",
       "      <th>acceleration</th>\n",
       "      <th>bearing</th>\n",
       "      <th>pitch</th>\n",
       "      <th>user</th>\n",
       "    </tr>\n",
       "  </thead>\n",
       "  <tbody>\n",
       "    <tr>\n",
       "      <th>count</th>\n",
       "      <td>3.842197e+06</td>\n",
       "      <td>3.842197e+06</td>\n",
       "      <td>3.842197e+06</td>\n",
       "      <td>3.842197e+06</td>\n",
       "      <td>3.842197e+06</td>\n",
       "      <td>3.842197e+06</td>\n",
       "      <td>3.842197e+06</td>\n",
       "      <td>3.842197e+06</td>\n",
       "      <td>3.842197e+06</td>\n",
       "      <td>3.842197e+06</td>\n",
       "      <td>3.842197e+06</td>\n",
       "    </tr>\n",
       "    <tr>\n",
       "      <th>mean</th>\n",
       "      <td>3.941447e+01</td>\n",
       "      <td>1.142104e+02</td>\n",
       "      <td>2.032968e+02</td>\n",
       "      <td>2.214221e+00</td>\n",
       "      <td>2.615864e+00</td>\n",
       "      <td>1.798334e+01</td>\n",
       "      <td>6.675804e+00</td>\n",
       "      <td>3.582380e-02</td>\n",
       "      <td>1.488702e+02</td>\n",
       "      <td>1.970889e-01</td>\n",
       "      <td>9.388907e+01</td>\n",
       "    </tr>\n",
       "    <tr>\n",
       "      <th>std</th>\n",
       "      <td>2.518458e+00</td>\n",
       "      <td>1.652060e+01</td>\n",
       "      <td>7.856326e+02</td>\n",
       "      <td>2.334011e+00</td>\n",
       "      <td>4.719534e+00</td>\n",
       "      <td>9.489784e+01</td>\n",
       "      <td>1.200350e+01</td>\n",
       "      <td>3.066234e+00</td>\n",
       "      <td>1.138552e+02</td>\n",
       "      <td>1.598713e+01</td>\n",
       "      <td>4.946566e+01</td>\n",
       "    </tr>\n",
       "    <tr>\n",
       "      <th>min</th>\n",
       "      <td>1.824990e+01</td>\n",
       "      <td>-1.796300e+02</td>\n",
       "      <td>-7.010004e+03</td>\n",
       "      <td>0.000000e+00</td>\n",
       "      <td>0.000000e+00</td>\n",
       "      <td>0.000000e+00</td>\n",
       "      <td>0.000000e+00</td>\n",
       "      <td>-2.056666e+03</td>\n",
       "      <td>0.000000e+00</td>\n",
       "      <td>-9.000000e+01</td>\n",
       "      <td>1.000000e+01</td>\n",
       "    </tr>\n",
       "    <tr>\n",
       "      <th>25%</th>\n",
       "      <td>3.991403e+01</td>\n",
       "      <td>1.163106e+02</td>\n",
       "      <td>3.962400e+00</td>\n",
       "      <td>0.000000e+00</td>\n",
       "      <td>1.000000e+00</td>\n",
       "      <td>1.023449e+00</td>\n",
       "      <td>5.402249e-01</td>\n",
       "      <td>-1.773618e-01</td>\n",
       "      <td>3.746198e+01</td>\n",
       "      <td>0.000000e+00</td>\n",
       "      <td>6.500000e+01</td>\n",
       "    </tr>\n",
       "    <tr>\n",
       "      <th>50%</th>\n",
       "      <td>3.997474e+01</td>\n",
       "      <td>1.163381e+02</td>\n",
       "      <td>4.200144e+01</td>\n",
       "      <td>2.000000e+00</td>\n",
       "      <td>2.000000e+00</td>\n",
       "      <td>4.356457e+00</td>\n",
       "      <td>2.194165e+00</td>\n",
       "      <td>0.000000e+00</td>\n",
       "      <td>1.641874e+02</td>\n",
       "      <td>0.000000e+00</td>\n",
       "      <td>8.500000e+01</td>\n",
       "    </tr>\n",
       "    <tr>\n",
       "      <th>75%</th>\n",
       "      <td>3.999145e+01</td>\n",
       "      <td>1.164187e+02</td>\n",
       "      <td>6.199632e+01</td>\n",
       "      <td>3.000000e+00</td>\n",
       "      <td>2.000000e+00</td>\n",
       "      <td>1.601595e+01</td>\n",
       "      <td>9.062487e+00</td>\n",
       "      <td>1.853249e-01</td>\n",
       "      <td>2.656108e+02</td>\n",
       "      <td>0.000000e+00</td>\n",
       "      <td>1.280000e+02</td>\n",
       "    </tr>\n",
       "    <tr>\n",
       "      <th>max</th>\n",
       "      <td>5.876032e+01</td>\n",
       "      <td>1.796656e+02</td>\n",
       "      <td>1.583799e+04</td>\n",
       "      <td>1.000000e+01</td>\n",
       "      <td>1.200000e+02</td>\n",
       "      <td>2.515899e+04</td>\n",
       "      <td>4.113401e+03</td>\n",
       "      <td>4.113047e+03</td>\n",
       "      <td>3.599916e+02</td>\n",
       "      <td>9.000000e+01</td>\n",
       "      <td>1.790000e+02</td>\n",
       "    </tr>\n",
       "  </tbody>\n",
       "</table>\n",
       "</div>"
      ],
      "text/plain": [
       "                lat           lon           alt         label     time_diff  \\\n",
       "count  3.842197e+06  3.842197e+06  3.842197e+06  3.842197e+06  3.842197e+06   \n",
       "mean   3.941447e+01  1.142104e+02  2.032968e+02  2.214221e+00  2.615864e+00   \n",
       "std    2.518458e+00  1.652060e+01  7.856326e+02  2.334011e+00  4.719534e+00   \n",
       "min    1.824990e+01 -1.796300e+02 -7.010004e+03  0.000000e+00  0.000000e+00   \n",
       "25%    3.991403e+01  1.163106e+02  3.962400e+00  0.000000e+00  1.000000e+00   \n",
       "50%    3.997474e+01  1.163381e+02  4.200144e+01  2.000000e+00  2.000000e+00   \n",
       "75%    3.999145e+01  1.164187e+02  6.199632e+01  3.000000e+00  2.000000e+00   \n",
       "max    5.876032e+01  1.796656e+02  1.583799e+04  1.000000e+01  1.200000e+02   \n",
       "\n",
       "           distance         speed  acceleration       bearing         pitch  \\\n",
       "count  3.842197e+06  3.842197e+06  3.842197e+06  3.842197e+06  3.842197e+06   \n",
       "mean   1.798334e+01  6.675804e+00  3.582380e-02  1.488702e+02  1.970889e-01   \n",
       "std    9.489784e+01  1.200350e+01  3.066234e+00  1.138552e+02  1.598713e+01   \n",
       "min    0.000000e+00  0.000000e+00 -2.056666e+03  0.000000e+00 -9.000000e+01   \n",
       "25%    1.023449e+00  5.402249e-01 -1.773618e-01  3.746198e+01  0.000000e+00   \n",
       "50%    4.356457e+00  2.194165e+00  0.000000e+00  1.641874e+02  0.000000e+00   \n",
       "75%    1.601595e+01  9.062487e+00  1.853249e-01  2.656108e+02  0.000000e+00   \n",
       "max    2.515899e+04  4.113401e+03  4.113047e+03  3.599916e+02  9.000000e+01   \n",
       "\n",
       "               user  \n",
       "count  3.842197e+06  \n",
       "mean   9.388907e+01  \n",
       "std    4.946566e+01  \n",
       "min    1.000000e+01  \n",
       "25%    6.500000e+01  \n",
       "50%    8.500000e+01  \n",
       "75%    1.280000e+02  \n",
       "max    1.790000e+02  "
      ]
     },
     "execution_count": 4,
     "metadata": {},
     "output_type": "execute_result"
    }
   ],
   "source": [
    "train_df.describe()"
   ]
  },
  {
   "cell_type": "code",
   "execution_count": 5,
   "id": "e85b5a29",
   "metadata": {
    "execution": {
     "iopub.execute_input": "2024-06-01T05:52:27.826650Z",
     "iopub.status.busy": "2024-06-01T05:52:27.826389Z",
     "iopub.status.idle": "2024-06-01T05:52:31.103088Z",
     "shell.execute_reply": "2024-06-01T05:52:31.102137Z"
    },
    "papermill": {
     "duration": 3.29134,
     "end_time": "2024-06-01T05:52:31.105194",
     "exception": false,
     "start_time": "2024-06-01T05:52:27.813854",
     "status": "completed"
    },
    "tags": []
   },
   "outputs": [
    {
     "data": {
      "image/png": "[encoded data removed]",
      "text/plain": [
       "<Figure size 640x480 with 12 Axes>"
      ]
     },
     "metadata": {},
     "output_type": "display_data"
    }
   ],
   "source": [
    "train_df.hist()\n",
    "plt.tight_layout()"
   ]
  },
  {
   "cell_type": "code",
   "execution_count": 6,
   "id": "c4a1c3e3",
   "metadata": {
    "execution": {
     "iopub.execute_input": "2024-06-01T05:52:31.131357Z",
     "iopub.status.busy": "2024-06-01T05:52:31.131051Z",
     "iopub.status.idle": "2024-06-01T05:52:35.059478Z",
     "shell.execute_reply": "2024-06-01T05:52:35.058510Z"
    },
    "papermill": {
     "duration": 3.943782,
     "end_time": "2024-06-01T05:52:35.061658",
     "exception": false,
     "start_time": "2024-06-01T05:52:31.117876",
     "status": "completed"
    },
    "tags": []
   },
   "outputs": [
    {
     "data": {
      "text/html": [
       "<div>\n",
       "<style scoped>\n",
       "    .dataframe tbody tr th:only-of-type {\n",
       "        vertical-align: middle;\n",
       "    }\n",
       "\n",
       "    .dataframe tbody tr th {\n",
       "        vertical-align: top;\n",
       "    }\n",
       "\n",
       "    .dataframe thead th {\n",
       "        text-align: right;\n",
       "    }\n",
       "</style>\n",
       "<table border=\"1\" class=\"dataframe\">\n",
       "  <thead>\n",
       "    <tr style=\"text-align: right;\">\n",
       "      <th></th>\n",
       "      <th>lat</th>\n",
       "      <th>lon</th>\n",
       "      <th>alt</th>\n",
       "      <th>time</th>\n",
       "      <th>label</th>\n",
       "      <th>tid</th>\n",
       "      <th>time_diff</th>\n",
       "      <th>partition</th>\n",
       "      <th>distance</th>\n",
       "      <th>speed</th>\n",
       "      <th>acceleration</th>\n",
       "      <th>bearing</th>\n",
       "      <th>pitch</th>\n",
       "      <th>user</th>\n",
       "    </tr>\n",
       "  </thead>\n",
       "  <tbody>\n",
       "    <tr>\n",
       "      <th>0</th>\n",
       "      <td>31.445261</td>\n",
       "      <td>91.989716</td>\n",
       "      <td>4518.9648</td>\n",
       "      <td>2008-10-01 05:53:47</td>\n",
       "      <td>0</td>\n",
       "      <td>010_100</td>\n",
       "      <td>0.0</td>\n",
       "      <td>010_100_0</td>\n",
       "      <td>0.000000</td>\n",
       "      <td>0.000000</td>\n",
       "      <td>0.000000</td>\n",
       "      <td>0.000000</td>\n",
       "      <td>0.000000</td>\n",
       "      <td>10</td>\n",
       "    </tr>\n",
       "    <tr>\n",
       "      <th>1</th>\n",
       "      <td>31.445261</td>\n",
       "      <td>91.989716</td>\n",
       "      <td>4518.9648</td>\n",
       "      <td>2008-10-01 05:53:48</td>\n",
       "      <td>0</td>\n",
       "      <td>010_100</td>\n",
       "      <td>1.0</td>\n",
       "      <td>010_100_0</td>\n",
       "      <td>0.000000</td>\n",
       "      <td>0.000000</td>\n",
       "      <td>0.000000</td>\n",
       "      <td>0.000000</td>\n",
       "      <td>0.000000</td>\n",
       "      <td>10</td>\n",
       "    </tr>\n",
       "    <tr>\n",
       "      <th>2</th>\n",
       "      <td>31.445261</td>\n",
       "      <td>91.989716</td>\n",
       "      <td>4518.9648</td>\n",
       "      <td>2008-10-01 05:53:49</td>\n",
       "      <td>0</td>\n",
       "      <td>010_100</td>\n",
       "      <td>1.0</td>\n",
       "      <td>010_100_0</td>\n",
       "      <td>0.000000</td>\n",
       "      <td>0.000000</td>\n",
       "      <td>0.000000</td>\n",
       "      <td>0.000000</td>\n",
       "      <td>0.000000</td>\n",
       "      <td>10</td>\n",
       "    </tr>\n",
       "    <tr>\n",
       "      <th>3</th>\n",
       "      <td>31.445261</td>\n",
       "      <td>91.989716</td>\n",
       "      <td>4519.8792</td>\n",
       "      <td>2008-10-01 05:53:50</td>\n",
       "      <td>0</td>\n",
       "      <td>010_100</td>\n",
       "      <td>1.0</td>\n",
       "      <td>010_100_0</td>\n",
       "      <td>0.914400</td>\n",
       "      <td>0.914400</td>\n",
       "      <td>0.914400</td>\n",
       "      <td>0.000000</td>\n",
       "      <td>90.000000</td>\n",
       "      <td>10</td>\n",
       "    </tr>\n",
       "    <tr>\n",
       "      <th>4</th>\n",
       "      <td>31.445261</td>\n",
       "      <td>91.989716</td>\n",
       "      <td>4519.8792</td>\n",
       "      <td>2008-10-01 05:53:52</td>\n",
       "      <td>0</td>\n",
       "      <td>010_100</td>\n",
       "      <td>2.0</td>\n",
       "      <td>010_100_0</td>\n",
       "      <td>0.000000</td>\n",
       "      <td>0.000000</td>\n",
       "      <td>-0.457200</td>\n",
       "      <td>0.000000</td>\n",
       "      <td>0.000000</td>\n",
       "      <td>10</td>\n",
       "    </tr>\n",
       "    <tr>\n",
       "      <th>...</th>\n",
       "      <td>...</td>\n",
       "      <td>...</td>\n",
       "      <td>...</td>\n",
       "      <td>...</td>\n",
       "      <td>...</td>\n",
       "      <td>...</td>\n",
       "      <td>...</td>\n",
       "      <td>...</td>\n",
       "      <td>...</td>\n",
       "      <td>...</td>\n",
       "      <td>...</td>\n",
       "      <td>...</td>\n",
       "      <td>...</td>\n",
       "      <td>...</td>\n",
       "    </tr>\n",
       "    <tr>\n",
       "      <th>959588</th>\n",
       "      <td>39.994419</td>\n",
       "      <td>116.325336</td>\n",
       "      <td>80.1624</td>\n",
       "      <td>2008-09-08 05:34:25</td>\n",
       "      <td>0</td>\n",
       "      <td>179_99</td>\n",
       "      <td>2.0</td>\n",
       "      <td>179_99_3</td>\n",
       "      <td>8.144494</td>\n",
       "      <td>4.072247</td>\n",
       "      <td>1.827095</td>\n",
       "      <td>244.094490</td>\n",
       "      <td>0.000000</td>\n",
       "      <td>179</td>\n",
       "    </tr>\n",
       "    <tr>\n",
       "      <th>959589</th>\n",
       "      <td>39.994389</td>\n",
       "      <td>116.325263</td>\n",
       "      <td>80.1624</td>\n",
       "      <td>2008-09-08 05:34:27</td>\n",
       "      <td>0</td>\n",
       "      <td>179_99</td>\n",
       "      <td>2.0</td>\n",
       "      <td>179_99_3</td>\n",
       "      <td>7.056891</td>\n",
       "      <td>3.528446</td>\n",
       "      <td>-0.271901</td>\n",
       "      <td>241.789812</td>\n",
       "      <td>0.000000</td>\n",
       "      <td>179</td>\n",
       "    </tr>\n",
       "    <tr>\n",
       "      <th>959590</th>\n",
       "      <td>39.994374</td>\n",
       "      <td>116.325201</td>\n",
       "      <td>80.1624</td>\n",
       "      <td>2008-09-08 05:34:29</td>\n",
       "      <td>0</td>\n",
       "      <td>179_99</td>\n",
       "      <td>2.0</td>\n",
       "      <td>179_99_3</td>\n",
       "      <td>5.538716</td>\n",
       "      <td>2.769358</td>\n",
       "      <td>-0.379544</td>\n",
       "      <td>252.473989</td>\n",
       "      <td>0.000000</td>\n",
       "      <td>179</td>\n",
       "    </tr>\n",
       "    <tr>\n",
       "      <th>959591</th>\n",
       "      <td>39.994372</td>\n",
       "      <td>116.325168</td>\n",
       "      <td>80.1624</td>\n",
       "      <td>2008-09-08 05:34:31</td>\n",
       "      <td>0</td>\n",
       "      <td>179_99</td>\n",
       "      <td>2.0</td>\n",
       "      <td>179_99_3</td>\n",
       "      <td>2.819963</td>\n",
       "      <td>1.409981</td>\n",
       "      <td>-0.679688</td>\n",
       "      <td>265.476815</td>\n",
       "      <td>0.000000</td>\n",
       "      <td>179</td>\n",
       "    </tr>\n",
       "    <tr>\n",
       "      <th>959592</th>\n",
       "      <td>39.994372</td>\n",
       "      <td>116.325139</td>\n",
       "      <td>79.8576</td>\n",
       "      <td>2008-09-08 05:34:33</td>\n",
       "      <td>0</td>\n",
       "      <td>179_99</td>\n",
       "      <td>2.0</td>\n",
       "      <td>179_99_3</td>\n",
       "      <td>2.489163</td>\n",
       "      <td>1.244581</td>\n",
       "      <td>-0.082700</td>\n",
       "      <td>270.000009</td>\n",
       "      <td>-7.033566</td>\n",
       "      <td>179</td>\n",
       "    </tr>\n",
       "  </tbody>\n",
       "</table>\n",
       "<p>959593 rows × 14 columns</p>\n",
       "</div>"
      ],
      "text/plain": [
       "              lat         lon        alt                 time  label      tid  \\\n",
       "0       31.445261   91.989716  4518.9648  2008-10-01 05:53:47      0  010_100   \n",
       "1       31.445261   91.989716  4518.9648  2008-10-01 05:53:48      0  010_100   \n",
       "2       31.445261   91.989716  4518.9648  2008-10-01 05:53:49      0  010_100   \n",
       "3       31.445261   91.989716  4519.8792  2008-10-01 05:53:50      0  010_100   \n",
       "4       31.445261   91.989716  4519.8792  2008-10-01 05:53:52      0  010_100   \n",
       "...           ...         ...        ...                  ...    ...      ...   \n",
       "959588  39.994419  116.325336    80.1624  2008-09-08 05:34:25      0   179_99   \n",
       "959589  39.994389  116.325263    80.1624  2008-09-08 05:34:27      0   179_99   \n",
       "959590  39.994374  116.325201    80.1624  2008-09-08 05:34:29      0   179_99   \n",
       "959591  39.994372  116.325168    80.1624  2008-09-08 05:34:31      0   179_99   \n",
       "959592  39.994372  116.325139    79.8576  2008-09-08 05:34:33      0   179_99   \n",
       "\n",
       "        time_diff  partition  distance     speed  acceleration     bearing  \\\n",
       "0             0.0  010_100_0  0.000000  0.000000      0.000000    0.000000   \n",
       "1             1.0  010_100_0  0.000000  0.000000      0.000000    0.000000   \n",
       "2             1.0  010_100_0  0.000000  0.000000      0.000000    0.000000   \n",
       "3             1.0  010_100_0  0.914400  0.914400      0.914400    0.000000   \n",
       "4             2.0  010_100_0  0.000000  0.000000     -0.457200    0.000000   \n",
       "...           ...        ...       ...       ...           ...         ...   \n",
       "959588        2.0   179_99_3  8.144494  4.072247      1.827095  244.094490   \n",
       "959589        2.0   179_99_3  7.056891  3.528446     -0.271901  241.789812   \n",
       "959590        2.0   179_99_3  5.538716  2.769358     -0.379544  252.473989   \n",
       "959591        2.0   179_99_3  2.819963  1.409981     -0.679688  265.476815   \n",
       "959592        2.0   179_99_3  2.489163  1.244581     -0.082700  270.000009   \n",
       "\n",
       "            pitch  user  \n",
       "0        0.000000    10  \n",
       "1        0.000000    10  \n",
       "2        0.000000    10  \n",
       "3       90.000000    10  \n",
       "4        0.000000    10  \n",
       "...           ...   ...  \n",
       "959588   0.000000   179  \n",
       "959589   0.000000   179  \n",
       "959590   0.000000   179  \n",
       "959591   0.000000   179  \n",
       "959592  -7.033566   179  \n",
       "\n",
       "[959593 rows x 14 columns]"
      ]
     },
     "execution_count": 6,
     "metadata": {},
     "output_type": "execute_result"
    }
   ],
   "source": [
    "test_df = pd.read_csv(\"/kaggle/input/geolife-data/geolife_test_filtered_df.csv\")\n",
    "test_df"
   ]
  },
  {
   "cell_type": "code",
   "execution_count": 7,
   "id": "b314c583",
   "metadata": {
    "execution": {
     "iopub.execute_input": "2024-06-01T05:52:35.089363Z",
     "iopub.status.busy": "2024-06-01T05:52:35.088693Z",
     "iopub.status.idle": "2024-06-01T05:52:35.371880Z",
     "shell.execute_reply": "2024-06-01T05:52:35.370972Z"
    },
    "papermill": {
     "duration": 0.299085,
     "end_time": "2024-06-01T05:52:35.373874",
     "exception": false,
     "start_time": "2024-06-01T05:52:35.074789",
     "status": "completed"
    },
    "tags": []
   },
   "outputs": [
    {
     "data": {
      "text/html": [
       "<div>\n",
       "<style scoped>\n",
       "    .dataframe tbody tr th:only-of-type {\n",
       "        vertical-align: middle;\n",
       "    }\n",
       "\n",
       "    .dataframe tbody tr th {\n",
       "        vertical-align: top;\n",
       "    }\n",
       "\n",
       "    .dataframe thead th {\n",
       "        text-align: right;\n",
       "    }\n",
       "</style>\n",
       "<table border=\"1\" class=\"dataframe\">\n",
       "  <thead>\n",
       "    <tr style=\"text-align: right;\">\n",
       "      <th></th>\n",
       "      <th>lat</th>\n",
       "      <th>lon</th>\n",
       "      <th>alt</th>\n",
       "      <th>label</th>\n",
       "      <th>time_diff</th>\n",
       "      <th>distance</th>\n",
       "      <th>speed</th>\n",
       "      <th>acceleration</th>\n",
       "      <th>bearing</th>\n",
       "      <th>pitch</th>\n",
       "      <th>user</th>\n",
       "    </tr>\n",
       "  </thead>\n",
       "  <tbody>\n",
       "    <tr>\n",
       "      <th>count</th>\n",
       "      <td>959593.000000</td>\n",
       "      <td>959593.000000</td>\n",
       "      <td>959593.000000</td>\n",
       "      <td>959593.000000</td>\n",
       "      <td>959593.000000</td>\n",
       "      <td>959593.000000</td>\n",
       "      <td>959593.000000</td>\n",
       "      <td>959593.000000</td>\n",
       "      <td>959593.000000</td>\n",
       "      <td>959593.000000</td>\n",
       "      <td>959593.000000</td>\n",
       "    </tr>\n",
       "    <tr>\n",
       "      <th>mean</th>\n",
       "      <td>39.393988</td>\n",
       "      <td>114.601910</td>\n",
       "      <td>191.335325</td>\n",
       "      <td>2.188035</td>\n",
       "      <td>2.599460</td>\n",
       "      <td>16.304968</td>\n",
       "      <td>6.568493</td>\n",
       "      <td>0.035089</td>\n",
       "      <td>148.941512</td>\n",
       "      <td>0.272792</td>\n",
       "      <td>94.254330</td>\n",
       "    </tr>\n",
       "    <tr>\n",
       "      <th>std</th>\n",
       "      <td>2.411951</td>\n",
       "      <td>14.132974</td>\n",
       "      <td>730.862741</td>\n",
       "      <td>2.294542</td>\n",
       "      <td>4.611341</td>\n",
       "      <td>69.903692</td>\n",
       "      <td>10.596005</td>\n",
       "      <td>1.896243</td>\n",
       "      <td>114.006007</td>\n",
       "      <td>16.055305</td>\n",
       "      <td>49.232252</td>\n",
       "    </tr>\n",
       "    <tr>\n",
       "      <th>min</th>\n",
       "      <td>18.250557</td>\n",
       "      <td>-168.184927</td>\n",
       "      <td>-6458.986320</td>\n",
       "      <td>0.000000</td>\n",
       "      <td>0.000000</td>\n",
       "      <td>0.000000</td>\n",
       "      <td>0.000000</td>\n",
       "      <td>-432.439569</td>\n",
       "      <td>0.000000</td>\n",
       "      <td>-90.000000</td>\n",
       "      <td>10.000000</td>\n",
       "    </tr>\n",
       "    <tr>\n",
       "      <th>25%</th>\n",
       "      <td>39.911952</td>\n",
       "      <td>116.311132</td>\n",
       "      <td>6.096000</td>\n",
       "      <td>0.000000</td>\n",
       "      <td>1.000000</td>\n",
       "      <td>1.000754</td>\n",
       "      <td>0.511204</td>\n",
       "      <td>-0.176844</td>\n",
       "      <td>36.490524</td>\n",
       "      <td>0.000000</td>\n",
       "      <td>67.000000</td>\n",
       "    </tr>\n",
       "    <tr>\n",
       "      <th>50%</th>\n",
       "      <td>39.974627</td>\n",
       "      <td>116.339182</td>\n",
       "      <td>42.062400</td>\n",
       "      <td>2.000000</td>\n",
       "      <td>2.000000</td>\n",
       "      <td>4.226266</td>\n",
       "      <td>2.091501</td>\n",
       "      <td>0.000000</td>\n",
       "      <td>164.937457</td>\n",
       "      <td>0.000000</td>\n",
       "      <td>85.000000</td>\n",
       "    </tr>\n",
       "    <tr>\n",
       "      <th>75%</th>\n",
       "      <td>39.991600</td>\n",
       "      <td>116.418897</td>\n",
       "      <td>62.179200</td>\n",
       "      <td>3.000000</td>\n",
       "      <td>2.000000</td>\n",
       "      <td>15.903796</td>\n",
       "      <td>8.848339</td>\n",
       "      <td>0.185325</td>\n",
       "      <td>265.740046</td>\n",
       "      <td>0.000000</td>\n",
       "      <td>128.000000</td>\n",
       "    </tr>\n",
       "    <tr>\n",
       "      <th>max</th>\n",
       "      <td>58.657223</td>\n",
       "      <td>126.997961</td>\n",
       "      <td>15837.011760</td>\n",
       "      <td>10.000000</td>\n",
       "      <td>120.000000</td>\n",
       "      <td>17449.193621</td>\n",
       "      <td>2162.197843</td>\n",
       "      <td>717.059772</td>\n",
       "      <td>359.976139</td>\n",
       "      <td>90.000000</td>\n",
       "      <td>179.000000</td>\n",
       "    </tr>\n",
       "  </tbody>\n",
       "</table>\n",
       "</div>"
      ],
      "text/plain": [
       "                 lat            lon            alt          label  \\\n",
       "count  959593.000000  959593.000000  959593.000000  959593.000000   \n",
       "mean       39.393988     114.601910     191.335325       2.188035   \n",
       "std         2.411951      14.132974     730.862741       2.294542   \n",
       "min        18.250557    -168.184927   -6458.986320       0.000000   \n",
       "25%        39.911952     116.311132       6.096000       0.000000   \n",
       "50%        39.974627     116.339182      42.062400       2.000000   \n",
       "75%        39.991600     116.418897      62.179200       3.000000   \n",
       "max        58.657223     126.997961   15837.011760      10.000000   \n",
       "\n",
       "           time_diff       distance          speed   acceleration  \\\n",
       "count  959593.000000  959593.000000  959593.000000  959593.000000   \n",
       "mean        2.599460      16.304968       6.568493       0.035089   \n",
       "std         4.611341      69.903692      10.596005       1.896243   \n",
       "min         0.000000       0.000000       0.000000    -432.439569   \n",
       "25%         1.000000       1.000754       0.511204      -0.176844   \n",
       "50%         2.000000       4.226266       2.091501       0.000000   \n",
       "75%         2.000000      15.903796       8.848339       0.185325   \n",
       "max       120.000000   17449.193621    2162.197843     717.059772   \n",
       "\n",
       "             bearing          pitch           user  \n",
       "count  959593.000000  959593.000000  959593.000000  \n",
       "mean      148.941512       0.272792      94.254330  \n",
       "std       114.006007      16.055305      49.232252  \n",
       "min         0.000000     -90.000000      10.000000  \n",
       "25%        36.490524       0.000000      67.000000  \n",
       "50%       164.937457       0.000000      85.000000  \n",
       "75%       265.740046       0.000000     128.000000  \n",
       "max       359.976139      90.000000     179.000000  "
      ]
     },
     "execution_count": 7,
     "metadata": {},
     "output_type": "execute_result"
    }
   ],
   "source": [
    "test_df.describe()"
   ]
  },
  {
   "cell_type": "code",
   "execution_count": 8,
   "id": "df386906",
   "metadata": {
    "execution": {
     "iopub.execute_input": "2024-06-01T05:52:35.402321Z",
     "iopub.status.busy": "2024-06-01T05:52:35.402004Z",
     "iopub.status.idle": "2024-06-01T05:52:37.750238Z",
     "shell.execute_reply": "2024-06-01T05:52:37.749319Z"
    },
    "papermill": {
     "duration": 2.365035,
     "end_time": "2024-06-01T05:52:37.752622",
     "exception": false,
     "start_time": "2024-06-01T05:52:35.387587",
     "status": "completed"
    },
    "tags": []
   },
   "outputs": [
    {
     "data": {
      "image/png": "[encoded data removed]",
      "text/plain": [
       "<Figure size 640x480 with 12 Axes>"
      ]
     },
     "metadata": {},
     "output_type": "display_data"
    }
   ],
   "source": [
    "test_df.hist()\n",
    "plt.tight_layout()"
   ]
  },
  {
   "cell_type": "markdown",
   "id": "08b622c5",
   "metadata": {
    "papermill": {
     "duration": 0.013714,
     "end_time": "2024-06-01T05:52:37.780576",
     "exception": false,
     "start_time": "2024-06-01T05:52:37.766862",
     "status": "completed"
    },
    "tags": []
   },
   "source": [
    "# Make dataset"
   ]
  },
  {
   "cell_type": "code",
   "execution_count": 9,
   "id": "51e6b1e1",
   "metadata": {
    "execution": {
     "iopub.execute_input": "2024-06-01T05:52:37.809334Z",
     "iopub.status.busy": "2024-06-01T05:52:37.808982Z",
     "iopub.status.idle": "2024-06-01T05:52:37.813238Z",
     "shell.execute_reply": "2024-06-01T05:52:37.812494Z"
    },
    "papermill": {
     "duration": 0.02085,
     "end_time": "2024-06-01T05:52:37.815192",
     "exception": false,
     "start_time": "2024-06-01T05:52:37.794342",
     "status": "completed"
    },
    "tags": []
   },
   "outputs": [],
   "source": [
    "# cols = ['lat', 'lon', 'alt', 'time_diff', 'distance', \n",
    "#         'speed', 'acceleration', 'bearing', 'pitch']\n",
    "\n",
    "cols = ['lat', 'lon', 'alt', 'time_diff', 'distance', 'speed', 'acceleration']"
   ]
  },
  {
   "cell_type": "code",
   "execution_count": 10,
   "id": "7be4fc09",
   "metadata": {
    "execution": {
     "iopub.execute_input": "2024-06-01T05:52:37.843449Z",
     "iopub.status.busy": "2024-06-01T05:52:37.843180Z",
     "iopub.status.idle": "2024-06-01T05:52:42.756639Z",
     "shell.execute_reply": "2024-06-01T05:52:42.755760Z"
    },
    "papermill": {
     "duration": 4.930162,
     "end_time": "2024-06-01T05:52:42.758951",
     "exception": false,
     "start_time": "2024-06-01T05:52:37.828789",
     "status": "completed"
    },
    "tags": []
   },
   "outputs": [],
   "source": [
    "train_df_partition = list(train_df.groupby('partition'))\n",
    "test_df_partition = list(test_df.groupby('partition'))"
   ]
  },
  {
   "cell_type": "code",
   "execution_count": 11,
   "id": "c31bb10b",
   "metadata": {
    "execution": {
     "iopub.execute_input": "2024-06-01T05:52:42.789519Z",
     "iopub.status.busy": "2024-06-01T05:52:42.789225Z",
     "iopub.status.idle": "2024-06-01T05:52:42.798058Z",
     "shell.execute_reply": "2024-06-01T05:52:42.797142Z"
    },
    "papermill": {
     "duration": 0.026212,
     "end_time": "2024-06-01T05:52:42.800281",
     "exception": false,
     "start_time": "2024-06-01T05:52:42.774069",
     "status": "completed"
    },
    "tags": []
   },
   "outputs": [
    {
     "data": {
      "text/plain": [
       "((100, 7), (66, 7))"
      ]
     },
     "execution_count": 11,
     "metadata": {},
     "output_type": "execute_result"
    }
   ],
   "source": [
    "train_df_partition[0][1][cols].values.shape, test_df_partition[0][1][cols].values.shape"
   ]
  },
  {
   "cell_type": "code",
   "execution_count": 12,
   "id": "3df444f2",
   "metadata": {
    "execution": {
     "iopub.execute_input": "2024-06-01T05:52:42.832244Z",
     "iopub.status.busy": "2024-06-01T05:52:42.831636Z",
     "iopub.status.idle": "2024-06-01T05:52:42.839493Z",
     "shell.execute_reply": "2024-06-01T05:52:42.838672Z"
    },
    "papermill": {
     "duration": 0.024932,
     "end_time": "2024-06-01T05:52:42.841412",
     "exception": false,
     "start_time": "2024-06-01T05:52:42.816480",
     "status": "completed"
    },
    "tags": []
   },
   "outputs": [],
   "source": [
    "# Write a custom dataset class (inherits from torch.utils.data.Dataset)\n",
    "from torch.utils.data import Dataset\n",
    "\n",
    "\n",
    "# 1. Subclass torch.utils.data.Dataset\n",
    "class DatasetCustom(Dataset):\n",
    "    \n",
    "    # 2. Initialize with a target_dir and transform (optional) parameter\n",
    "    def __init__(self, df, cols = None, label_y = 'label'):\n",
    "        self.df = df\n",
    "        self.cols = cols\n",
    "        self.label_y = label_y\n",
    "        \n",
    "    # 5. Overwrite the __len__() method (optional but recommended for subclasses of torch.utils.data.Dataset)\n",
    "    def __len__(self) -> int:\n",
    "        \"Returns the total number of samples.\"\n",
    "        return len(self.df)\n",
    "    \n",
    "    \n",
    "    # 6. Overwrite the __getitem__() method (required for subclasses of torch.utils.data.Dataset)\n",
    "    def __getitem__(self, index: int):\n",
    "        \"Returns one sample of data, data and label (X, y).\"\n",
    "        if self.cols != None:\n",
    "            X = self.df[index][1][cols].values\n",
    "        else:\n",
    "            X = self.df[index][1].values\n",
    "        \n",
    "        y = self.df[index][1][self.label_y].iloc[0]\n",
    "        \n",
    "        return torch.tensor(X).type(torch.float), torch.tensor(y)\n",
    "        "
   ]
  },
  {
   "cell_type": "code",
   "execution_count": 13,
   "id": "00e44ff7",
   "metadata": {
    "execution": {
     "iopub.execute_input": "2024-06-01T05:52:42.871388Z",
     "iopub.status.busy": "2024-06-01T05:52:42.871113Z",
     "iopub.status.idle": "2024-06-01T05:52:42.875380Z",
     "shell.execute_reply": "2024-06-01T05:52:42.874433Z"
    },
    "papermill": {
     "duration": 0.021488,
     "end_time": "2024-06-01T05:52:42.877292",
     "exception": false,
     "start_time": "2024-06-01T05:52:42.855804",
     "status": "completed"
    },
    "tags": []
   },
   "outputs": [],
   "source": [
    "train_dataset = DatasetCustom(df = train_df_partition, cols = cols)\n",
    "test_dataset = DatasetCustom(df = test_df_partition, cols = cols)"
   ]
  },
  {
   "cell_type": "code",
   "execution_count": 14,
   "id": "a963cb9b",
   "metadata": {
    "execution": {
     "iopub.execute_input": "2024-06-01T05:52:42.907550Z",
     "iopub.status.busy": "2024-06-01T05:52:42.907193Z",
     "iopub.status.idle": "2024-06-01T05:52:42.913117Z",
     "shell.execute_reply": "2024-06-01T05:52:42.912218Z"
    },
    "papermill": {
     "duration": 0.023496,
     "end_time": "2024-06-01T05:52:42.915046",
     "exception": false,
     "start_time": "2024-06-01T05:52:42.891550",
     "status": "completed"
    },
    "tags": []
   },
   "outputs": [
    {
     "data": {
      "text/plain": [
       "(42728, 10682)"
      ]
     },
     "execution_count": 14,
     "metadata": {},
     "output_type": "execute_result"
    }
   ],
   "source": [
    "len(train_dataset), len(test_dataset)"
   ]
  },
  {
   "cell_type": "code",
   "execution_count": 15,
   "id": "a00050e9",
   "metadata": {
    "execution": {
     "iopub.execute_input": "2024-06-01T05:52:42.946117Z",
     "iopub.status.busy": "2024-06-01T05:52:42.945788Z",
     "iopub.status.idle": "2024-06-01T05:52:42.980872Z",
     "shell.execute_reply": "2024-06-01T05:52:42.980033Z"
    },
    "papermill": {
     "duration": 0.052861,
     "end_time": "2024-06-01T05:52:42.982857",
     "exception": false,
     "start_time": "2024-06-01T05:52:42.929996",
     "status": "completed"
    },
    "tags": []
   },
   "outputs": [
    {
     "data": {
      "text/plain": [
       "(torch.Size([100, 7]), torch.Size([]), tensor(0))"
      ]
     },
     "execution_count": 15,
     "metadata": {},
     "output_type": "execute_result"
    }
   ],
   "source": [
    "train_dataset[0][0].shape, train_dataset[0][1].shape, train_dataset[0][1]"
   ]
  },
  {
   "cell_type": "code",
   "execution_count": 16,
   "id": "bd5b7997",
   "metadata": {
    "execution": {
     "iopub.execute_input": "2024-06-01T05:52:43.013588Z",
     "iopub.status.busy": "2024-06-01T05:52:43.012845Z",
     "iopub.status.idle": "2024-06-01T05:52:43.021944Z",
     "shell.execute_reply": "2024-06-01T05:52:43.021160Z"
    },
    "papermill": {
     "duration": 0.02622,
     "end_time": "2024-06-01T05:52:43.023777",
     "exception": false,
     "start_time": "2024-06-01T05:52:42.997557",
     "status": "completed"
    },
    "tags": []
   },
   "outputs": [
    {
     "data": {
      "text/plain": [
       "(torch.Size([66, 7]), torch.Size([]), tensor(0))"
      ]
     },
     "execution_count": 16,
     "metadata": {},
     "output_type": "execute_result"
    }
   ],
   "source": [
    "test_dataset[0][0].shape, train_dataset[0][1].shape, test_dataset[0][1]"
   ]
  },
  {
   "cell_type": "markdown",
   "id": "e3c1ac9e",
   "metadata": {
    "papermill": {
     "duration": 0.014908,
     "end_time": "2024-06-01T05:52:43.053415",
     "exception": false,
     "start_time": "2024-06-01T05:52:43.038507",
     "status": "completed"
    },
    "tags": []
   },
   "source": [
    "# Prepare dataloader"
   ]
  },
  {
   "cell_type": "code",
   "execution_count": 17,
   "id": "46ef33ef",
   "metadata": {
    "execution": {
     "iopub.execute_input": "2024-06-01T05:52:43.084478Z",
     "iopub.status.busy": "2024-06-01T05:52:43.084160Z",
     "iopub.status.idle": "2024-06-01T05:52:43.089444Z",
     "shell.execute_reply": "2024-06-01T05:52:43.088476Z"
    },
    "papermill": {
     "duration": 0.022798,
     "end_time": "2024-06-01T05:52:43.091246",
     "exception": false,
     "start_time": "2024-06-01T05:52:43.068448",
     "status": "completed"
    },
    "tags": []
   },
   "outputs": [],
   "source": [
    "from torch.nn.utils.rnn import pad_sequence\n",
    "\n",
    "def collate_fn(batch):\n",
    "    # Separate data and labels\n",
    "    sequences, labels = zip(*batch)\n",
    "    # Pad the sequences\n",
    "    padded_sequences = pad_sequence(sequences, batch_first=True, padding_value=0)\n",
    "    \n",
    "    labels_tensor = torch.stack(labels)\n",
    "    return padded_sequences, labels_tensor"
   ]
  },
  {
   "cell_type": "code",
   "execution_count": 18,
   "id": "71d4c8f1",
   "metadata": {
    "execution": {
     "iopub.execute_input": "2024-06-01T05:52:43.122535Z",
     "iopub.status.busy": "2024-06-01T05:52:43.122237Z",
     "iopub.status.idle": "2024-06-01T05:52:43.129911Z",
     "shell.execute_reply": "2024-06-01T05:52:43.129014Z"
    },
    "papermill": {
     "duration": 0.025948,
     "end_time": "2024-06-01T05:52:43.131943",
     "exception": false,
     "start_time": "2024-06-01T05:52:43.105995",
     "status": "completed"
    },
    "tags": []
   },
   "outputs": [
    {
     "name": "stdout",
     "output_type": "stream",
     "text": [
      "Dataloaders: (<torch.utils.data.dataloader.DataLoader object at 0x7e9869f731c0>, <torch.utils.data.dataloader.DataLoader object at 0x7e9869f73070>)\n",
      "Length of training dataset: 42728\n",
      "Length of train dataloader: 42 batches of 1024\n",
      "Length of test dataset: 10682\n",
      "Length of test dataloader: 11 batches of 1024\n"
     ]
    }
   ],
   "source": [
    "from torch.utils.data import DataLoader\n",
    "import os\n",
    "\n",
    "BATCH_SIZE = 1024\n",
    "NUM_CORES = os.cpu_count() \n",
    "\n",
    "\n",
    "train_dataloader = DataLoader(train_dataset, batch_size=BATCH_SIZE, collate_fn = collate_fn, num_workers = NUM_CORES, pin_memory = True)\n",
    "test_dataloader = DataLoader(test_dataset, batch_size=BATCH_SIZE, collate_fn = collate_fn, num_workers = NUM_CORES, pin_memory = True)\n",
    "\n",
    "# Let's check out what we've created\n",
    "print(f\"Dataloaders: {train_dataloader, test_dataloader}\") \n",
    "print(f\"Length of training dataset: {len(train_dataloader.dataset)}\")\n",
    "print(f\"Length of train dataloader: {len(train_dataloader)} batches of {BATCH_SIZE}\")\n",
    "print(f\"Length of test dataset: {len(test_dataloader.dataset)}\")\n",
    "print(f\"Length of test dataloader: {len(test_dataloader)} batches of {BATCH_SIZE}\")"
   ]
  },
  {
   "cell_type": "code",
   "execution_count": 19,
   "id": "6fca68b3",
   "metadata": {
    "execution": {
     "iopub.execute_input": "2024-06-01T05:52:43.163178Z",
     "iopub.status.busy": "2024-06-01T05:52:43.162516Z",
     "iopub.status.idle": "2024-06-01T05:52:45.153552Z",
     "shell.execute_reply": "2024-06-01T05:52:45.152508Z"
    },
    "papermill": {
     "duration": 2.008862,
     "end_time": "2024-06-01T05:52:45.155584",
     "exception": false,
     "start_time": "2024-06-01T05:52:43.146722",
     "status": "completed"
    },
    "tags": []
   },
   "outputs": [
    {
     "data": {
      "text/plain": [
       "(torch.Size([1024, 100, 7]), torch.Size([1024]))"
      ]
     },
     "execution_count": 19,
     "metadata": {},
     "output_type": "execute_result"
    }
   ],
   "source": [
    "train_features_batch, train_labels_batch = next(iter(train_dataloader))\n",
    "train_features_batch.shape, train_labels_batch.shape"
   ]
  },
  {
   "cell_type": "code",
   "execution_count": 20,
   "id": "e3a1ccc8",
   "metadata": {
    "execution": {
     "iopub.execute_input": "2024-06-01T05:52:45.230335Z",
     "iopub.status.busy": "2024-06-01T05:52:45.229955Z",
     "iopub.status.idle": "2024-06-01T05:52:47.273068Z",
     "shell.execute_reply": "2024-06-01T05:52:47.272063Z"
    },
    "papermill": {
     "duration": 2.06162,
     "end_time": "2024-06-01T05:52:47.275205",
     "exception": false,
     "start_time": "2024-06-01T05:52:45.213585",
     "status": "completed"
    },
    "tags": []
   },
   "outputs": [
    {
     "data": {
      "text/plain": [
       "(torch.Size([1024, 100, 7]), torch.Size([1024]))"
      ]
     },
     "execution_count": 20,
     "metadata": {},
     "output_type": "execute_result"
    }
   ],
   "source": [
    "test_features_batch, test_labels_batch = next(iter(test_dataloader))\n",
    "test_features_batch.shape, test_labels_batch.shape"
   ]
  },
  {
   "cell_type": "markdown",
   "id": "d678d097",
   "metadata": {
    "papermill": {
     "duration": 0.015858,
     "end_time": "2024-06-01T05:52:47.307079",
     "exception": false,
     "start_time": "2024-06-01T05:52:47.291221",
     "status": "completed"
    },
    "tags": []
   },
   "source": [
    "# Model architecture"
   ]
  },
  {
   "cell_type": "code",
   "execution_count": 21,
   "id": "4490202d",
   "metadata": {
    "execution": {
     "iopub.execute_input": "2024-06-01T05:52:47.340689Z",
     "iopub.status.busy": "2024-06-01T05:52:47.340331Z",
     "iopub.status.idle": "2024-06-01T05:52:47.352164Z",
     "shell.execute_reply": "2024-06-01T05:52:47.351246Z"
    },
    "papermill": {
     "duration": 0.031208,
     "end_time": "2024-06-01T05:52:47.354145",
     "exception": false,
     "start_time": "2024-06-01T05:52:47.322937",
     "status": "completed"
    },
    "tags": []
   },
   "outputs": [],
   "source": [
    "import torch\n",
    "import torch.nn as nn\n",
    "\n",
    "class GRU_Model(nn.Module):\n",
    "    def __init__(self, embedding_size, hidden_state_size, output_size, bidirectional=False):\n",
    "        super().__init__()\n",
    "        \n",
    "        self.gru = nn.GRU(\n",
    "            input_size=embedding_size,\n",
    "            hidden_size=hidden_state_size,\n",
    "            batch_first=True,\n",
    "            bias=True,\n",
    "            bidirectional=bidirectional\n",
    "        )\n",
    "        \n",
    "        if not bidirectional:\n",
    "            self.classifier = nn.Sequential(\n",
    "                nn.LayerNorm(hidden_state_size),\n",
    "                nn.Linear(hidden_state_size, hidden_state_size),\n",
    "                nn.ReLU(),\n",
    "                nn.LayerNorm(hidden_state_size),\n",
    "                nn.Linear(hidden_state_size, hidden_state_size),\n",
    "                nn.ReLU(),\n",
    "                nn.LayerNorm(hidden_state_size),\n",
    "                nn.Linear(hidden_state_size, output_size)\n",
    "            )\n",
    "        else:\n",
    "            self.classifier = nn.Sequential(\n",
    "                nn.LayerNorm(2 * hidden_state_size),\n",
    "                nn.Linear(2 * hidden_state_size, 2 * hidden_state_size),\n",
    "                nn.ReLU(),\n",
    "                nn.LayerNorm(2 * hidden_state_size),\n",
    "                nn.Linear(2 * hidden_state_size, 2 * hidden_state_size),\n",
    "                nn.ReLU(),\n",
    "                nn.LayerNorm(2 * hidden_state_size),\n",
    "                nn.Linear(2 * hidden_state_size, output_size)\n",
    "            )\n",
    "        \n",
    "    def forward(self, x):\n",
    "        # x_shape = [N, seq, features]\n",
    "        out, hn = self.gru(x)\n",
    "        # output_GRU_shape = [N, seq, hidden_size]; \n",
    "        # hidden_GRU_shape = [D, N, hidden_size]\n",
    "        hn = hn.permute(1, 0, 2)\n",
    "        hn = hn.reshape(hn.shape[0], -1)\n",
    "        out = self.classifier(hn)\n",
    "        # output_linear_shape = [N, output_size]\n",
    "        return out\n"
   ]
  },
  {
   "cell_type": "markdown",
   "id": "35a72b1b",
   "metadata": {
    "papermill": {
     "duration": 0.015909,
     "end_time": "2024-06-01T05:52:47.386035",
     "exception": false,
     "start_time": "2024-06-01T05:52:47.370126",
     "status": "completed"
    },
    "tags": []
   },
   "source": [
    "# GRU"
   ]
  },
  {
   "cell_type": "code",
   "execution_count": 22,
   "id": "eaa4e2d6",
   "metadata": {
    "execution": {
     "iopub.execute_input": "2024-06-01T05:52:47.418695Z",
     "iopub.status.busy": "2024-06-01T05:52:47.418391Z",
     "iopub.status.idle": "2024-06-01T05:52:47.434937Z",
     "shell.execute_reply": "2024-06-01T05:52:47.434032Z"
    },
    "papermill": {
     "duration": 0.034913,
     "end_time": "2024-06-01T05:52:47.436845",
     "exception": false,
     "start_time": "2024-06-01T05:52:47.401932",
     "status": "completed"
    },
    "tags": []
   },
   "outputs": [
    {
     "data": {
      "text/plain": [
       "GRU_Model(\n",
       "  (gru): GRU(7, 128, batch_first=True)\n",
       "  (classifier): Sequential(\n",
       "    (0): LayerNorm((128,), eps=1e-05, elementwise_affine=True)\n",
       "    (1): Linear(in_features=128, out_features=128, bias=True)\n",
       "    (2): ReLU()\n",
       "    (3): LayerNorm((128,), eps=1e-05, elementwise_affine=True)\n",
       "    (4): Linear(in_features=128, out_features=128, bias=True)\n",
       "    (5): ReLU()\n",
       "    (6): LayerNorm((128,), eps=1e-05, elementwise_affine=True)\n",
       "    (7): Linear(in_features=128, out_features=11, bias=True)\n",
       "  )\n",
       ")"
      ]
     },
     "execution_count": 22,
     "metadata": {},
     "output_type": "execute_result"
    }
   ],
   "source": [
    "torch.manual_seed(42)\n",
    "torch.cuda.manual_seed(42)\n",
    "\n",
    "model_0 = GRU_Model(embedding_size = len(cols),\n",
    "                   hidden_state_size = 128,\n",
    "                   output_size = 11)\n",
    "model_0"
   ]
  },
  {
   "cell_type": "markdown",
   "id": "55514a3a",
   "metadata": {
    "papermill": {
     "duration": 0.015305,
     "end_time": "2024-06-01T05:52:47.467626",
     "exception": false,
     "start_time": "2024-06-01T05:52:47.452321",
     "status": "completed"
    },
    "tags": []
   },
   "source": [
    "## Train model"
   ]
  },
  {
   "cell_type": "code",
   "execution_count": 23,
   "id": "35e80a1f",
   "metadata": {
    "execution": {
     "iopub.execute_input": "2024-06-01T05:52:47.500106Z",
     "iopub.status.busy": "2024-06-01T05:52:47.499526Z",
     "iopub.status.idle": "2024-06-01T05:52:47.504753Z",
     "shell.execute_reply": "2024-06-01T05:52:47.503903Z"
    },
    "papermill": {
     "duration": 0.023463,
     "end_time": "2024-06-01T05:52:47.506622",
     "exception": false,
     "start_time": "2024-06-01T05:52:47.483159",
     "status": "completed"
    },
    "tags": []
   },
   "outputs": [],
   "source": [
    "# Set seeds\n",
    "def set_seeds(seed: int=42):\n",
    "    \"\"\"Sets random sets for torch operations.\n",
    "\n",
    "    Args:\n",
    "        seed (int, optional): Random seed to set. Defaults to 42.\n",
    "    \"\"\"\n",
    "    # Set the seed for general torch operations\n",
    "    torch.manual_seed(seed)\n",
    "    # Set the seed for CUDA torch operations (ones that happen on the GPU)\n",
    "    torch.cuda.manual_seed(seed)"
   ]
  },
  {
   "cell_type": "code",
   "execution_count": 24,
   "id": "8602c571",
   "metadata": {
    "execution": {
     "iopub.execute_input": "2024-06-01T05:52:47.539067Z",
     "iopub.status.busy": "2024-06-01T05:52:47.538753Z",
     "iopub.status.idle": "2024-06-01T05:52:47.552172Z",
     "shell.execute_reply": "2024-06-01T05:52:47.551311Z"
    },
    "papermill": {
     "duration": 0.032003,
     "end_time": "2024-06-01T05:52:47.554075",
     "exception": false,
     "start_time": "2024-06-01T05:52:47.522072",
     "status": "completed"
    },
    "tags": []
   },
   "outputs": [],
   "source": [
    "def train_step(model: torch.nn.Module,\n",
    "               data_loader: torch.utils.data.DataLoader,\n",
    "               loss_fn: torch.nn.Module,\n",
    "               optimizer: torch.optim.Optimizer,\n",
    "               accuracy_fn: torchmetrics,\n",
    "               device: torch.device = 'cpu'):\n",
    "    \n",
    "    if device != 'cpu':\n",
    "        model.to(device)\n",
    "        accuracy_fn.to(device)\n",
    "    \n",
    "    train_loss, train_acc = 0, 0\n",
    "    model.train()\n",
    "    for batch, (X, y) in enumerate(data_loader):\n",
    "        # Send data to GPU\n",
    "        if device != 'cpu':\n",
    "            X, y = X.to(device), y.to(device)\n",
    "\n",
    "        # 1. Forward pass\n",
    "        y_pred = model(X)\n",
    "#         print(f'y_pred: {y_pred}')\n",
    "\n",
    "        # 2. Calculate loss\n",
    "        loss = loss_fn(y_pred, y)\n",
    "        train_loss += loss\n",
    "#         print(f'train_loss/batch: {train_loss}')\n",
    "        \n",
    "#         print(f'batch {batch}')\n",
    "#         if math.isnan(loss):\n",
    "#             print(X.shape)\n",
    "    \n",
    "        # 3. Calculate accuracy\n",
    "        y_pred_class = torch.argmax(torch.softmax(y_pred, dim=1), dim=1)\n",
    "        train_acc += accuracy_fn(y, y_pred_class) # Go from logits -> pred labels\n",
    "\n",
    "        # 3. Optimizer zero grad\n",
    "        optimizer.zero_grad()\n",
    "\n",
    "        # 4. Loss backward\n",
    "        loss.backward()\n",
    "\n",
    "        # 5. Optimizer step\n",
    "        optimizer.step()\n",
    "    \n",
    "    # Calculate loss and accuracy per epoch and print out what's happening\n",
    "    train_loss /= len(data_loader)\n",
    "    train_acc /= len(data_loader)\n",
    "\t\t\n",
    "    return train_loss, train_acc\n",
    "\n",
    "def test_step(model: torch.nn.Module,\n",
    "              data_loader: torch.utils.data.DataLoader,\n",
    "              loss_fn: torch.nn.Module,\n",
    "              accuracy_fn: torchmetrics,\n",
    "              device: torch.device = 'cpu'):\n",
    "    \n",
    "    if device != 'cpu':\n",
    "        model.to(device)\n",
    "        accuracy_fn.to(device)\n",
    "\n",
    "    test_loss, test_acc = 0, 0\n",
    "    model.eval() # put model in eval mode\n",
    "    # Turn on inference context manager\n",
    "    with torch.inference_mode(): \n",
    "        for X, y in data_loader:\n",
    "            # Send data to GPU\n",
    "            if device != 'cpu':\n",
    "                X, y = X.to(device), y.to(device)\n",
    "            \n",
    "            # 1. Forward pass\n",
    "            y_pred = model(X)\n",
    "            \n",
    "            # 2. Calculate loss\n",
    "            test_loss += loss_fn(y_pred, y)\n",
    "\t\t\t\t\t\t\n",
    "            # 3. Calculate accuracy\n",
    "            y_pred_class = torch.argmax(torch.softmax(y_pred, dim=1), dim=1)\n",
    "            test_acc += accuracy_fn(y, y_pred_class) # Go from logits -> pred labels\n",
    "            \n",
    "        \n",
    "        # Adjust metrics and print out\n",
    "        test_loss /= len(data_loader)\n",
    "        test_acc /= len(data_loader)\n",
    "\t\t\n",
    "    return test_loss, test_acc"
   ]
  },
  {
   "cell_type": "code",
   "execution_count": 25,
   "id": "15f98017",
   "metadata": {
    "execution": {
     "iopub.execute_input": "2024-06-01T05:52:47.586807Z",
     "iopub.status.busy": "2024-06-01T05:52:47.586498Z",
     "iopub.status.idle": "2024-06-01T05:52:47.596736Z",
     "shell.execute_reply": "2024-06-01T05:52:47.595860Z"
    },
    "papermill": {
     "duration": 0.028534,
     "end_time": "2024-06-01T05:52:47.598563",
     "exception": false,
     "start_time": "2024-06-01T05:52:47.570029",
     "status": "completed"
    },
    "tags": []
   },
   "outputs": [],
   "source": [
    "from typing import Dict, List, Tuple\n",
    "\n",
    "def train(model: torch.nn.Module, \n",
    "          train_dataloader: torch.utils.data.DataLoader, \n",
    "          test_dataloader: torch.utils.data.DataLoader, \n",
    "          optimizer: torch.optim.Optimizer,\n",
    "          loss_fn: torch.nn.Module,\n",
    "          accuracy_fn: torchmetrics,\n",
    "          epochs: int,\n",
    "          device: torch.device = 'cpu') -> Dict[str, List]:\n",
    "    \n",
    "    # Create empty results dictionary\n",
    "    results = {\n",
    "        \"Training_Loss\": [],\n",
    "        \"Training_Acc\": [],\n",
    "        \"Test_Loss\": [],\n",
    "        \"Test_Acc\": []\n",
    "    }\n",
    "\n",
    "    # Loop through training and testing steps for a number of epochs\n",
    "    for epoch in tqdm(range(epochs)):\n",
    "            Training_Loss, Training_Acc = train_step(\n",
    "                data_loader=train_dataloader, \n",
    "                model=model, \n",
    "                loss_fn=loss_fn,\n",
    "                optimizer=optimizer,\n",
    "                accuracy_fn=accuracy_fn,\n",
    "                device=device\n",
    "            )\n",
    "            Test_Loss, Test_Acc = test_step(\n",
    "                data_loader=test_dataloader,\n",
    "                model=model,\n",
    "                loss_fn=loss_fn,\n",
    "                accuracy_fn=accuracy_fn,\n",
    "                device=device\n",
    "            )\n",
    "            # Print out what's happening\n",
    "            print(\n",
    "                f\"Epoch: {epoch} | \"\n",
    "                f\"Training_Loss: {Training_Loss:.4f} | \"\n",
    "                f\"Training_Acc: {Training_Acc:.4f} | \"\n",
    "                f\"Test_Loss: {Test_Loss:.4f} | \"\n",
    "                f\"Test_Acc: {Test_Acc:.4f}\"\n",
    "            )\n",
    "\n",
    "            # Update results dictionary\n",
    "            results[\"Training_Loss\"].append(Training_Loss.item())\n",
    "            results[\"Training_Acc\"].append(Training_Acc.item())\n",
    "            results[\"Test_Loss\"].append(Test_Loss.item())\n",
    "            results[\"Test_Acc\"].append(Test_Acc.item())\n",
    "\n",
    "  # Return the filled results at the end of the epochs\n",
    "    return results"
   ]
  },
  {
   "cell_type": "code",
   "execution_count": 26,
   "id": "d2850601",
   "metadata": {
    "execution": {
     "iopub.execute_input": "2024-06-01T05:52:47.632989Z",
     "iopub.status.busy": "2024-06-01T05:52:47.632294Z",
     "iopub.status.idle": "2024-06-01T05:52:48.284433Z",
     "shell.execute_reply": "2024-06-01T05:52:48.283614Z"
    },
    "papermill": {
     "duration": 0.672116,
     "end_time": "2024-06-01T05:52:48.286620",
     "exception": false,
     "start_time": "2024-06-01T05:52:47.614504",
     "status": "completed"
    },
    "tags": []
   },
   "outputs": [],
   "source": [
    "# Setup loss function and optimizer\n",
    "loss_fn = nn.CrossEntropyLoss()\n",
    "optimizer = torch.optim.Adam(params=model_0.parameters(), lr=0.001)\n",
    "accuracy_fn = torchmetrics.F1Score(task = 'multiclass', num_classes=11)"
   ]
  },
  {
   "cell_type": "code",
   "execution_count": 27,
   "id": "3dde6d9e",
   "metadata": {
    "execution": {
     "iopub.execute_input": "2024-06-01T05:52:48.321192Z",
     "iopub.status.busy": "2024-06-01T05:52:48.320237Z",
     "iopub.status.idle": "2024-06-01T06:33:30.756552Z",
     "shell.execute_reply": "2024-06-01T06:33:30.755454Z"
    },
    "papermill": {
     "duration": 2442.455582,
     "end_time": "2024-06-01T06:33:30.758515",
     "exception": false,
     "start_time": "2024-06-01T05:52:48.302933",
     "status": "completed"
    },
    "tags": []
   },
   "outputs": [
    {
     "data": {
      "application/vnd.jupyter.widget-view+json": {
       "model_id": "b0fb41eba7264840bf003e686f59a5a4",
       "version_major": 2,
       "version_minor": 0
      },
      "text/plain": [
       "  0%|          | 0/200 [00:00<?, ?it/s]"
      ]
     },
     "metadata": {},
     "output_type": "display_data"
    },
    {
     "name": "stdout",
     "output_type": "stream",
     "text": [
      "Epoch: 0 | Training_Loss: 2.0714 | Training_Acc: 0.2657 | Test_Loss: 1.7638 | Test_Acc: 0.3544\n",
      "Epoch: 1 | Training_Loss: 1.7778 | Training_Acc: 0.3520 | Test_Loss: 1.5973 | Test_Acc: 0.3768\n",
      "Epoch: 2 | Training_Loss: 1.6528 | Training_Acc: 0.3971 | Test_Loss: 1.4994 | Test_Acc: 0.4222\n",
      "Epoch: 3 | Training_Loss: 1.5586 | Training_Acc: 0.4192 | Test_Loss: 1.4496 | Test_Acc: 0.4377\n",
      "Epoch: 4 | Training_Loss: 1.4887 | Training_Acc: 0.4546 | Test_Loss: 1.4094 | Test_Acc: 0.4777\n",
      "Epoch: 5 | Training_Loss: 1.4641 | Training_Acc: 0.4787 | Test_Loss: 1.3797 | Test_Acc: 0.4815\n",
      "Epoch: 6 | Training_Loss: 1.4232 | Training_Acc: 0.4985 | Test_Loss: 1.3853 | Test_Acc: 0.4838\n",
      "Epoch: 7 | Training_Loss: 1.4038 | Training_Acc: 0.5109 | Test_Loss: 1.3235 | Test_Acc: 0.5114\n",
      "Epoch: 8 | Training_Loss: 1.3522 | Training_Acc: 0.5291 | Test_Loss: 1.3212 | Test_Acc: 0.5137\n",
      "Epoch: 9 | Training_Loss: 1.3624 | Training_Acc: 0.5284 | Test_Loss: 1.3023 | Test_Acc: 0.5269\n",
      "Epoch: 10 | Training_Loss: 1.3051 | Training_Acc: 0.5535 | Test_Loss: 1.2390 | Test_Acc: 0.5667\n",
      "Epoch: 11 | Training_Loss: 1.2845 | Training_Acc: 0.5656 | Test_Loss: 1.2345 | Test_Acc: 0.5591\n",
      "Epoch: 12 | Training_Loss: 1.3031 | Training_Acc: 0.5581 | Test_Loss: 1.2394 | Test_Acc: 0.5592\n",
      "Epoch: 13 | Training_Loss: 1.2535 | Training_Acc: 0.5814 | Test_Loss: 1.1681 | Test_Acc: 0.6075\n",
      "Epoch: 14 | Training_Loss: 1.2394 | Training_Acc: 0.5816 | Test_Loss: 1.1489 | Test_Acc: 0.6186\n",
      "Epoch: 15 | Training_Loss: 1.2271 | Training_Acc: 0.5964 | Test_Loss: 1.1786 | Test_Acc: 0.6033\n",
      "Epoch: 16 | Training_Loss: 1.2184 | Training_Acc: 0.6020 | Test_Loss: 1.1246 | Test_Acc: 0.6277\n",
      "Epoch: 17 | Training_Loss: 1.1892 | Training_Acc: 0.6073 | Test_Loss: 1.1067 | Test_Acc: 0.6252\n",
      "Epoch: 18 | Training_Loss: 1.2106 | Training_Acc: 0.6004 | Test_Loss: 1.0996 | Test_Acc: 0.6353\n",
      "Epoch: 19 | Training_Loss: 1.1338 | Training_Acc: 0.6329 | Test_Loss: 1.0834 | Test_Acc: 0.6454\n",
      "Epoch: 20 | Training_Loss: 1.1566 | Training_Acc: 0.6185 | Test_Loss: 1.1071 | Test_Acc: 0.6347\n",
      "Epoch: 21 | Training_Loss: 1.1562 | Training_Acc: 0.6193 | Test_Loss: 1.0625 | Test_Acc: 0.6527\n",
      "Epoch: 22 | Training_Loss: 1.1682 | Training_Acc: 0.6131 | Test_Loss: 1.0854 | Test_Acc: 0.6386\n",
      "Epoch: 23 | Training_Loss: 1.1062 | Training_Acc: 0.6427 | Test_Loss: 1.0810 | Test_Acc: 0.6414\n",
      "Epoch: 24 | Training_Loss: 1.1176 | Training_Acc: 0.6422 | Test_Loss: 1.0557 | Test_Acc: 0.6547\n",
      "Epoch: 25 | Training_Loss: 1.0933 | Training_Acc: 0.6506 | Test_Loss: 1.0491 | Test_Acc: 0.6598\n",
      "Epoch: 26 | Training_Loss: 1.0719 | Training_Acc: 0.6598 | Test_Loss: 1.0638 | Test_Acc: 0.6397\n",
      "Epoch: 27 | Training_Loss: 1.1276 | Training_Acc: 0.6344 | Test_Loss: 1.0728 | Test_Acc: 0.6437\n",
      "Epoch: 28 | Training_Loss: 1.1362 | Training_Acc: 0.6313 | Test_Loss: 1.2976 | Test_Acc: 0.5142\n",
      "Epoch: 29 | Training_Loss: 1.2188 | Training_Acc: 0.5947 | Test_Loss: 1.1436 | Test_Acc: 0.6099\n",
      "Epoch: 30 | Training_Loss: 1.1639 | Training_Acc: 0.6147 | Test_Loss: 1.0992 | Test_Acc: 0.6325\n",
      "Epoch: 31 | Training_Loss: 1.1403 | Training_Acc: 0.6285 | Test_Loss: 1.0897 | Test_Acc: 0.6471\n",
      "Epoch: 32 | Training_Loss: 1.1074 | Training_Acc: 0.6423 | Test_Loss: 1.0671 | Test_Acc: 0.6481\n",
      "Epoch: 33 | Training_Loss: 1.0763 | Training_Acc: 0.6531 | Test_Loss: 1.0275 | Test_Acc: 0.6688\n",
      "Epoch: 34 | Training_Loss: 1.0900 | Training_Acc: 0.6414 | Test_Loss: 1.0376 | Test_Acc: 0.6586\n",
      "Epoch: 35 | Training_Loss: 1.0858 | Training_Acc: 0.6455 | Test_Loss: 1.0086 | Test_Acc: 0.6779\n",
      "Epoch: 36 | Training_Loss: 1.0284 | Training_Acc: 0.6692 | Test_Loss: 0.9813 | Test_Acc: 0.6812\n",
      "Epoch: 37 | Training_Loss: 1.0127 | Training_Acc: 0.6717 | Test_Loss: 0.9613 | Test_Acc: 0.6908\n",
      "Epoch: 38 | Training_Loss: 1.0030 | Training_Acc: 0.6763 | Test_Loss: 0.9532 | Test_Acc: 0.6959\n",
      "Epoch: 39 | Training_Loss: 1.0033 | Training_Acc: 0.6746 | Test_Loss: 0.9505 | Test_Acc: 0.7003\n",
      "Epoch: 40 | Training_Loss: 1.0234 | Training_Acc: 0.6719 | Test_Loss: 0.9545 | Test_Acc: 0.6937\n",
      "Epoch: 41 | Training_Loss: 1.0257 | Training_Acc: 0.6677 | Test_Loss: 0.9588 | Test_Acc: 0.6954\n",
      "Epoch: 42 | Training_Loss: 1.0268 | Training_Acc: 0.6722 | Test_Loss: 0.9587 | Test_Acc: 0.6953\n",
      "Epoch: 43 | Training_Loss: 0.9867 | Training_Acc: 0.6877 | Test_Loss: 0.9309 | Test_Acc: 0.7069\n",
      "Epoch: 44 | Training_Loss: 0.9650 | Training_Acc: 0.6952 | Test_Loss: 0.9214 | Test_Acc: 0.7077\n",
      "Epoch: 45 | Training_Loss: 0.9615 | Training_Acc: 0.6964 | Test_Loss: 0.9176 | Test_Acc: 0.7098\n",
      "Epoch: 46 | Training_Loss: 0.9601 | Training_Acc: 0.6971 | Test_Loss: 0.9189 | Test_Acc: 0.7101\n",
      "Epoch: 47 | Training_Loss: 0.9473 | Training_Acc: 0.7028 | Test_Loss: 0.9314 | Test_Acc: 0.7085\n",
      "Epoch: 48 | Training_Loss: 0.9548 | Training_Acc: 0.7007 | Test_Loss: 0.9268 | Test_Acc: 0.7107\n",
      "Epoch: 49 | Training_Loss: 0.9469 | Training_Acc: 0.7022 | Test_Loss: 0.9130 | Test_Acc: 0.7182\n",
      "Epoch: 50 | Training_Loss: 0.9432 | Training_Acc: 0.7058 | Test_Loss: 0.9061 | Test_Acc: 0.7177\n",
      "Epoch: 51 | Training_Loss: 0.9385 | Training_Acc: 0.7051 | Test_Loss: 0.9144 | Test_Acc: 0.7155\n",
      "Epoch: 52 | Training_Loss: 0.9473 | Training_Acc: 0.7013 | Test_Loss: 0.9145 | Test_Acc: 0.7123\n",
      "Epoch: 53 | Training_Loss: 0.9363 | Training_Acc: 0.7050 | Test_Loss: 0.9167 | Test_Acc: 0.7094\n",
      "Epoch: 54 | Training_Loss: 0.9424 | Training_Acc: 0.7024 | Test_Loss: 0.9013 | Test_Acc: 0.7183\n",
      "Epoch: 55 | Training_Loss: 0.9378 | Training_Acc: 0.7043 | Test_Loss: 0.9089 | Test_Acc: 0.7163\n",
      "Epoch: 56 | Training_Loss: 0.9203 | Training_Acc: 0.7121 | Test_Loss: 0.9248 | Test_Acc: 0.7128\n",
      "Epoch: 57 | Training_Loss: 0.9459 | Training_Acc: 0.7027 | Test_Loss: 0.9069 | Test_Acc: 0.7156\n",
      "Epoch: 58 | Training_Loss: 0.9284 | Training_Acc: 0.7082 | Test_Loss: 0.8961 | Test_Acc: 0.7213\n",
      "Epoch: 59 | Training_Loss: 0.9324 | Training_Acc: 0.7052 | Test_Loss: 0.8880 | Test_Acc: 0.7218\n",
      "Epoch: 60 | Training_Loss: 0.9097 | Training_Acc: 0.7149 | Test_Loss: 0.8832 | Test_Acc: 0.7242\n",
      "Epoch: 61 | Training_Loss: 0.9076 | Training_Acc: 0.7163 | Test_Loss: 0.8886 | Test_Acc: 0.7204\n",
      "Epoch: 62 | Training_Loss: 0.9017 | Training_Acc: 0.7180 | Test_Loss: 0.8896 | Test_Acc: 0.7221\n",
      "Epoch: 63 | Training_Loss: 0.9120 | Training_Acc: 0.7139 | Test_Loss: 0.8980 | Test_Acc: 0.7166\n",
      "Epoch: 64 | Training_Loss: 0.8969 | Training_Acc: 0.7185 | Test_Loss: 0.8842 | Test_Acc: 0.7241\n",
      "Epoch: 65 | Training_Loss: 0.8908 | Training_Acc: 0.7218 | Test_Loss: 0.8765 | Test_Acc: 0.7270\n",
      "Epoch: 66 | Training_Loss: 0.8883 | Training_Acc: 0.7223 | Test_Loss: 0.8756 | Test_Acc: 0.7271\n",
      "Epoch: 67 | Training_Loss: 0.8849 | Training_Acc: 0.7234 | Test_Loss: 0.8814 | Test_Acc: 0.7238\n",
      "Epoch: 68 | Training_Loss: 0.8904 | Training_Acc: 0.7213 | Test_Loss: 0.8835 | Test_Acc: 0.7250\n",
      "Epoch: 69 | Training_Loss: 0.8867 | Training_Acc: 0.7219 | Test_Loss: 0.8716 | Test_Acc: 0.7277\n",
      "Epoch: 70 | Training_Loss: 0.8848 | Training_Acc: 0.7224 | Test_Loss: 0.8660 | Test_Acc: 0.7309\n",
      "Epoch: 71 | Training_Loss: 0.8866 | Training_Acc: 0.7219 | Test_Loss: 0.8625 | Test_Acc: 0.7321\n",
      "Epoch: 72 | Training_Loss: 0.8772 | Training_Acc: 0.7253 | Test_Loss: 0.8501 | Test_Acc: 0.7346\n",
      "Epoch: 73 | Training_Loss: 0.8649 | Training_Acc: 0.7283 | Test_Loss: 0.8447 | Test_Acc: 0.7389\n",
      "Epoch: 74 | Training_Loss: 0.8728 | Training_Acc: 0.7266 | Test_Loss: 0.8427 | Test_Acc: 0.7390\n",
      "Epoch: 75 | Training_Loss: 0.8592 | Training_Acc: 0.7311 | Test_Loss: 0.8341 | Test_Acc: 0.7421\n",
      "Epoch: 76 | Training_Loss: 0.8582 | Training_Acc: 0.7296 | Test_Loss: 0.8457 | Test_Acc: 0.7397\n",
      "Epoch: 77 | Training_Loss: 0.8624 | Training_Acc: 0.7289 | Test_Loss: 0.8339 | Test_Acc: 0.7426\n",
      "Epoch: 78 | Training_Loss: 0.8481 | Training_Acc: 0.7350 | Test_Loss: 0.8435 | Test_Acc: 0.7390\n",
      "Epoch: 79 | Training_Loss: 0.8514 | Training_Acc: 0.7342 | Test_Loss: 0.8536 | Test_Acc: 0.7340\n",
      "Epoch: 80 | Training_Loss: 0.8473 | Training_Acc: 0.7351 | Test_Loss: 0.8582 | Test_Acc: 0.7345\n",
      "Epoch: 81 | Training_Loss: 0.8459 | Training_Acc: 0.7358 | Test_Loss: 0.8445 | Test_Acc: 0.7370\n",
      "Epoch: 82 | Training_Loss: 0.8417 | Training_Acc: 0.7355 | Test_Loss: 0.8357 | Test_Acc: 0.7397\n",
      "Epoch: 83 | Training_Loss: 0.8529 | Training_Acc: 0.7347 | Test_Loss: 0.8368 | Test_Acc: 0.7399\n",
      "Epoch: 84 | Training_Loss: 0.8420 | Training_Acc: 0.7354 | Test_Loss: 0.8299 | Test_Acc: 0.7421\n",
      "Epoch: 85 | Training_Loss: 0.8345 | Training_Acc: 0.7380 | Test_Loss: 0.8350 | Test_Acc: 0.7422\n",
      "Epoch: 86 | Training_Loss: 0.8877 | Training_Acc: 0.7171 | Test_Loss: 0.9233 | Test_Acc: 0.7056\n",
      "Epoch: 87 | Training_Loss: 0.9321 | Training_Acc: 0.7068 | Test_Loss: 0.8744 | Test_Acc: 0.7254\n",
      "Epoch: 88 | Training_Loss: 0.8728 | Training_Acc: 0.7298 | Test_Loss: 0.8652 | Test_Acc: 0.7326\n",
      "Epoch: 89 | Training_Loss: 0.8659 | Training_Acc: 0.7275 | Test_Loss: 0.8653 | Test_Acc: 0.7318\n",
      "Epoch: 90 | Training_Loss: 0.8545 | Training_Acc: 0.7340 | Test_Loss: 0.8502 | Test_Acc: 0.7341\n",
      "Epoch: 91 | Training_Loss: 0.8612 | Training_Acc: 0.7290 | Test_Loss: 0.8429 | Test_Acc: 0.7352\n",
      "Epoch: 92 | Training_Loss: 0.8425 | Training_Acc: 0.7365 | Test_Loss: 0.8335 | Test_Acc: 0.7400\n",
      "Epoch: 93 | Training_Loss: 0.8190 | Training_Acc: 0.7428 | Test_Loss: 0.8352 | Test_Acc: 0.7381\n",
      "Epoch: 94 | Training_Loss: 0.8172 | Training_Acc: 0.7458 | Test_Loss: 0.8356 | Test_Acc: 0.7387\n",
      "Epoch: 95 | Training_Loss: 0.8163 | Training_Acc: 0.7460 | Test_Loss: 0.8385 | Test_Acc: 0.7385\n",
      "Epoch: 96 | Training_Loss: 1.1407 | Training_Acc: 0.6201 | Test_Loss: 1.6052 | Test_Acc: 0.4040\n",
      "Epoch: 97 | Training_Loss: 1.5428 | Training_Acc: 0.4217 | Test_Loss: 1.4307 | Test_Acc: 0.4394\n",
      "Epoch: 98 | Training_Loss: 1.4337 | Training_Acc: 0.4528 | Test_Loss: 1.3181 | Test_Acc: 0.5073\n",
      "Epoch: 99 | Training_Loss: 1.3215 | Training_Acc: 0.5271 | Test_Loss: 1.2515 | Test_Acc: 0.5387\n",
      "Epoch: 100 | Training_Loss: 1.2474 | Training_Acc: 0.5663 | Test_Loss: 1.2040 | Test_Acc: 0.5612\n",
      "Epoch: 101 | Training_Loss: 1.2178 | Training_Acc: 0.5853 | Test_Loss: 1.1721 | Test_Acc: 0.5814\n",
      "Epoch: 102 | Training_Loss: 1.1736 | Training_Acc: 0.6047 | Test_Loss: 1.1612 | Test_Acc: 0.5902\n",
      "Epoch: 103 | Training_Loss: 1.1474 | Training_Acc: 0.6206 | Test_Loss: 1.1123 | Test_Acc: 0.6207\n",
      "Epoch: 104 | Training_Loss: 1.1200 | Training_Acc: 0.6288 | Test_Loss: 1.0961 | Test_Acc: 0.6362\n",
      "Epoch: 105 | Training_Loss: 1.1168 | Training_Acc: 0.6298 | Test_Loss: 1.0798 | Test_Acc: 0.6440\n",
      "Epoch: 106 | Training_Loss: 1.0954 | Training_Acc: 0.6388 | Test_Loss: 1.0571 | Test_Acc: 0.6534\n",
      "Epoch: 107 | Training_Loss: 1.0831 | Training_Acc: 0.6448 | Test_Loss: 1.0398 | Test_Acc: 0.6608\n",
      "Epoch: 108 | Training_Loss: 1.0970 | Training_Acc: 0.6352 | Test_Loss: 1.0521 | Test_Acc: 0.6541\n",
      "Epoch: 109 | Training_Loss: 1.1244 | Training_Acc: 0.6222 | Test_Loss: 1.0561 | Test_Acc: 0.6522\n",
      "Epoch: 110 | Training_Loss: 1.0976 | Training_Acc: 0.6352 | Test_Loss: 1.0452 | Test_Acc: 0.6534\n",
      "Epoch: 111 | Training_Loss: 1.0634 | Training_Acc: 0.6505 | Test_Loss: 1.0496 | Test_Acc: 0.6523\n",
      "Epoch: 112 | Training_Loss: 1.0911 | Training_Acc: 0.6414 | Test_Loss: 1.0458 | Test_Acc: 0.6588\n",
      "Epoch: 113 | Training_Loss: 1.0537 | Training_Acc: 0.6538 | Test_Loss: 1.0455 | Test_Acc: 0.6502\n",
      "Epoch: 114 | Training_Loss: 1.0506 | Training_Acc: 0.6550 | Test_Loss: 1.0367 | Test_Acc: 0.6551\n",
      "Epoch: 115 | Training_Loss: 1.0498 | Training_Acc: 0.6544 | Test_Loss: 1.0196 | Test_Acc: 0.6649\n",
      "Epoch: 116 | Training_Loss: 1.0390 | Training_Acc: 0.6572 | Test_Loss: 1.0197 | Test_Acc: 0.6646\n",
      "Epoch: 117 | Training_Loss: 1.0220 | Training_Acc: 0.6647 | Test_Loss: 1.0171 | Test_Acc: 0.6647\n",
      "Epoch: 118 | Training_Loss: 1.0137 | Training_Acc: 0.6683 | Test_Loss: 1.0085 | Test_Acc: 0.6675\n",
      "Epoch: 119 | Training_Loss: 1.0112 | Training_Acc: 0.6674 | Test_Loss: 1.0027 | Test_Acc: 0.6676\n",
      "Epoch: 120 | Training_Loss: 0.9961 | Training_Acc: 0.6727 | Test_Loss: 1.0016 | Test_Acc: 0.6668\n",
      "Epoch: 121 | Training_Loss: 1.0103 | Training_Acc: 0.6645 | Test_Loss: 0.9970 | Test_Acc: 0.6697\n",
      "Epoch: 122 | Training_Loss: 0.9986 | Training_Acc: 0.6689 | Test_Loss: 0.9895 | Test_Acc: 0.6732\n",
      "Epoch: 123 | Training_Loss: 0.9952 | Training_Acc: 0.6698 | Test_Loss: 0.9872 | Test_Acc: 0.6709\n",
      "Epoch: 124 | Training_Loss: 0.9992 | Training_Acc: 0.6693 | Test_Loss: 0.9850 | Test_Acc: 0.6765\n",
      "Epoch: 125 | Training_Loss: 0.9891 | Training_Acc: 0.6746 | Test_Loss: 0.9725 | Test_Acc: 0.6788\n",
      "Epoch: 126 | Training_Loss: 0.9783 | Training_Acc: 0.6762 | Test_Loss: 0.9584 | Test_Acc: 0.6868\n",
      "Epoch: 127 | Training_Loss: 0.9744 | Training_Acc: 0.6774 | Test_Loss: 0.9550 | Test_Acc: 0.6863\n",
      "Epoch: 128 | Training_Loss: 0.9759 | Training_Acc: 0.6755 | Test_Loss: 0.9573 | Test_Acc: 0.6860\n",
      "Epoch: 129 | Training_Loss: 0.9631 | Training_Acc: 0.6826 | Test_Loss: 0.9531 | Test_Acc: 0.6866\n",
      "Epoch: 130 | Training_Loss: 0.9798 | Training_Acc: 0.6768 | Test_Loss: 0.9450 | Test_Acc: 0.6960\n",
      "Epoch: 131 | Training_Loss: 0.9592 | Training_Acc: 0.6909 | Test_Loss: 0.9378 | Test_Acc: 0.6950\n",
      "Epoch: 132 | Training_Loss: 0.9382 | Training_Acc: 0.6977 | Test_Loss: 0.9429 | Test_Acc: 0.6934\n",
      "Epoch: 133 | Training_Loss: 0.9448 | Training_Acc: 0.6971 | Test_Loss: 0.9402 | Test_Acc: 0.6924\n",
      "Epoch: 134 | Training_Loss: 0.9269 | Training_Acc: 0.7014 | Test_Loss: 0.9362 | Test_Acc: 0.6985\n",
      "Epoch: 135 | Training_Loss: 0.9295 | Training_Acc: 0.6999 | Test_Loss: 0.9459 | Test_Acc: 0.6945\n",
      "Epoch: 136 | Training_Loss: 0.9378 | Training_Acc: 0.6971 | Test_Loss: 0.9385 | Test_Acc: 0.6972\n",
      "Epoch: 137 | Training_Loss: 0.9150 | Training_Acc: 0.7061 | Test_Loss: 0.9417 | Test_Acc: 0.6940\n",
      "Epoch: 138 | Training_Loss: 0.9217 | Training_Acc: 0.7019 | Test_Loss: 0.9462 | Test_Acc: 0.6935\n",
      "Epoch: 139 | Training_Loss: 0.9137 | Training_Acc: 0.7060 | Test_Loss: 0.9336 | Test_Acc: 0.6967\n",
      "Epoch: 140 | Training_Loss: 0.9149 | Training_Acc: 0.7056 | Test_Loss: 0.9380 | Test_Acc: 0.6959\n",
      "Epoch: 141 | Training_Loss: 0.9002 | Training_Acc: 0.7102 | Test_Loss: 0.9293 | Test_Acc: 0.7000\n",
      "Epoch: 142 | Training_Loss: 0.8978 | Training_Acc: 0.7110 | Test_Loss: 0.9374 | Test_Acc: 0.6991\n",
      "Epoch: 143 | Training_Loss: 0.8964 | Training_Acc: 0.7117 | Test_Loss: 0.9277 | Test_Acc: 0.7006\n",
      "Epoch: 144 | Training_Loss: 0.9104 | Training_Acc: 0.7045 | Test_Loss: 0.9903 | Test_Acc: 0.6782\n",
      "Epoch: 145 | Training_Loss: 1.0312 | Training_Acc: 0.6606 | Test_Loss: 0.9984 | Test_Acc: 0.6695\n",
      "Epoch: 146 | Training_Loss: 0.9761 | Training_Acc: 0.6706 | Test_Loss: 0.9642 | Test_Acc: 0.6821\n",
      "Epoch: 147 | Training_Loss: 0.9519 | Training_Acc: 0.6827 | Test_Loss: 0.9418 | Test_Acc: 0.6891\n",
      "Epoch: 148 | Training_Loss: 0.9182 | Training_Acc: 0.7002 | Test_Loss: 0.9288 | Test_Acc: 0.6991\n",
      "Epoch: 149 | Training_Loss: 0.9099 | Training_Acc: 0.7006 | Test_Loss: 0.9249 | Test_Acc: 0.7019\n",
      "Epoch: 150 | Training_Loss: 0.9016 | Training_Acc: 0.7049 | Test_Loss: 0.9229 | Test_Acc: 0.7025\n",
      "Epoch: 151 | Training_Loss: 0.9125 | Training_Acc: 0.7015 | Test_Loss: 0.9286 | Test_Acc: 0.6989\n",
      "Epoch: 152 | Training_Loss: 0.9094 | Training_Acc: 0.7026 | Test_Loss: 0.9240 | Test_Acc: 0.7007\n",
      "Epoch: 153 | Training_Loss: 0.8993 | Training_Acc: 0.7096 | Test_Loss: 0.9180 | Test_Acc: 0.7008\n",
      "Epoch: 154 | Training_Loss: 0.8748 | Training_Acc: 0.7203 | Test_Loss: 0.9045 | Test_Acc: 0.7070\n",
      "Epoch: 155 | Training_Loss: 0.8641 | Training_Acc: 0.7231 | Test_Loss: 0.9014 | Test_Acc: 0.7084\n",
      "Epoch: 156 | Training_Loss: 0.8598 | Training_Acc: 0.7248 | Test_Loss: 0.8991 | Test_Acc: 0.7103\n",
      "Epoch: 157 | Training_Loss: 0.8665 | Training_Acc: 0.7224 | Test_Loss: 0.8931 | Test_Acc: 0.7118\n",
      "Epoch: 158 | Training_Loss: 0.8464 | Training_Acc: 0.7288 | Test_Loss: 0.8844 | Test_Acc: 0.7149\n",
      "Epoch: 159 | Training_Loss: 0.8467 | Training_Acc: 0.7295 | Test_Loss: 0.8883 | Test_Acc: 0.7158\n",
      "Epoch: 160 | Training_Loss: 0.8488 | Training_Acc: 0.7294 | Test_Loss: 0.8783 | Test_Acc: 0.7203\n",
      "Epoch: 161 | Training_Loss: 0.8417 | Training_Acc: 0.7296 | Test_Loss: 0.8762 | Test_Acc: 0.7206\n",
      "Epoch: 162 | Training_Loss: 0.8358 | Training_Acc: 0.7329 | Test_Loss: 0.8732 | Test_Acc: 0.7222\n",
      "Epoch: 163 | Training_Loss: 0.8392 | Training_Acc: 0.7304 | Test_Loss: 0.8720 | Test_Acc: 0.7232\n",
      "Epoch: 164 | Training_Loss: 0.8329 | Training_Acc: 0.7339 | Test_Loss: 0.8603 | Test_Acc: 0.7264\n",
      "Epoch: 165 | Training_Loss: 0.8242 | Training_Acc: 0.7359 | Test_Loss: 0.8562 | Test_Acc: 0.7277\n",
      "Epoch: 166 | Training_Loss: 0.8206 | Training_Acc: 0.7391 | Test_Loss: 0.8544 | Test_Acc: 0.7290\n",
      "Epoch: 167 | Training_Loss: 0.8185 | Training_Acc: 0.7395 | Test_Loss: 0.8569 | Test_Acc: 0.7280\n",
      "Epoch: 168 | Training_Loss: 0.8174 | Training_Acc: 0.7395 | Test_Loss: 0.8547 | Test_Acc: 0.7286\n",
      "Epoch: 169 | Training_Loss: 0.8131 | Training_Acc: 0.7418 | Test_Loss: 0.8513 | Test_Acc: 0.7303\n",
      "Epoch: 170 | Training_Loss: 0.8101 | Training_Acc: 0.7440 | Test_Loss: 0.8515 | Test_Acc: 0.7320\n",
      "Epoch: 171 | Training_Loss: 0.8102 | Training_Acc: 0.7439 | Test_Loss: 0.8449 | Test_Acc: 0.7330\n",
      "Epoch: 172 | Training_Loss: 0.8030 | Training_Acc: 0.7461 | Test_Loss: 0.8411 | Test_Acc: 0.7340\n",
      "Epoch: 173 | Training_Loss: 0.8014 | Training_Acc: 0.7439 | Test_Loss: 0.8495 | Test_Acc: 0.7292\n",
      "Epoch: 174 | Training_Loss: 0.8033 | Training_Acc: 0.7428 | Test_Loss: 0.8397 | Test_Acc: 0.7367\n",
      "Epoch: 175 | Training_Loss: 0.7938 | Training_Acc: 0.7460 | Test_Loss: 0.8409 | Test_Acc: 0.7369\n",
      "Epoch: 176 | Training_Loss: 0.8057 | Training_Acc: 0.7433 | Test_Loss: 0.8561 | Test_Acc: 0.7303\n",
      "Epoch: 177 | Training_Loss: 0.8025 | Training_Acc: 0.7436 | Test_Loss: 0.8473 | Test_Acc: 0.7330\n",
      "Epoch: 178 | Training_Loss: 0.8252 | Training_Acc: 0.7373 | Test_Loss: 0.8477 | Test_Acc: 0.7359\n",
      "Epoch: 179 | Training_Loss: 0.8037 | Training_Acc: 0.7456 | Test_Loss: 0.8436 | Test_Acc: 0.7381\n",
      "Epoch: 180 | Training_Loss: 0.8063 | Training_Acc: 0.7428 | Test_Loss: 0.8411 | Test_Acc: 0.7396\n",
      "Epoch: 181 | Training_Loss: 0.7961 | Training_Acc: 0.7449 | Test_Loss: 0.8329 | Test_Acc: 0.7389\n",
      "Epoch: 182 | Training_Loss: 0.8033 | Training_Acc: 0.7419 | Test_Loss: 0.8255 | Test_Acc: 0.7450\n",
      "Epoch: 183 | Training_Loss: 0.8009 | Training_Acc: 0.7455 | Test_Loss: 0.8356 | Test_Acc: 0.7395\n",
      "Epoch: 184 | Training_Loss: 0.7935 | Training_Acc: 0.7465 | Test_Loss: 0.8317 | Test_Acc: 0.7413\n",
      "Epoch: 185 | Training_Loss: 0.7812 | Training_Acc: 0.7505 | Test_Loss: 0.8265 | Test_Acc: 0.7434\n",
      "Epoch: 186 | Training_Loss: 0.7884 | Training_Acc: 0.7487 | Test_Loss: 0.8219 | Test_Acc: 0.7440\n",
      "Epoch: 187 | Training_Loss: 0.7821 | Training_Acc: 0.7495 | Test_Loss: 0.8212 | Test_Acc: 0.7431\n",
      "Epoch: 188 | Training_Loss: 0.7787 | Training_Acc: 0.7531 | Test_Loss: 0.8169 | Test_Acc: 0.7446\n",
      "Epoch: 189 | Training_Loss: 0.7838 | Training_Acc: 0.7469 | Test_Loss: 0.8194 | Test_Acc: 0.7425\n",
      "Epoch: 190 | Training_Loss: 0.7801 | Training_Acc: 0.7523 | Test_Loss: 0.8187 | Test_Acc: 0.7422\n",
      "Epoch: 191 | Training_Loss: 0.7715 | Training_Acc: 0.7548 | Test_Loss: 0.8133 | Test_Acc: 0.7442\n",
      "Epoch: 192 | Training_Loss: 0.7654 | Training_Acc: 0.7552 | Test_Loss: 0.8113 | Test_Acc: 0.7463\n",
      "Epoch: 193 | Training_Loss: 0.7632 | Training_Acc: 0.7572 | Test_Loss: 0.8110 | Test_Acc: 0.7471\n",
      "Epoch: 194 | Training_Loss: 0.7645 | Training_Acc: 0.7566 | Test_Loss: 0.8124 | Test_Acc: 0.7487\n",
      "Epoch: 195 | Training_Loss: 0.7625 | Training_Acc: 0.7553 | Test_Loss: 0.8056 | Test_Acc: 0.7495\n",
      "Epoch: 196 | Training_Loss: 0.7574 | Training_Acc: 0.7578 | Test_Loss: 0.8111 | Test_Acc: 0.7492\n",
      "Epoch: 197 | Training_Loss: 0.7594 | Training_Acc: 0.7576 | Test_Loss: 0.8100 | Test_Acc: 0.7482\n",
      "Epoch: 198 | Training_Loss: 0.7639 | Training_Acc: 0.7546 | Test_Loss: 0.8116 | Test_Acc: 0.7447\n",
      "Epoch: 199 | Training_Loss: 0.7608 | Training_Acc: 0.7570 | Test_Loss: 0.8210 | Test_Acc: 0.7426\n"
     ]
    }
   ],
   "source": [
    "from tqdm.auto import tqdm\n",
    "\n",
    "set_seeds()\n",
    "\n",
    "# Setup the num_epochs hyperparameter\n",
    "NUM_EPOCHS = 200\n",
    "\n",
    "results = train(model=model_0,\n",
    "                train_dataloader=train_dataloader,\n",
    "                test_dataloader=test_dataloader, \n",
    "                optimizer=optimizer,\n",
    "                loss_fn=loss_fn,\n",
    "                accuracy_fn = accuracy_fn,\n",
    "                epochs=NUM_EPOCHS,\n",
    "                device='cuda')"
   ]
  },
  {
   "cell_type": "markdown",
   "id": "b7d39739",
   "metadata": {
    "papermill": {
     "duration": 0.030976,
     "end_time": "2024-06-01T06:33:30.821500",
     "exception": false,
     "start_time": "2024-06-01T06:33:30.790524",
     "status": "completed"
    },
    "tags": []
   },
   "source": [
    "## Plot training results"
   ]
  },
  {
   "cell_type": "code",
   "execution_count": 28,
   "id": "53c72c19",
   "metadata": {
    "execution": {
     "iopub.execute_input": "2024-06-01T06:33:30.886139Z",
     "iopub.status.busy": "2024-06-01T06:33:30.885738Z",
     "iopub.status.idle": "2024-06-01T06:33:30.893822Z",
     "shell.execute_reply": "2024-06-01T06:33:30.892950Z"
    },
    "papermill": {
     "duration": 0.04265,
     "end_time": "2024-06-01T06:33:30.895640",
     "exception": false,
     "start_time": "2024-06-01T06:33:30.852990",
     "status": "completed"
    },
    "tags": []
   },
   "outputs": [],
   "source": [
    "def plot_results(Training_Loss, Training_Acc, Test_Loss, Test_Acc):\n",
    "    plt.figure(figsize=(10,5))\n",
    "    \n",
    "    plt.subplot(1,2,1)\n",
    "    plt.plot(Training_Loss, color=\"blue\", label=\"Training Loss\")\n",
    "    plt.plot(Test_Loss, color=\"green\", label=\"Test Loss\")\n",
    "    plt.title(\"Training and Test Loss curves\")\n",
    "    plt.xlabel(\"Epoch\")\n",
    "    plt.ylabel(\"Loss value\")\n",
    "    plt.legend()\n",
    "\n",
    "    plt.subplot(1,2,2)\n",
    "    plt.plot(Training_Acc, color=\"blue\", label=\"Training Accuracy\")\n",
    "    plt.plot(Test_Acc, color=\"green\", label=\"Test Accuracy\")\n",
    "    plt.title(\"Training and Test Accuracy curves\")\n",
    "    plt.xlabel(\"Epoch\")\n",
    "    plt.ylabel(\"Accuracy value\")\n",
    "    plt.legend()\n",
    "\n",
    "    plt.tight_layout()\n",
    "    plt.show()"
   ]
  },
  {
   "cell_type": "code",
   "execution_count": 29,
   "id": "cd385f2f",
   "metadata": {
    "execution": {
     "iopub.execute_input": "2024-06-01T06:33:30.960240Z",
     "iopub.status.busy": "2024-06-01T06:33:30.959868Z",
     "iopub.status.idle": "2024-06-01T06:33:31.580847Z",
     "shell.execute_reply": "2024-06-01T06:33:31.579865Z"
    },
    "papermill": {
     "duration": 0.655838,
     "end_time": "2024-06-01T06:33:31.583123",
     "exception": false,
     "start_time": "2024-06-01T06:33:30.927285",
     "status": "completed"
    },
    "tags": []
   },
   "outputs": [
    {
     "data": {
      "image/png": "[encoded data removed]",
      "text/plain": [
       "<Figure size 1000x500 with 2 Axes>"
      ]
     },
     "metadata": {},
     "output_type": "display_data"
    }
   ],
   "source": [
    "plot_results(results[\"Training_Loss\"], results[\"Training_Acc\"], results[\"Test_Loss\"], results[\"Test_Acc\"])"
   ]
  },
  {
   "cell_type": "markdown",
   "id": "6baf9040",
   "metadata": {
    "papermill": {
     "duration": 0.032863,
     "end_time": "2024-06-01T06:33:31.648735",
     "exception": false,
     "start_time": "2024-06-01T06:33:31.615872",
     "status": "completed"
    },
    "tags": []
   },
   "source": [
    "# Bi-GRU"
   ]
  },
  {
   "cell_type": "code",
   "execution_count": 30,
   "id": "5f43c816",
   "metadata": {
    "execution": {
     "iopub.execute_input": "2024-06-01T06:33:31.715778Z",
     "iopub.status.busy": "2024-06-01T06:33:31.715388Z",
     "iopub.status.idle": "2024-06-01T06:33:31.726407Z",
     "shell.execute_reply": "2024-06-01T06:33:31.725505Z"
    },
    "papermill": {
     "duration": 0.047016,
     "end_time": "2024-06-01T06:33:31.728328",
     "exception": false,
     "start_time": "2024-06-01T06:33:31.681312",
     "status": "completed"
    },
    "tags": []
   },
   "outputs": [
    {
     "data": {
      "text/plain": [
       "GRU_Model(\n",
       "  (gru): GRU(7, 128, batch_first=True, bidirectional=True)\n",
       "  (classifier): Sequential(\n",
       "    (0): LayerNorm((256,), eps=1e-05, elementwise_affine=True)\n",
       "    (1): Linear(in_features=256, out_features=256, bias=True)\n",
       "    (2): ReLU()\n",
       "    (3): LayerNorm((256,), eps=1e-05, elementwise_affine=True)\n",
       "    (4): Linear(in_features=256, out_features=256, bias=True)\n",
       "    (5): ReLU()\n",
       "    (6): LayerNorm((256,), eps=1e-05, elementwise_affine=True)\n",
       "    (7): Linear(in_features=256, out_features=11, bias=True)\n",
       "  )\n",
       ")"
      ]
     },
     "execution_count": 30,
     "metadata": {},
     "output_type": "execute_result"
    }
   ],
   "source": [
    "torch.manual_seed(42)\n",
    "torch.cuda.manual_seed(42)\n",
    "\n",
    "model_1 = GRU_Model(embedding_size = len(cols),\n",
    "                     hidden_state_size = 128,\n",
    "                     output_size = 11,\n",
    "                     bidirectional=True\n",
    "                    )\n",
    "model_1"
   ]
  },
  {
   "cell_type": "markdown",
   "id": "e66a250c",
   "metadata": {
    "papermill": {
     "duration": 0.032654,
     "end_time": "2024-06-01T06:33:31.793708",
     "exception": false,
     "start_time": "2024-06-01T06:33:31.761054",
     "status": "completed"
    },
    "tags": []
   },
   "source": [
    "## Train model"
   ]
  },
  {
   "cell_type": "code",
   "execution_count": 31,
   "id": "d237af5d",
   "metadata": {
    "execution": {
     "iopub.execute_input": "2024-06-01T06:33:31.860792Z",
     "iopub.status.busy": "2024-06-01T06:33:31.860444Z",
     "iopub.status.idle": "2024-06-01T06:33:31.867127Z",
     "shell.execute_reply": "2024-06-01T06:33:31.866409Z"
    },
    "papermill": {
     "duration": 0.04234,
     "end_time": "2024-06-01T06:33:31.869002",
     "exception": false,
     "start_time": "2024-06-01T06:33:31.826662",
     "status": "completed"
    },
    "tags": []
   },
   "outputs": [],
   "source": [
    "# Setup loss function and optimizer\n",
    "loss_fn = nn.CrossEntropyLoss()\n",
    "optimizer = torch.optim.Adam(params=model_1.parameters(), lr=0.001)\n",
    "accuracy_fn = torchmetrics.F1Score(task = 'multiclass', num_classes=11)"
   ]
  },
  {
   "cell_type": "code",
   "execution_count": 32,
   "id": "d5588d5f",
   "metadata": {
    "execution": {
     "iopub.execute_input": "2024-06-01T06:33:31.936286Z",
     "iopub.status.busy": "2024-06-01T06:33:31.935900Z",
     "iopub.status.idle": "2024-06-01T07:14:16.245046Z",
     "shell.execute_reply": "2024-06-01T07:14:16.244016Z"
    },
    "papermill": {
     "duration": 2444.345061,
     "end_time": "2024-06-01T07:14:16.247016",
     "exception": false,
     "start_time": "2024-06-01T06:33:31.901955",
     "status": "completed"
    },
    "tags": []
   },
   "outputs": [
    {
     "data": {
      "application/vnd.jupyter.widget-view+json": {
       "model_id": "6a798d39fbec49fc84c4c31bdcd29b1a",
       "version_major": 2,
       "version_minor": 0
      },
      "text/plain": [
       "  0%|          | 0/200 [00:00<?, ?it/s]"
      ]
     },
     "metadata": {},
     "output_type": "display_data"
    },
    {
     "name": "stdout",
     "output_type": "stream",
     "text": [
      "Epoch: 0 | Training_Loss: 2.1573 | Training_Acc: 0.2401 | Test_Loss: 1.8448 | Test_Acc: 0.3028\n",
      "Epoch: 1 | Training_Loss: 1.8968 | Training_Acc: 0.3232 | Test_Loss: 1.6689 | Test_Acc: 0.3545\n",
      "Epoch: 2 | Training_Loss: 1.7211 | Training_Acc: 0.3559 | Test_Loss: 1.5059 | Test_Acc: 0.4096\n",
      "Epoch: 3 | Training_Loss: 1.6038 | Training_Acc: 0.4239 | Test_Loss: 1.4837 | Test_Acc: 0.4135\n",
      "Epoch: 4 | Training_Loss: 1.5203 | Training_Acc: 0.4579 | Test_Loss: 1.3946 | Test_Acc: 0.4487\n",
      "Epoch: 5 | Training_Loss: 1.4443 | Training_Acc: 0.4959 | Test_Loss: 1.3927 | Test_Acc: 0.4923\n",
      "Epoch: 6 | Training_Loss: 1.4163 | Training_Acc: 0.5124 | Test_Loss: 1.3353 | Test_Acc: 0.5017\n",
      "Epoch: 7 | Training_Loss: 1.3699 | Training_Acc: 0.5277 | Test_Loss: 1.3067 | Test_Acc: 0.5110\n",
      "Epoch: 8 | Training_Loss: 1.3442 | Training_Acc: 0.5394 | Test_Loss: 1.2585 | Test_Acc: 0.5416\n",
      "Epoch: 9 | Training_Loss: 1.2920 | Training_Acc: 0.5553 | Test_Loss: 1.2205 | Test_Acc: 0.5664\n",
      "Epoch: 10 | Training_Loss: 1.2761 | Training_Acc: 0.5650 | Test_Loss: 1.2039 | Test_Acc: 0.5766\n",
      "Epoch: 11 | Training_Loss: 1.2381 | Training_Acc: 0.5724 | Test_Loss: 1.1719 | Test_Acc: 0.5850\n",
      "Epoch: 12 | Training_Loss: 1.2092 | Training_Acc: 0.5783 | Test_Loss: 1.1505 | Test_Acc: 0.6026\n",
      "Epoch: 13 | Training_Loss: 1.1959 | Training_Acc: 0.5836 | Test_Loss: 1.1327 | Test_Acc: 0.6155\n",
      "Epoch: 14 | Training_Loss: 1.1755 | Training_Acc: 0.5967 | Test_Loss: 1.1354 | Test_Acc: 0.6139\n",
      "Epoch: 15 | Training_Loss: 1.1699 | Training_Acc: 0.6036 | Test_Loss: 1.1144 | Test_Acc: 0.6401\n",
      "Epoch: 16 | Training_Loss: 1.1707 | Training_Acc: 0.6057 | Test_Loss: 1.1055 | Test_Acc: 0.6340\n",
      "Epoch: 17 | Training_Loss: 1.1297 | Training_Acc: 0.6221 | Test_Loss: 1.0594 | Test_Acc: 0.6577\n",
      "Epoch: 18 | Training_Loss: 1.1115 | Training_Acc: 0.6307 | Test_Loss: 1.0222 | Test_Acc: 0.6755\n",
      "Epoch: 19 | Training_Loss: 1.0916 | Training_Acc: 0.6418 | Test_Loss: 1.0095 | Test_Acc: 0.6818\n",
      "Epoch: 20 | Training_Loss: 1.0866 | Training_Acc: 0.6470 | Test_Loss: 0.9948 | Test_Acc: 0.6821\n",
      "Epoch: 21 | Training_Loss: 1.0850 | Training_Acc: 0.6479 | Test_Loss: 0.9976 | Test_Acc: 0.6770\n",
      "Epoch: 22 | Training_Loss: 1.0839 | Training_Acc: 0.6461 | Test_Loss: 0.9940 | Test_Acc: 0.6822\n",
      "Epoch: 23 | Training_Loss: 1.0853 | Training_Acc: 0.6511 | Test_Loss: 0.9856 | Test_Acc: 0.6858\n",
      "Epoch: 24 | Training_Loss: 1.0385 | Training_Acc: 0.6743 | Test_Loss: 0.9756 | Test_Acc: 0.6968\n",
      "Epoch: 25 | Training_Loss: 1.0362 | Training_Acc: 0.6783 | Test_Loss: 0.9543 | Test_Acc: 0.6983\n",
      "Epoch: 26 | Training_Loss: 1.0154 | Training_Acc: 0.6832 | Test_Loss: 0.9474 | Test_Acc: 0.7043\n",
      "Epoch: 27 | Training_Loss: 1.0060 | Training_Acc: 0.6838 | Test_Loss: 0.9602 | Test_Acc: 0.6888\n",
      "Epoch: 28 | Training_Loss: 1.0750 | Training_Acc: 0.6592 | Test_Loss: 0.9531 | Test_Acc: 0.7019\n",
      "Epoch: 29 | Training_Loss: 1.0192 | Training_Acc: 0.6821 | Test_Loss: 0.9311 | Test_Acc: 0.7103\n",
      "Epoch: 30 | Training_Loss: 1.0081 | Training_Acc: 0.6817 | Test_Loss: 0.9400 | Test_Acc: 0.7057\n",
      "Epoch: 31 | Training_Loss: 0.9751 | Training_Acc: 0.6981 | Test_Loss: 0.9351 | Test_Acc: 0.7105\n",
      "Epoch: 32 | Training_Loss: 0.9664 | Training_Acc: 0.7032 | Test_Loss: 0.9250 | Test_Acc: 0.7147\n",
      "Epoch: 33 | Training_Loss: 0.9571 | Training_Acc: 0.7046 | Test_Loss: 0.9191 | Test_Acc: 0.7143\n",
      "Epoch: 34 | Training_Loss: 0.9417 | Training_Acc: 0.7105 | Test_Loss: 0.9170 | Test_Acc: 0.7147\n",
      "Epoch: 35 | Training_Loss: 0.9484 | Training_Acc: 0.7070 | Test_Loss: 0.9112 | Test_Acc: 0.7181\n",
      "Epoch: 36 | Training_Loss: 0.9460 | Training_Acc: 0.7075 | Test_Loss: 0.9083 | Test_Acc: 0.7171\n",
      "Epoch: 37 | Training_Loss: 0.9501 | Training_Acc: 0.7038 | Test_Loss: 0.9007 | Test_Acc: 0.7207\n",
      "Epoch: 38 | Training_Loss: 0.9360 | Training_Acc: 0.7082 | Test_Loss: 0.9063 | Test_Acc: 0.7180\n",
      "Epoch: 39 | Training_Loss: 0.9375 | Training_Acc: 0.7087 | Test_Loss: 0.8873 | Test_Acc: 0.7224\n",
      "Epoch: 40 | Training_Loss: 0.9129 | Training_Acc: 0.7169 | Test_Loss: 0.8833 | Test_Acc: 0.7244\n",
      "Epoch: 41 | Training_Loss: 0.9246 | Training_Acc: 0.7116 | Test_Loss: 0.8789 | Test_Acc: 0.7243\n",
      "Epoch: 42 | Training_Loss: 0.9159 | Training_Acc: 0.7149 | Test_Loss: 0.8786 | Test_Acc: 0.7248\n",
      "Epoch: 43 | Training_Loss: 0.9133 | Training_Acc: 0.7130 | Test_Loss: 0.9045 | Test_Acc: 0.7182\n",
      "Epoch: 44 | Training_Loss: 0.9226 | Training_Acc: 0.7112 | Test_Loss: 0.8899 | Test_Acc: 0.7220\n",
      "Epoch: 45 | Training_Loss: 0.8922 | Training_Acc: 0.7241 | Test_Loss: 0.8792 | Test_Acc: 0.7283\n",
      "Epoch: 46 | Training_Loss: 0.9001 | Training_Acc: 0.7187 | Test_Loss: 0.8681 | Test_Acc: 0.7289\n",
      "Epoch: 47 | Training_Loss: 0.8947 | Training_Acc: 0.7205 | Test_Loss: 0.8775 | Test_Acc: 0.7222\n",
      "Epoch: 48 | Training_Loss: 0.8930 | Training_Acc: 0.7200 | Test_Loss: 0.8646 | Test_Acc: 0.7305\n",
      "Epoch: 49 | Training_Loss: 0.8900 | Training_Acc: 0.7211 | Test_Loss: 0.8528 | Test_Acc: 0.7338\n",
      "Epoch: 50 | Training_Loss: 0.8795 | Training_Acc: 0.7229 | Test_Loss: 0.8508 | Test_Acc: 0.7333\n",
      "Epoch: 51 | Training_Loss: 0.8597 | Training_Acc: 0.7295 | Test_Loss: 0.8547 | Test_Acc: 0.7344\n",
      "Epoch: 52 | Training_Loss: 0.8784 | Training_Acc: 0.7251 | Test_Loss: 0.8698 | Test_Acc: 0.7314\n",
      "Epoch: 53 | Training_Loss: 0.8655 | Training_Acc: 0.7311 | Test_Loss: 0.8557 | Test_Acc: 0.7311\n",
      "Epoch: 54 | Training_Loss: 0.8529 | Training_Acc: 0.7367 | Test_Loss: 0.8725 | Test_Acc: 0.7277\n",
      "Epoch: 55 | Training_Loss: 0.8501 | Training_Acc: 0.7352 | Test_Loss: 0.8889 | Test_Acc: 0.7234\n",
      "Epoch: 56 | Training_Loss: 0.8473 | Training_Acc: 0.7375 | Test_Loss: 0.8982 | Test_Acc: 0.7176\n",
      "Epoch: 57 | Training_Loss: 0.8410 | Training_Acc: 0.7388 | Test_Loss: 0.8638 | Test_Acc: 0.7303\n",
      "Epoch: 58 | Training_Loss: 0.8425 | Training_Acc: 0.7382 | Test_Loss: 0.8558 | Test_Acc: 0.7330\n",
      "Epoch: 59 | Training_Loss: 0.8540 | Training_Acc: 0.7314 | Test_Loss: 0.8426 | Test_Acc: 0.7388\n",
      "Epoch: 60 | Training_Loss: 0.8784 | Training_Acc: 0.7243 | Test_Loss: 0.8488 | Test_Acc: 0.7358\n",
      "Epoch: 61 | Training_Loss: 0.8615 | Training_Acc: 0.7301 | Test_Loss: 0.8308 | Test_Acc: 0.7417\n",
      "Epoch: 62 | Training_Loss: 0.8252 | Training_Acc: 0.7400 | Test_Loss: 0.8202 | Test_Acc: 0.7471\n",
      "Epoch: 63 | Training_Loss: 0.8198 | Training_Acc: 0.7446 | Test_Loss: 0.8181 | Test_Acc: 0.7460\n",
      "Epoch: 64 | Training_Loss: 0.8097 | Training_Acc: 0.7465 | Test_Loss: 0.8256 | Test_Acc: 0.7430\n",
      "Epoch: 65 | Training_Loss: 0.8149 | Training_Acc: 0.7452 | Test_Loss: 0.8157 | Test_Acc: 0.7444\n",
      "Epoch: 66 | Training_Loss: 0.8069 | Training_Acc: 0.7473 | Test_Loss: 0.8056 | Test_Acc: 0.7478\n",
      "Epoch: 67 | Training_Loss: 0.7947 | Training_Acc: 0.7515 | Test_Loss: 0.8069 | Test_Acc: 0.7480\n",
      "Epoch: 68 | Training_Loss: 0.7867 | Training_Acc: 0.7515 | Test_Loss: 0.8093 | Test_Acc: 0.7484\n",
      "Epoch: 69 | Training_Loss: 0.7830 | Training_Acc: 0.7555 | Test_Loss: 0.8150 | Test_Acc: 0.7453\n",
      "Epoch: 70 | Training_Loss: 0.7813 | Training_Acc: 0.7578 | Test_Loss: 0.8301 | Test_Acc: 0.7384\n",
      "Epoch: 71 | Training_Loss: 0.7727 | Training_Acc: 0.7587 | Test_Loss: 0.8302 | Test_Acc: 0.7389\n",
      "Epoch: 72 | Training_Loss: 0.7728 | Training_Acc: 0.7581 | Test_Loss: 0.8276 | Test_Acc: 0.7413\n",
      "Epoch: 73 | Training_Loss: 0.7655 | Training_Acc: 0.7616 | Test_Loss: 0.8164 | Test_Acc: 0.7469\n",
      "Epoch: 74 | Training_Loss: 0.7805 | Training_Acc: 0.7548 | Test_Loss: 0.8297 | Test_Acc: 0.7446\n",
      "Epoch: 75 | Training_Loss: 0.7743 | Training_Acc: 0.7575 | Test_Loss: 0.8194 | Test_Acc: 0.7456\n",
      "Epoch: 76 | Training_Loss: 0.7861 | Training_Acc: 0.7493 | Test_Loss: 0.8176 | Test_Acc: 0.7437\n",
      "Epoch: 77 | Training_Loss: 0.7757 | Training_Acc: 0.7541 | Test_Loss: 0.8099 | Test_Acc: 0.7478\n",
      "Epoch: 78 | Training_Loss: 0.7841 | Training_Acc: 0.7502 | Test_Loss: 0.8225 | Test_Acc: 0.7443\n",
      "Epoch: 79 | Training_Loss: 0.7851 | Training_Acc: 0.7506 | Test_Loss: 0.8544 | Test_Acc: 0.7414\n",
      "Epoch: 80 | Training_Loss: 0.8038 | Training_Acc: 0.7464 | Test_Loss: 0.8546 | Test_Acc: 0.7314\n",
      "Epoch: 81 | Training_Loss: 0.7858 | Training_Acc: 0.7556 | Test_Loss: 0.8469 | Test_Acc: 0.7346\n",
      "Epoch: 82 | Training_Loss: 0.7785 | Training_Acc: 0.7570 | Test_Loss: 0.7961 | Test_Acc: 0.7540\n",
      "Epoch: 83 | Training_Loss: 0.7578 | Training_Acc: 0.7625 | Test_Loss: 0.8135 | Test_Acc: 0.7445\n",
      "Epoch: 84 | Training_Loss: 0.7581 | Training_Acc: 0.7635 | Test_Loss: 0.7902 | Test_Acc: 0.7528\n",
      "Epoch: 85 | Training_Loss: 0.7371 | Training_Acc: 0.7665 | Test_Loss: 0.7942 | Test_Acc: 0.7517\n",
      "Epoch: 86 | Training_Loss: 0.7395 | Training_Acc: 0.7643 | Test_Loss: 0.8159 | Test_Acc: 0.7505\n",
      "Epoch: 87 | Training_Loss: 0.7322 | Training_Acc: 0.7680 | Test_Loss: 0.8182 | Test_Acc: 0.7498\n",
      "Epoch: 88 | Training_Loss: 0.7313 | Training_Acc: 0.7693 | Test_Loss: 0.8064 | Test_Acc: 0.7523\n",
      "Epoch: 89 | Training_Loss: 0.7190 | Training_Acc: 0.7733 | Test_Loss: 0.7879 | Test_Acc: 0.7573\n",
      "Epoch: 90 | Training_Loss: 0.7198 | Training_Acc: 0.7722 | Test_Loss: 0.8033 | Test_Acc: 0.7514\n",
      "Epoch: 91 | Training_Loss: 0.7424 | Training_Acc: 0.7642 | Test_Loss: 0.7913 | Test_Acc: 0.7566\n",
      "Epoch: 92 | Training_Loss: 0.7268 | Training_Acc: 0.7682 | Test_Loss: 0.7877 | Test_Acc: 0.7603\n",
      "Epoch: 93 | Training_Loss: 0.7097 | Training_Acc: 0.7738 | Test_Loss: 0.7859 | Test_Acc: 0.7451\n",
      "Epoch: 94 | Training_Loss: 0.7263 | Training_Acc: 0.7645 | Test_Loss: 0.7811 | Test_Acc: 0.7554\n",
      "Epoch: 95 | Training_Loss: 0.6995 | Training_Acc: 0.7772 | Test_Loss: 0.7747 | Test_Acc: 0.7600\n",
      "Epoch: 96 | Training_Loss: 0.6941 | Training_Acc: 0.7804 | Test_Loss: 0.7803 | Test_Acc: 0.7568\n",
      "Epoch: 97 | Training_Loss: 0.6789 | Training_Acc: 0.7845 | Test_Loss: 0.7773 | Test_Acc: 0.7577\n",
      "Epoch: 98 | Training_Loss: 0.6719 | Training_Acc: 0.7870 | Test_Loss: 0.7699 | Test_Acc: 0.7611\n",
      "Epoch: 99 | Training_Loss: 0.6664 | Training_Acc: 0.7872 | Test_Loss: 0.7721 | Test_Acc: 0.7625\n",
      "Epoch: 100 | Training_Loss: 0.6690 | Training_Acc: 0.7867 | Test_Loss: 0.7767 | Test_Acc: 0.7596\n",
      "Epoch: 101 | Training_Loss: 0.6654 | Training_Acc: 0.7878 | Test_Loss: 0.7792 | Test_Acc: 0.7577\n",
      "Epoch: 102 | Training_Loss: 0.6557 | Training_Acc: 0.7910 | Test_Loss: 0.7872 | Test_Acc: 0.7575\n",
      "Epoch: 103 | Training_Loss: 0.6620 | Training_Acc: 0.7885 | Test_Loss: 0.8056 | Test_Acc: 0.7551\n",
      "Epoch: 104 | Training_Loss: 0.6622 | Training_Acc: 0.7890 | Test_Loss: 0.8224 | Test_Acc: 0.7440\n",
      "Epoch: 105 | Training_Loss: 0.6569 | Training_Acc: 0.7909 | Test_Loss: 0.8191 | Test_Acc: 0.7478\n",
      "Epoch: 106 | Training_Loss: 0.6690 | Training_Acc: 0.7846 | Test_Loss: 0.8184 | Test_Acc: 0.7469\n",
      "Epoch: 107 | Training_Loss: 0.6576 | Training_Acc: 0.7873 | Test_Loss: 0.8120 | Test_Acc: 0.7521\n",
      "Epoch: 108 | Training_Loss: 0.6718 | Training_Acc: 0.7850 | Test_Loss: 0.8169 | Test_Acc: 0.7548\n",
      "Epoch: 109 | Training_Loss: 0.6613 | Training_Acc: 0.7888 | Test_Loss: 0.8107 | Test_Acc: 0.7566\n",
      "Epoch: 110 | Training_Loss: 0.6783 | Training_Acc: 0.7822 | Test_Loss: 0.8505 | Test_Acc: 0.7487\n",
      "Epoch: 111 | Training_Loss: 0.6541 | Training_Acc: 0.7912 | Test_Loss: 0.8452 | Test_Acc: 0.7524\n",
      "Epoch: 112 | Training_Loss: 0.6438 | Training_Acc: 0.7932 | Test_Loss: 0.8250 | Test_Acc: 0.7545\n",
      "Epoch: 113 | Training_Loss: 0.6326 | Training_Acc: 0.7981 | Test_Loss: 0.8172 | Test_Acc: 0.7550\n",
      "Epoch: 114 | Training_Loss: 0.6423 | Training_Acc: 0.7964 | Test_Loss: 0.8170 | Test_Acc: 0.7565\n",
      "Epoch: 115 | Training_Loss: 0.6490 | Training_Acc: 0.7923 | Test_Loss: 0.8322 | Test_Acc: 0.7498\n",
      "Epoch: 116 | Training_Loss: 0.6564 | Training_Acc: 0.7923 | Test_Loss: 0.8278 | Test_Acc: 0.7437\n",
      "Epoch: 117 | Training_Loss: 0.6426 | Training_Acc: 0.7946 | Test_Loss: 0.7905 | Test_Acc: 0.7548\n",
      "Epoch: 118 | Training_Loss: 0.6331 | Training_Acc: 0.7969 | Test_Loss: 0.7906 | Test_Acc: 0.7580\n",
      "Epoch: 119 | Training_Loss: 0.6209 | Training_Acc: 0.8037 | Test_Loss: 0.7909 | Test_Acc: 0.7615\n",
      "Epoch: 120 | Training_Loss: 0.6232 | Training_Acc: 0.7987 | Test_Loss: 0.7914 | Test_Acc: 0.7583\n",
      "Epoch: 121 | Training_Loss: 0.6450 | Training_Acc: 0.7896 | Test_Loss: 0.8157 | Test_Acc: 0.7513\n",
      "Epoch: 122 | Training_Loss: 0.6415 | Training_Acc: 0.7898 | Test_Loss: 0.8116 | Test_Acc: 0.7560\n",
      "Epoch: 123 | Training_Loss: 0.6161 | Training_Acc: 0.7998 | Test_Loss: 0.8261 | Test_Acc: 0.7551\n",
      "Epoch: 124 | Training_Loss: 0.6119 | Training_Acc: 0.8042 | Test_Loss: 0.8076 | Test_Acc: 0.7614\n",
      "Epoch: 125 | Training_Loss: 0.6030 | Training_Acc: 0.8052 | Test_Loss: 0.8117 | Test_Acc: 0.7560\n",
      "Epoch: 126 | Training_Loss: 0.5967 | Training_Acc: 0.8058 | Test_Loss: 0.8141 | Test_Acc: 0.7561\n",
      "Epoch: 127 | Training_Loss: 0.6036 | Training_Acc: 0.8049 | Test_Loss: 0.8176 | Test_Acc: 0.7547\n",
      "Epoch: 128 | Training_Loss: 0.5931 | Training_Acc: 0.8075 | Test_Loss: 0.8287 | Test_Acc: 0.7534\n",
      "Epoch: 129 | Training_Loss: 0.6071 | Training_Acc: 0.8030 | Test_Loss: 0.8413 | Test_Acc: 0.7528\n",
      "Epoch: 130 | Training_Loss: 0.6037 | Training_Acc: 0.8040 | Test_Loss: 0.8720 | Test_Acc: 0.7286\n",
      "Epoch: 131 | Training_Loss: 0.6511 | Training_Acc: 0.7879 | Test_Loss: 0.8358 | Test_Acc: 0.7466\n",
      "Epoch: 132 | Training_Loss: 0.6118 | Training_Acc: 0.8043 | Test_Loss: 0.8180 | Test_Acc: 0.7567\n",
      "Epoch: 133 | Training_Loss: 0.6026 | Training_Acc: 0.8056 | Test_Loss: 0.8168 | Test_Acc: 0.7532\n",
      "Epoch: 134 | Training_Loss: 0.5641 | Training_Acc: 0.8160 | Test_Loss: 0.8067 | Test_Acc: 0.7582\n",
      "Epoch: 135 | Training_Loss: 0.5756 | Training_Acc: 0.8150 | Test_Loss: 0.8108 | Test_Acc: 0.7545\n",
      "Epoch: 136 | Training_Loss: 0.5570 | Training_Acc: 0.8175 | Test_Loss: 0.8171 | Test_Acc: 0.7543\n",
      "Epoch: 137 | Training_Loss: 0.5533 | Training_Acc: 0.8168 | Test_Loss: 0.8334 | Test_Acc: 0.7551\n",
      "Epoch: 138 | Training_Loss: 0.5650 | Training_Acc: 0.8145 | Test_Loss: 0.8505 | Test_Acc: 0.7498\n",
      "Epoch: 139 | Training_Loss: 0.5534 | Training_Acc: 0.8168 | Test_Loss: 0.8707 | Test_Acc: 0.7486\n",
      "Epoch: 140 | Training_Loss: 0.5534 | Training_Acc: 0.8183 | Test_Loss: 0.8871 | Test_Acc: 0.7497\n",
      "Epoch: 141 | Training_Loss: 0.5495 | Training_Acc: 0.8197 | Test_Loss: 0.8885 | Test_Acc: 0.7523\n",
      "Epoch: 142 | Training_Loss: 0.5876 | Training_Acc: 0.8115 | Test_Loss: 0.8580 | Test_Acc: 0.7523\n",
      "Epoch: 143 | Training_Loss: 0.5818 | Training_Acc: 0.8099 | Test_Loss: 0.8418 | Test_Acc: 0.7579\n",
      "Epoch: 144 | Training_Loss: 0.5618 | Training_Acc: 0.8199 | Test_Loss: 0.8236 | Test_Acc: 0.7590\n",
      "Epoch: 145 | Training_Loss: 0.5411 | Training_Acc: 0.8238 | Test_Loss: 0.8399 | Test_Acc: 0.7524\n",
      "Epoch: 146 | Training_Loss: 0.5184 | Training_Acc: 0.8312 | Test_Loss: 0.8476 | Test_Acc: 0.7391\n",
      "Epoch: 147 | Training_Loss: 0.5450 | Training_Acc: 0.8187 | Test_Loss: 0.8430 | Test_Acc: 0.7552\n",
      "Epoch: 148 | Training_Loss: 0.5098 | Training_Acc: 0.8338 | Test_Loss: 0.8212 | Test_Acc: 0.7623\n",
      "Epoch: 149 | Training_Loss: 0.5156 | Training_Acc: 0.8326 | Test_Loss: 0.8405 | Test_Acc: 0.7573\n",
      "Epoch: 150 | Training_Loss: 0.4895 | Training_Acc: 0.8412 | Test_Loss: 0.8264 | Test_Acc: 0.7605\n",
      "Epoch: 151 | Training_Loss: 0.4856 | Training_Acc: 0.8418 | Test_Loss: 0.8438 | Test_Acc: 0.7564\n",
      "Epoch: 152 | Training_Loss: 0.4822 | Training_Acc: 0.8428 | Test_Loss: 0.8370 | Test_Acc: 0.7589\n",
      "Epoch: 153 | Training_Loss: 0.4693 | Training_Acc: 0.8470 | Test_Loss: 0.8552 | Test_Acc: 0.7622\n",
      "Epoch: 154 | Training_Loss: 0.4694 | Training_Acc: 0.8457 | Test_Loss: 0.8779 | Test_Acc: 0.7514\n",
      "Epoch: 155 | Training_Loss: 0.4669 | Training_Acc: 0.8474 | Test_Loss: 0.9159 | Test_Acc: 0.7444\n",
      "Epoch: 156 | Training_Loss: 0.5231 | Training_Acc: 0.8341 | Test_Loss: 0.9100 | Test_Acc: 0.7435\n",
      "Epoch: 157 | Training_Loss: 0.5319 | Training_Acc: 0.8242 | Test_Loss: 0.9118 | Test_Acc: 0.7429\n",
      "Epoch: 158 | Training_Loss: 0.5344 | Training_Acc: 0.8226 | Test_Loss: 0.9329 | Test_Acc: 0.7315\n",
      "Epoch: 159 | Training_Loss: 0.5536 | Training_Acc: 0.8168 | Test_Loss: 0.9206 | Test_Acc: 0.7389\n",
      "Epoch: 160 | Training_Loss: 0.5296 | Training_Acc: 0.8245 | Test_Loss: 0.9123 | Test_Acc: 0.7422\n",
      "Epoch: 161 | Training_Loss: 0.5138 | Training_Acc: 0.8296 | Test_Loss: 0.8998 | Test_Acc: 0.7527\n",
      "Epoch: 162 | Training_Loss: 0.5128 | Training_Acc: 0.8342 | Test_Loss: 0.9077 | Test_Acc: 0.7502\n",
      "Epoch: 163 | Training_Loss: 0.4845 | Training_Acc: 0.8409 | Test_Loss: 0.8671 | Test_Acc: 0.7574\n",
      "Epoch: 164 | Training_Loss: 0.4821 | Training_Acc: 0.8421 | Test_Loss: 0.8815 | Test_Acc: 0.7582\n",
      "Epoch: 165 | Training_Loss: 0.4780 | Training_Acc: 0.8420 | Test_Loss: 0.9049 | Test_Acc: 0.7544\n",
      "Epoch: 166 | Training_Loss: 0.4746 | Training_Acc: 0.8420 | Test_Loss: 0.9121 | Test_Acc: 0.7558\n",
      "Epoch: 167 | Training_Loss: 0.4702 | Training_Acc: 0.8437 | Test_Loss: 0.9241 | Test_Acc: 0.7520\n",
      "Epoch: 168 | Training_Loss: 0.4791 | Training_Acc: 0.8404 | Test_Loss: 0.9499 | Test_Acc: 0.7464\n",
      "Epoch: 169 | Training_Loss: 0.4834 | Training_Acc: 0.8378 | Test_Loss: 0.9572 | Test_Acc: 0.7504\n",
      "Epoch: 170 | Training_Loss: 0.4839 | Training_Acc: 0.8393 | Test_Loss: 0.9406 | Test_Acc: 0.7561\n",
      "Epoch: 171 | Training_Loss: 0.4824 | Training_Acc: 0.8400 | Test_Loss: 0.9384 | Test_Acc: 0.7519\n",
      "Epoch: 172 | Training_Loss: 0.4857 | Training_Acc: 0.8378 | Test_Loss: 0.9321 | Test_Acc: 0.7449\n",
      "Epoch: 173 | Training_Loss: 0.4641 | Training_Acc: 0.8460 | Test_Loss: 0.9116 | Test_Acc: 0.7586\n",
      "Epoch: 174 | Training_Loss: 0.4526 | Training_Acc: 0.8508 | Test_Loss: 0.9180 | Test_Acc: 0.7594\n",
      "Epoch: 175 | Training_Loss: 0.4580 | Training_Acc: 0.8500 | Test_Loss: 0.9228 | Test_Acc: 0.7624\n",
      "Epoch: 176 | Training_Loss: 0.4579 | Training_Acc: 0.8507 | Test_Loss: 0.9223 | Test_Acc: 0.7587\n",
      "Epoch: 177 | Training_Loss: 0.4575 | Training_Acc: 0.8498 | Test_Loss: 0.9145 | Test_Acc: 0.7558\n",
      "Epoch: 178 | Training_Loss: 0.4503 | Training_Acc: 0.8519 | Test_Loss: 0.9122 | Test_Acc: 0.7564\n",
      "Epoch: 179 | Training_Loss: 0.4488 | Training_Acc: 0.8513 | Test_Loss: 0.9395 | Test_Acc: 0.7527\n",
      "Epoch: 180 | Training_Loss: 0.4357 | Training_Acc: 0.8567 | Test_Loss: 0.9232 | Test_Acc: 0.7569\n",
      "Epoch: 181 | Training_Loss: 0.4310 | Training_Acc: 0.8581 | Test_Loss: 0.9270 | Test_Acc: 0.7559\n",
      "Epoch: 182 | Training_Loss: 0.4187 | Training_Acc: 0.8620 | Test_Loss: 0.9480 | Test_Acc: 0.7550\n",
      "Epoch: 183 | Training_Loss: 0.4146 | Training_Acc: 0.8637 | Test_Loss: 0.9716 | Test_Acc: 0.7488\n",
      "Epoch: 184 | Training_Loss: 0.4260 | Training_Acc: 0.8583 | Test_Loss: 1.0300 | Test_Acc: 0.7449\n",
      "Epoch: 185 | Training_Loss: 0.4582 | Training_Acc: 0.8476 | Test_Loss: 0.9850 | Test_Acc: 0.7456\n",
      "Epoch: 186 | Training_Loss: 0.4501 | Training_Acc: 0.8541 | Test_Loss: 0.9560 | Test_Acc: 0.7517\n",
      "Epoch: 187 | Training_Loss: 0.4314 | Training_Acc: 0.8566 | Test_Loss: 0.9682 | Test_Acc: 0.7445\n",
      "Epoch: 188 | Training_Loss: 0.4232 | Training_Acc: 0.8595 | Test_Loss: 0.9435 | Test_Acc: 0.7472\n",
      "Epoch: 189 | Training_Loss: 0.4010 | Training_Acc: 0.8667 | Test_Loss: 0.9570 | Test_Acc: 0.7514\n",
      "Epoch: 190 | Training_Loss: 0.3948 | Training_Acc: 0.8702 | Test_Loss: 0.9781 | Test_Acc: 0.7495\n",
      "Epoch: 191 | Training_Loss: 0.3875 | Training_Acc: 0.8725 | Test_Loss: 0.9817 | Test_Acc: 0.7528\n",
      "Epoch: 192 | Training_Loss: 0.3991 | Training_Acc: 0.8674 | Test_Loss: 0.9731 | Test_Acc: 0.7497\n",
      "Epoch: 193 | Training_Loss: 0.3851 | Training_Acc: 0.8706 | Test_Loss: 0.9723 | Test_Acc: 0.7545\n",
      "Epoch: 194 | Training_Loss: 0.3874 | Training_Acc: 0.8699 | Test_Loss: 0.9694 | Test_Acc: 0.7543\n",
      "Epoch: 195 | Training_Loss: 0.3842 | Training_Acc: 0.8699 | Test_Loss: 1.0045 | Test_Acc: 0.7474\n",
      "Epoch: 196 | Training_Loss: 0.3861 | Training_Acc: 0.8712 | Test_Loss: 0.9926 | Test_Acc: 0.7507\n",
      "Epoch: 197 | Training_Loss: 0.3856 | Training_Acc: 0.8728 | Test_Loss: 1.0001 | Test_Acc: 0.7554\n",
      "Epoch: 198 | Training_Loss: 0.3959 | Training_Acc: 0.8671 | Test_Loss: 1.0084 | Test_Acc: 0.7559\n",
      "Epoch: 199 | Training_Loss: 0.3846 | Training_Acc: 0.8708 | Test_Loss: 1.0103 | Test_Acc: 0.7501\n"
     ]
    }
   ],
   "source": [
    "from tqdm.auto import tqdm\n",
    "\n",
    "set_seeds()\n",
    "\n",
    "# Setup the num_epochs hyperparameter\n",
    "NUM_EPOCHS = 200\n",
    "\n",
    "results = train(model=model_1,\n",
    "                train_dataloader=train_dataloader,\n",
    "                test_dataloader=test_dataloader,\n",
    "                optimizer=optimizer,\n",
    "                loss_fn=loss_fn,\n",
    "                accuracy_fn = accuracy_fn,\n",
    "                epochs=NUM_EPOCHS,\n",
    "                device='cuda')"
   ]
  },
  {
   "cell_type": "markdown",
   "id": "add497ed",
   "metadata": {
    "papermill": {
     "duration": 0.048642,
     "end_time": "2024-06-01T07:14:16.345914",
     "exception": false,
     "start_time": "2024-06-01T07:14:16.297272",
     "status": "completed"
    },
    "tags": []
   },
   "source": [
    "## Plot training results"
   ]
  },
  {
   "cell_type": "code",
   "execution_count": 33,
   "id": "9866463b",
   "metadata": {
    "execution": {
     "iopub.execute_input": "2024-06-01T07:14:16.446001Z",
     "iopub.status.busy": "2024-06-01T07:14:16.445580Z",
     "iopub.status.idle": "2024-06-01T07:14:17.116134Z",
     "shell.execute_reply": "2024-06-01T07:14:17.115175Z"
    },
    "papermill": {
     "duration": 0.723669,
     "end_time": "2024-06-01T07:14:17.118972",
     "exception": false,
     "start_time": "2024-06-01T07:14:16.395303",
     "status": "completed"
    },
    "tags": []
   },
   "outputs": [
    {
     "data": {
      "image/png": "[encoded data removed]",
      "text/plain": [
       "<Figure size 1000x500 with 2 Axes>"
      ]
     },
     "metadata": {},
     "output_type": "display_data"
    }
   ],
   "source": [
    "plot_results(results[\"Training_Loss\"], results[\"Training_Acc\"], results[\"Test_Loss\"], results[\"Test_Acc\"])"
   ]
  },
  {
   "cell_type": "markdown",
   "id": "2b6b71a0",
   "metadata": {
    "papermill": {
     "duration": 0.05107,
     "end_time": "2024-06-01T07:14:17.222165",
     "exception": false,
     "start_time": "2024-06-01T07:14:17.171095",
     "status": "completed"
    },
    "tags": []
   },
   "source": [
    "# Evaluation"
   ]
  },
  {
   "cell_type": "code",
   "execution_count": 34,
   "id": "87852dc0",
   "metadata": {
    "execution": {
     "iopub.execute_input": "2024-06-01T07:14:17.325413Z",
     "iopub.status.busy": "2024-06-01T07:14:17.324991Z",
     "iopub.status.idle": "2024-06-01T07:14:17.331249Z",
     "shell.execute_reply": "2024-06-01T07:14:17.330365Z"
    },
    "papermill": {
     "duration": 0.06007,
     "end_time": "2024-06-01T07:14:17.333442",
     "exception": false,
     "start_time": "2024-06-01T07:14:17.273372",
     "status": "completed"
    },
    "tags": []
   },
   "outputs": [
    {
     "name": "stdout",
     "output_type": "stream",
     "text": [
      "Dataloaders: <torch.utils.data.dataloader.DataLoader object at 0x7e998f7ae740>\n",
      "Length of eval dataset: 10682\n",
      "Length of eval dataloader: 11 batches of 1024\n"
     ]
    }
   ],
   "source": [
    "BATCH_SIZE = 1024\n",
    "eval_dataloader = DataLoader(test_dataset, batch_size=BATCH_SIZE, collate_fn = collate_fn, num_workers = NUM_CORES, pin_memory = True)\n",
    "\n",
    "# Let's check out what we've created\n",
    "print(f\"Dataloaders: {eval_dataloader}\") \n",
    "print(f\"Length of eval dataset: {len(eval_dataloader.dataset)}\")\n",
    "print(f\"Length of eval dataloader: {len(eval_dataloader)} batches of {BATCH_SIZE}\")"
   ]
  },
  {
   "cell_type": "code",
   "execution_count": 35,
   "id": "56213aa5",
   "metadata": {
    "execution": {
     "iopub.execute_input": "2024-06-01T07:14:17.435539Z",
     "iopub.status.busy": "2024-06-01T07:14:17.434813Z",
     "iopub.status.idle": "2024-06-01T07:14:19.285428Z",
     "shell.execute_reply": "2024-06-01T07:14:19.284278Z"
    },
    "papermill": {
     "duration": 1.903943,
     "end_time": "2024-06-01T07:14:19.287596",
     "exception": false,
     "start_time": "2024-06-01T07:14:17.383653",
     "status": "completed"
    },
    "tags": []
   },
   "outputs": [
    {
     "data": {
      "text/plain": [
       "(torch.Size([1024, 100, 7]), torch.Size([1024]))"
      ]
     },
     "execution_count": 35,
     "metadata": {},
     "output_type": "execute_result"
    }
   ],
   "source": [
    "features_batch, labels_batch = next(iter(eval_dataloader))\n",
    "features_batch.shape, labels_batch.shape"
   ]
  },
  {
   "cell_type": "markdown",
   "id": "30cde8ac",
   "metadata": {
    "papermill": {
     "duration": 0.053009,
     "end_time": "2024-06-01T07:14:19.393016",
     "exception": false,
     "start_time": "2024-06-01T07:14:19.340007",
     "status": "completed"
    },
    "tags": []
   },
   "source": [
    "## GRU"
   ]
  },
  {
   "cell_type": "code",
   "execution_count": 36,
   "id": "162d8a93",
   "metadata": {
    "execution": {
     "iopub.execute_input": "2024-06-01T07:14:19.496501Z",
     "iopub.status.busy": "2024-06-01T07:14:19.496102Z",
     "iopub.status.idle": "2024-06-01T07:14:23.265123Z",
     "shell.execute_reply": "2024-06-01T07:14:23.263848Z"
    },
    "papermill": {
     "duration": 3.822277,
     "end_time": "2024-06-01T07:14:23.267362",
     "exception": false,
     "start_time": "2024-06-01T07:14:19.445085",
     "status": "completed"
    },
    "tags": []
   },
   "outputs": [
    {
     "name": "stderr",
     "output_type": "stream",
     "text": [
      "/opt/conda/lib/python3.10/site-packages/sklearn/metrics/_classification.py:1344: UndefinedMetricWarning: Recall is ill-defined and being set to 0.0 in labels with no true samples. Use `zero_division` parameter to control this behavior.\n",
      "  _warn_prf(average, modifier, msg_start, len(result))\n",
      "/opt/conda/lib/python3.10/site-packages/sklearn/metrics/_classification.py:1344: UndefinedMetricWarning: Precision is ill-defined and being set to 0.0 in labels with no predicted samples. Use `zero_division` parameter to control this behavior.\n",
      "  _warn_prf(average, modifier, msg_start, len(result))\n",
      "/opt/conda/lib/python3.10/site-packages/sklearn/metrics/_classification.py:1344: UndefinedMetricWarning: Recall is ill-defined and being set to 0.0 in labels with no true samples. Use `zero_division` parameter to control this behavior.\n",
      "  _warn_prf(average, modifier, msg_start, len(result))\n",
      "/opt/conda/lib/python3.10/site-packages/sklearn/metrics/_classification.py:1344: UndefinedMetricWarning: Precision is ill-defined and being set to 0.0 in labels with no predicted samples. Use `zero_division` parameter to control this behavior.\n",
      "  _warn_prf(average, modifier, msg_start, len(result))\n",
      "/opt/conda/lib/python3.10/site-packages/sklearn/metrics/_classification.py:1344: UndefinedMetricWarning: Precision is ill-defined and being set to 0.0 in labels with no predicted samples. Use `zero_division` parameter to control this behavior.\n",
      "  _warn_prf(average, modifier, msg_start, len(result))\n",
      "/opt/conda/lib/python3.10/site-packages/sklearn/metrics/_classification.py:1344: UndefinedMetricWarning: Recall is ill-defined and being set to 0.0 in labels with no true samples. Use `zero_division` parameter to control this behavior.\n",
      "  _warn_prf(average, modifier, msg_start, len(result))\n",
      "/opt/conda/lib/python3.10/site-packages/sklearn/metrics/_classification.py:1344: UndefinedMetricWarning: Recall is ill-defined and being set to 0.0 in labels with no true samples. Use `zero_division` parameter to control this behavior.\n",
      "  _warn_prf(average, modifier, msg_start, len(result))\n",
      "/opt/conda/lib/python3.10/site-packages/sklearn/metrics/_classification.py:1344: UndefinedMetricWarning: Precision is ill-defined and being set to 0.0 in labels with no predicted samples. Use `zero_division` parameter to control this behavior.\n",
      "  _warn_prf(average, modifier, msg_start, len(result))\n",
      "/opt/conda/lib/python3.10/site-packages/sklearn/metrics/_classification.py:1344: UndefinedMetricWarning: Precision is ill-defined and being set to 0.0 in labels with no predicted samples. Use `zero_division` parameter to control this behavior.\n",
      "  _warn_prf(average, modifier, msg_start, len(result))\n",
      "/opt/conda/lib/python3.10/site-packages/sklearn/metrics/_classification.py:1344: UndefinedMetricWarning: Precision is ill-defined and being set to 0.0 in labels with no predicted samples. Use `zero_division` parameter to control this behavior.\n",
      "  _warn_prf(average, modifier, msg_start, len(result))\n",
      "/opt/conda/lib/python3.10/site-packages/sklearn/metrics/_classification.py:1344: UndefinedMetricWarning: Recall is ill-defined and being set to 0.0 in labels with no true samples. Use `zero_division` parameter to control this behavior.\n",
      "  _warn_prf(average, modifier, msg_start, len(result))\n"
     ]
    }
   ],
   "source": [
    "from sklearn.metrics import accuracy_score, precision_score, recall_score, f1_score\n",
    "\n",
    "accuracy = 0\n",
    "precision = 0\n",
    "recall = 0\n",
    "f1 = 0\n",
    "\n",
    "for X, y in eval_dataloader:\n",
    "    y_pred_0 = model_0(X.cuda())\n",
    "    y_pred_class_0 = torch.argmax(torch.softmax(y_pred_0, dim=1), dim=1)\n",
    "    \n",
    "    accuracy += accuracy_score(y, y_pred_class_0.cpu())\n",
    "    precision += precision_score(y, y_pred_class_0.cpu(), average = 'weighted')\n",
    "    recall += recall_score(y, y_pred_class_0.cpu(), average = 'weighted')\n",
    "    f1 += f1_score(y, y_pred_class_0.cpu(), average = 'weighted')\n",
    "    \n",
    "accuracy /= len(eval_dataloader)\n",
    "precision /= len(eval_dataloader)\n",
    "recall /= len(eval_dataloader)\n",
    "f1 /= len(eval_dataloader)"
   ]
  },
  {
   "cell_type": "code",
   "execution_count": 37,
   "id": "3d4fb585",
   "metadata": {
    "execution": {
     "iopub.execute_input": "2024-06-01T07:14:23.375742Z",
     "iopub.status.busy": "2024-06-01T07:14:23.375337Z",
     "iopub.status.idle": "2024-06-01T07:14:23.380887Z",
     "shell.execute_reply": "2024-06-01T07:14:23.379914Z"
    },
    "papermill": {
     "duration": 0.061742,
     "end_time": "2024-06-01T07:14:23.383022",
     "exception": false,
     "start_time": "2024-06-01T07:14:23.321280",
     "status": "completed"
    },
    "tags": []
   },
   "outputs": [
    {
     "name": "stdout",
     "output_type": "stream",
     "text": [
      "0.7425952379422049\n",
      "0.774296577519872\n",
      "0.7425952379422049\n",
      "0.7416974008805464\n"
     ]
    }
   ],
   "source": [
    "print(accuracy)\n",
    "print(precision)\n",
    "print(recall)\n",
    "print(f1)"
   ]
  },
  {
   "cell_type": "markdown",
   "id": "9506bda5",
   "metadata": {
    "papermill": {
     "duration": 0.050696,
     "end_time": "2024-06-01T07:14:23.485199",
     "exception": false,
     "start_time": "2024-06-01T07:14:23.434503",
     "status": "completed"
    },
    "tags": []
   },
   "source": [
    "## Bi-GRU"
   ]
  },
  {
   "cell_type": "code",
   "execution_count": 38,
   "id": "5370f04b",
   "metadata": {
    "execution": {
     "iopub.execute_input": "2024-06-01T07:14:23.589068Z",
     "iopub.status.busy": "2024-06-01T07:14:23.588623Z",
     "iopub.status.idle": "2024-06-01T07:14:23.595503Z",
     "shell.execute_reply": "2024-06-01T07:14:23.594680Z"
    },
    "papermill": {
     "duration": 0.06186,
     "end_time": "2024-06-01T07:14:23.597602",
     "exception": false,
     "start_time": "2024-06-01T07:14:23.535742",
     "status": "completed"
    },
    "tags": []
   },
   "outputs": [],
   "source": [
    "y_pred_1 = model_1(features_batch.cuda())\n",
    "y_pred_class_1 = torch.argmax(torch.softmax(y_pred_1, dim=1), dim=1)"
   ]
  },
  {
   "cell_type": "code",
   "execution_count": 39,
   "id": "b1bdf0c1",
   "metadata": {
    "execution": {
     "iopub.execute_input": "2024-06-01T07:14:23.702934Z",
     "iopub.status.busy": "2024-06-01T07:14:23.702143Z",
     "iopub.status.idle": "2024-06-01T07:14:26.401957Z",
     "shell.execute_reply": "2024-06-01T07:14:26.400776Z"
    },
    "papermill": {
     "duration": 2.75379,
     "end_time": "2024-06-01T07:14:26.404225",
     "exception": false,
     "start_time": "2024-06-01T07:14:23.650435",
     "status": "completed"
    },
    "tags": []
   },
   "outputs": [
    {
     "name": "stderr",
     "output_type": "stream",
     "text": [
      "/opt/conda/lib/python3.10/site-packages/sklearn/metrics/_classification.py:1344: UndefinedMetricWarning: Recall is ill-defined and being set to 0.0 in labels with no true samples. Use `zero_division` parameter to control this behavior.\n",
      "  _warn_prf(average, modifier, msg_start, len(result))\n",
      "/opt/conda/lib/python3.10/site-packages/sklearn/metrics/_classification.py:1344: UndefinedMetricWarning: Precision is ill-defined and being set to 0.0 in labels with no predicted samples. Use `zero_division` parameter to control this behavior.\n",
      "  _warn_prf(average, modifier, msg_start, len(result))\n",
      "/opt/conda/lib/python3.10/site-packages/sklearn/metrics/_classification.py:1344: UndefinedMetricWarning: Precision is ill-defined and being set to 0.0 in labels with no predicted samples. Use `zero_division` parameter to control this behavior.\n",
      "  _warn_prf(average, modifier, msg_start, len(result))\n",
      "/opt/conda/lib/python3.10/site-packages/sklearn/metrics/_classification.py:1344: UndefinedMetricWarning: Recall is ill-defined and being set to 0.0 in labels with no true samples. Use `zero_division` parameter to control this behavior.\n",
      "  _warn_prf(average, modifier, msg_start, len(result))\n",
      "/opt/conda/lib/python3.10/site-packages/sklearn/metrics/_classification.py:1344: UndefinedMetricWarning: Recall is ill-defined and being set to 0.0 in labels with no true samples. Use `zero_division` parameter to control this behavior.\n",
      "  _warn_prf(average, modifier, msg_start, len(result))\n",
      "/opt/conda/lib/python3.10/site-packages/sklearn/metrics/_classification.py:1344: UndefinedMetricWarning: Precision is ill-defined and being set to 0.0 in labels with no predicted samples. Use `zero_division` parameter to control this behavior.\n",
      "  _warn_prf(average, modifier, msg_start, len(result))\n",
      "/opt/conda/lib/python3.10/site-packages/sklearn/metrics/_classification.py:1344: UndefinedMetricWarning: Precision is ill-defined and being set to 0.0 in labels with no predicted samples. Use `zero_division` parameter to control this behavior.\n",
      "  _warn_prf(average, modifier, msg_start, len(result))\n",
      "/opt/conda/lib/python3.10/site-packages/sklearn/metrics/_classification.py:1344: UndefinedMetricWarning: Precision is ill-defined and being set to 0.0 in labels with no predicted samples. Use `zero_division` parameter to control this behavior.\n",
      "  _warn_prf(average, modifier, msg_start, len(result))\n",
      "/opt/conda/lib/python3.10/site-packages/sklearn/metrics/_classification.py:1344: UndefinedMetricWarning: Recall is ill-defined and being set to 0.0 in labels with no true samples. Use `zero_division` parameter to control this behavior.\n",
      "  _warn_prf(average, modifier, msg_start, len(result))\n",
      "/opt/conda/lib/python3.10/site-packages/sklearn/metrics/_classification.py:1344: UndefinedMetricWarning: Recall is ill-defined and being set to 0.0 in labels with no true samples. Use `zero_division` parameter to control this behavior.\n",
      "  _warn_prf(average, modifier, msg_start, len(result))\n"
     ]
    }
   ],
   "source": [
    "from sklearn.metrics import accuracy_score, precision_score, recall_score, f1_score\n",
    "\n",
    "accuracy = 0\n",
    "precision = 0\n",
    "recall = 0\n",
    "f1 = 0\n",
    "\n",
    "for X, y in eval_dataloader:\n",
    "    y_pred_1 = model_1(X.cuda())\n",
    "    y_pred_class_1 = torch.argmax(torch.softmax(y_pred_1, dim=1), dim=1)\n",
    "    \n",
    "    accuracy += accuracy_score(y, y_pred_class_1.cpu())\n",
    "    precision += precision_score(y, y_pred_class_1.cpu(), average = 'weighted')\n",
    "    recall += recall_score(y, y_pred_class_1.cpu(), average = 'weighted')\n",
    "    f1 += f1_score(y, y_pred_class_1.cpu(), average = 'weighted')\n",
    "    \n",
    "accuracy /= len(eval_dataloader)\n",
    "precision /= len(eval_dataloader)\n",
    "recall /= len(eval_dataloader)\n",
    "f1 /= len(eval_dataloader)"
   ]
  },
  {
   "cell_type": "code",
   "execution_count": 40,
   "id": "cfdb1586",
   "metadata": {
    "execution": {
     "iopub.execute_input": "2024-06-01T07:14:26.509996Z",
     "iopub.status.busy": "2024-06-01T07:14:26.508960Z",
     "iopub.status.idle": "2024-06-01T07:14:26.514845Z",
     "shell.execute_reply": "2024-06-01T07:14:26.513997Z"
    },
    "papermill": {
     "duration": 0.060521,
     "end_time": "2024-06-01T07:14:26.516785",
     "exception": false,
     "start_time": "2024-06-01T07:14:26.456264",
     "status": "completed"
    },
    "tags": []
   },
   "outputs": [
    {
     "name": "stdout",
     "output_type": "stream",
     "text": [
      "0.7500763253290827\n",
      "0.7845459411847727\n",
      "0.7500763253290827\n",
      "0.7566474732118503\n"
     ]
    }
   ],
   "source": [
    "print(accuracy)\n",
    "print(precision)\n",
    "print(recall)\n",
    "print(f1)"
   ]
  },
  {
   "cell_type": "code",
   "execution_count": null,
   "id": "63126e76",
   "metadata": {
    "papermill": {
     "duration": 0.052079,
     "end_time": "2024-06-01T07:14:26.621159",
     "exception": false,
     "start_time": "2024-06-01T07:14:26.569080",
     "status": "completed"
    },
    "tags": []
   },
   "outputs": [],
   "source": []
  }
 ],
 "metadata": {
  "kaggle": {
   "accelerator": "gpu",
   "dataSources": [
    {
     "datasetId": 5011386,
     "sourceId": 8526948,
     "sourceType": "datasetVersion"
    }
   ],
   "dockerImageVersionId": 30699,
   "isGpuEnabled": true,
   "isInternetEnabled": true,
   "language": "python",
   "sourceType": "notebook"
  },
  "kernelspec": {
   "display_name": "Python 3",
   "language": "python",
   "name": "python3"
  },
  "language_info": {
   "codemirror_mode": {
    "name": "ipython",
    "version": 3
   },
   "file_extension": ".py",
   "mimetype": "text/x-python",
   "name": "python",
   "nbconvert_exporter": "python",
   "pygments_lexer": "ipython3",
   "version": "3.10.13"
  },
  "papermill": {
   "default_parameters": {},
   "duration": 4951.617735,
   "end_time": "2024-06-01T07:14:30.215605",
   "environment_variables": {},
   "exception": null,
   "input_path": "__notebook__.ipynb",
   "output_path": "__notebook__.ipynb",
   "parameters": {},
   "start_time": "2024-06-01T05:51:58.597870",
   "version": "2.5.0"
  },
  "widgets": {
   "application/vnd.jupyter.widget-state+json": {
    "state": {
     "0108d18f432f4fb8a5ea70460079a459": {
      "model_module": "@jupyter-widgets/controls",
      "model_module_version": "1.5.0",
      "model_name": "DescriptionStyleModel",
      "state": {
       "_model_module": "@jupyter-widgets/controls",
       "_model_module_version": "1.5.0",
       "_model_name": "DescriptionStyleModel",
       "_view_count": null,
       "_view_module": "@jupyter-widgets/base",
       "_view_module_version": "1.2.0",
       "_view_name": "StyleView",
       "description_width": ""
      }
     },
     "02859f07e02b42959e85fd9a8bb0f706": {
      "model_module": "@jupyter-widgets/controls",
      "model_module_version": "1.5.0",
      "model_name": "HTMLModel",
      "state": {
       "_dom_classes": [],
       "_model_module": "@jupyter-widgets/controls",
       "_model_module_version": "1.5.0",
       "_model_name": "HTMLModel",
       "_view_count": null,
       "_view_module": "@jupyter-widgets/controls",
       "_view_module_version": "1.5.0",
       "_view_name": "HTMLView",
       "description": "",
       "description_tooltip": null,
       "layout": "IPY_MODEL_f6b5f7d7fbbb443b9069bb7db8b8176b",
       "placeholder": "​",
       "style": "IPY_MODEL_351e15e8c998407c9df7f497b06349a1",
       "value": "100%"
      }
     },
     "11a4b6c50c9c4beebe1ba6633c3cfb5e": {
      "model_module": "@jupyter-widgets/controls",
      "model_module_version": "1.5.0",
      "model_name": "HTMLModel",
      "state": {
       "_dom_classes": [],
       "_model_module": "@jupyter-widgets/controls",
       "_model_module_version": "1.5.0",
       "_model_name": "HTMLModel",
       "_view_count": null,
       "_view_module": "@jupyter-widgets/controls",
       "_view_module_version": "1.5.0",
       "_view_name": "HTMLView",
       "description": "",
       "description_tooltip": null,
       "layout": "IPY_MODEL_fc96acb725ee49a0b9ff54b0043face9",
       "placeholder": "​",
       "style": "IPY_MODEL_0108d18f432f4fb8a5ea70460079a459",
       "value": "100%"
      }
     },
     "1addc6b8ecaa4ded93dc143f355c19d0": {
      "model_module": "@jupyter-widgets/controls",
      "model_module_version": "1.5.0",
      "model_name": "HTMLModel",
      "state": {
       "_dom_classes": [],
       "_model_module": "@jupyter-widgets/controls",
       "_model_module_version": "1.5.0",
       "_model_name": "HTMLModel",
       "_view_count": null,
       "_view_module": "@jupyter-widgets/controls",
       "_view_module_version": "1.5.0",
       "_view_name": "HTMLView",
       "description": "",
       "description_tooltip": null,
       "layout": "IPY_MODEL_5d90b49b6f8c45558802d5fe0e9004ee",
       "placeholder": "​",
       "style": "IPY_MODEL_396cf6c79ea04eac91529b00166457f3",
       "value": " 200/200 [40:42&lt;00:00, 12.23s/it]"
      }
     },
     "351e15e8c998407c9df7f497b06349a1": {
      "model_module": "@jupyter-widgets/controls",
      "model_module_version": "1.5.0",
      "model_name": "DescriptionStyleModel",
      "state": {
       "_model_module": "@jupyter-widgets/controls",
       "_model_module_version": "1.5.0",
       "_model_name": "DescriptionStyleModel",
       "_view_count": null,
       "_view_module": "@jupyter-widgets/base",
       "_view_module_version": "1.2.0",
       "_view_name": "StyleView",
       "description_width": ""
      }
     },
     "396cf6c79ea04eac91529b00166457f3": {
      "model_module": "@jupyter-widgets/controls",
      "model_module_version": "1.5.0",
      "model_name": "DescriptionStyleModel",
      "state": {
       "_model_module": "@jupyter-widgets/controls",
       "_model_module_version": "1.5.0",
       "_model_name": "DescriptionStyleModel",
       "_view_count": null,
       "_view_module": "@jupyter-widgets/base",
       "_view_module_version": "1.2.0",
       "_view_name": "StyleView",
       "description_width": ""
      }
     },
     "525e4b62a91341e1b444dde695e32579": {
      "model_module": "@jupyter-widgets/base",
      "model_module_version": "1.2.0",
      "model_name": "LayoutModel",
      "state": {
       "_model_module": "@jupyter-widgets/base",
       "_model_module_version": "1.2.0",
       "_model_name": "LayoutModel",
       "_view_count": null,
       "_view_module": "@jupyter-widgets/base",
       "_view_module_version": "1.2.0",
       "_view_name": "LayoutView",
       "align_content": null,
       "align_items": null,
       "align_self": null,
       "border": null,
       "bottom": null,
       "display": null,
       "flex": null,
       "flex_flow": null,
       "grid_area": null,
       "grid_auto_columns": null,
       "grid_auto_flow": null,
       "grid_auto_rows": null,
       "grid_column": null,
       "grid_gap": null,
       "grid_row": null,
       "grid_template_areas": null,
       "grid_template_columns": null,
       "grid_template_rows": null,
       "height": null,
       "justify_content": null,
       "justify_items": null,
       "left": null,
       "margin": null,
       "max_height": null,
       "max_width": null,
       "min_height": null,
       "min_width": null,
       "object_fit": null,
       "object_position": null,
       "order": null,
       "overflow": null,
       "overflow_x": null,
       "overflow_y": null,
       "padding": null,
       "right": null,
       "top": null,
       "visibility": null,
       "width": null
      }
     },
     "5d90b49b6f8c45558802d5fe0e9004ee": {
      "model_module": "@jupyter-widgets/base",
      "model_module_version": "1.2.0",
      "model_name": "LayoutModel",
      "state": {
       "_model_module": "@jupyter-widgets/base",
       "_model_module_version": "1.2.0",
       "_model_name": "LayoutModel",
       "_view_count": null,
       "_view_module": "@jupyter-widgets/base",
       "_view_module_version": "1.2.0",
       "_view_name": "LayoutView",
       "align_content": null,
       "align_items": null,
       "align_self": null,
       "border": null,
       "bottom": null,
       "display": null,
       "flex": null,
       "flex_flow": null,
       "grid_area": null,
       "grid_auto_columns": null,
       "grid_auto_flow": null,
       "grid_auto_rows": null,
       "grid_column": null,
       "grid_gap": null,
       "grid_row": null,
       "grid_template_areas": null,
       "grid_template_columns": null,
       "grid_template_rows": null,
       "height": null,
       "justify_content": null,
       "justify_items": null,
       "left": null,
       "margin": null,
       "max_height": null,
       "max_width": null,
       "min_height": null,
       "min_width": null,
       "object_fit": null,
       "object_position": null,
       "order": null,
       "overflow": null,
       "overflow_x": null,
       "overflow_y": null,
       "padding": null,
       "right": null,
       "top": null,
       "visibility": null,
       "width": null
      }
     },
     "6a798d39fbec49fc84c4c31bdcd29b1a": {
      "model_module": "@jupyter-widgets/controls",
      "model_module_version": "1.5.0",
      "model_name": "HBoxModel",
      "state": {
       "_dom_classes": [],
       "_model_module": "@jupyter-widgets/controls",
       "_model_module_version": "1.5.0",
       "_model_name": "HBoxModel",
       "_view_count": null,
       "_view_module": "@jupyter-widgets/controls",
       "_view_module_version": "1.5.0",
       "_view_name": "HBoxView",
       "box_style": "",
       "children": [
        "IPY_MODEL_11a4b6c50c9c4beebe1ba6633c3cfb5e",
        "IPY_MODEL_71abe1aeca0a4bf19a81f85ac95ff987",
        "IPY_MODEL_b29c105359a74d60a42b3679fddf1de7"
       ],
       "layout": "IPY_MODEL_caee0d9ab0354fce988fd7f39b2fa02c"
      }
     },
     "71abe1aeca0a4bf19a81f85ac95ff987": {
      "model_module": "@jupyter-widgets/controls",
      "model_module_version": "1.5.0",
      "model_name": "FloatProgressModel",
      "state": {
       "_dom_classes": [],
       "_model_module": "@jupyter-widgets/controls",
       "_model_module_version": "1.5.0",
       "_model_name": "FloatProgressModel",
       "_view_count": null,
       "_view_module": "@jupyter-widgets/controls",
       "_view_module_version": "1.5.0",
       "_view_name": "ProgressView",
       "bar_style": "success",
       "description": "",
       "description_tooltip": null,
       "layout": "IPY_MODEL_be8dcc99dde349fd995083802a73bd6a",
       "max": 200.0,
       "min": 0.0,
       "orientation": "horizontal",
       "style": "IPY_MODEL_820369ff6d4344f4a00ec46b925da1d4",
       "value": 200.0
      }
     },
     "820369ff6d4344f4a00ec46b925da1d4": {
      "model_module": "@jupyter-widgets/controls",
      "model_module_version": "1.5.0",
      "model_name": "ProgressStyleModel",
      "state": {
       "_model_module": "@jupyter-widgets/controls",
       "_model_module_version": "1.5.0",
       "_model_name": "ProgressStyleModel",
       "_view_count": null,
       "_view_module": "@jupyter-widgets/base",
       "_view_module_version": "1.2.0",
       "_view_name": "StyleView",
       "bar_color": null,
       "description_width": ""
      }
     },
     "88bac53da2864c88a39da9add0a16966": {
      "model_module": "@jupyter-widgets/base",
      "model_module_version": "1.2.0",
      "model_name": "LayoutModel",
      "state": {
       "_model_module": "@jupyter-widgets/base",
       "_model_module_version": "1.2.0",
       "_model_name": "LayoutModel",
       "_view_count": null,
       "_view_module": "@jupyter-widgets/base",
       "_view_module_version": "1.2.0",
       "_view_name": "LayoutView",
       "align_content": null,
       "align_items": null,
       "align_self": null,
       "border": null,
       "bottom": null,
       "display": null,
       "flex": null,
       "flex_flow": null,
       "grid_area": null,
       "grid_auto_columns": null,
       "grid_auto_flow": null,
       "grid_auto_rows": null,
       "grid_column": null,
       "grid_gap": null,
       "grid_row": null,
       "grid_template_areas": null,
       "grid_template_columns": null,
       "grid_template_rows": null,
       "height": null,
       "justify_content": null,
       "justify_items": null,
       "left": null,
       "margin": null,
       "max_height": null,
       "max_width": null,
       "min_height": null,
       "min_width": null,
       "object_fit": null,
       "object_position": null,
       "order": null,
       "overflow": null,
       "overflow_x": null,
       "overflow_y": null,
       "padding": null,
       "right": null,
       "top": null,
       "visibility": null,
       "width": null
      }
     },
     "ae3516f79c394295aedb14f2f56bdc2d": {
      "model_module": "@jupyter-widgets/base",
      "model_module_version": "1.2.0",
      "model_name": "LayoutModel",
      "state": {
       "_model_module": "@jupyter-widgets/base",
       "_model_module_version": "1.2.0",
       "_model_name": "LayoutModel",
       "_view_count": null,
       "_view_module": "@jupyter-widgets/base",
       "_view_module_version": "1.2.0",
       "_view_name": "LayoutView",
       "align_content": null,
       "align_items": null,
       "align_self": null,
       "border": null,
       "bottom": null,
       "display": null,
       "flex": null,
       "flex_flow": null,
       "grid_area": null,
       "grid_auto_columns": null,
       "grid_auto_flow": null,
       "grid_auto_rows": null,
       "grid_column": null,
       "grid_gap": null,
       "grid_row": null,
       "grid_template_areas": null,
       "grid_template_columns": null,
       "grid_template_rows": null,
       "height": null,
       "justify_content": null,
       "justify_items": null,
       "left": null,
       "margin": null,
       "max_height": null,
       "max_width": null,
       "min_height": null,
       "min_width": null,
       "object_fit": null,
       "object_position": null,
       "order": null,
       "overflow": null,
       "overflow_x": null,
       "overflow_y": null,
       "padding": null,
       "right": null,
       "top": null,
       "visibility": null,
       "width": null
      }
     },
     "b0fb41eba7264840bf003e686f59a5a4": {
      "model_module": "@jupyter-widgets/controls",
      "model_module_version": "1.5.0",
      "model_name": "HBoxModel",
      "state": {
       "_dom_classes": [],
       "_model_module": "@jupyter-widgets/controls",
       "_model_module_version": "1.5.0",
       "_model_name": "HBoxModel",
       "_view_count": null,
       "_view_module": "@jupyter-widgets/controls",
       "_view_module_version": "1.5.0",
       "_view_name": "HBoxView",
       "box_style": "",
       "children": [
        "IPY_MODEL_02859f07e02b42959e85fd9a8bb0f706",
        "IPY_MODEL_e30958ffad024308b17086a964ae798c",
        "IPY_MODEL_1addc6b8ecaa4ded93dc143f355c19d0"
       ],
       "layout": "IPY_MODEL_88bac53da2864c88a39da9add0a16966"
      }
     },
     "b29c105359a74d60a42b3679fddf1de7": {
      "model_module": "@jupyter-widgets/controls",
      "model_module_version": "1.5.0",
      "model_name": "HTMLModel",
      "state": {
       "_dom_classes": [],
       "_model_module": "@jupyter-widgets/controls",
       "_model_module_version": "1.5.0",
       "_model_name": "HTMLModel",
       "_view_count": null,
       "_view_module": "@jupyter-widgets/controls",
       "_view_module_version": "1.5.0",
       "_view_name": "HTMLView",
       "description": "",
       "description_tooltip": null,
       "layout": "IPY_MODEL_ae3516f79c394295aedb14f2f56bdc2d",
       "placeholder": "​",
       "style": "IPY_MODEL_f0e3c9c18cb8425986afcc84899a5d4f",
       "value": " 200/200 [40:44&lt;00:00, 12.20s/it]"
      }
     },
     "b3603d7bed294bb68c28be48af91cc46": {
      "model_module": "@jupyter-widgets/controls",
      "model_module_version": "1.5.0",
      "model_name": "ProgressStyleModel",
      "state": {
       "_model_module": "@jupyter-widgets/controls",
       "_model_module_version": "1.5.0",
       "_model_name": "ProgressStyleModel",
       "_view_count": null,
       "_view_module": "@jupyter-widgets/base",
       "_view_module_version": "1.2.0",
       "_view_name": "StyleView",
       "bar_color": null,
       "description_width": ""
      }
     },
     "be8dcc99dde349fd995083802a73bd6a": {
      "model_module": "@jupyter-widgets/base",
      "model_module_version": "1.2.0",
      "model_name": "LayoutModel",
      "state": {
       "_model_module": "@jupyter-widgets/base",
       "_model_module_version": "1.2.0",
       "_model_name": "LayoutModel",
       "_view_count": null,
       "_view_module": "@jupyter-widgets/base",
       "_view_module_version": "1.2.0",
       "_view_name": "LayoutView",
       "align_content": null,
       "align_items": null,
       "align_self": null,
       "border": null,
       "bottom": null,
       "display": null,
       "flex": null,
       "flex_flow": null,
       "grid_area": null,
       "grid_auto_columns": null,
       "grid_auto_flow": null,
       "grid_auto_rows": null,
       "grid_column": null,
       "grid_gap": null,
       "grid_row": null,
       "grid_template_areas": null,
       "grid_template_columns": null,
       "grid_template_rows": null,
       "height": null,
       "justify_content": null,
       "justify_items": null,
       "left": null,
       "margin": null,
       "max_height": null,
       "max_width": null,
       "min_height": null,
       "min_width": null,
       "object_fit": null,
       "object_position": null,
       "order": null,
       "overflow": null,
       "overflow_x": null,
       "overflow_y": null,
       "padding": null,
       "right": null,
       "top": null,
       "visibility": null,
       "width": null
      }
     },
     "caee0d9ab0354fce988fd7f39b2fa02c": {
      "model_module": "@jupyter-widgets/base",
      "model_module_version": "1.2.0",
      "model_name": "LayoutModel",
      "state": {
       "_model_module": "@jupyter-widgets/base",
       "_model_module_version": "1.2.0",
       "_model_name": "LayoutModel",
       "_view_count": null,
       "_view_module": "@jupyter-widgets/base",
       "_view_module_version": "1.2.0",
       "_view_name": "LayoutView",
       "align_content": null,
       "align_items": null,
       "align_self": null,
       "border": null,
       "bottom": null,
       "display": null,
       "flex": null,
       "flex_flow": null,
       "grid_area": null,
       "grid_auto_columns": null,
       "grid_auto_flow": null,
       "grid_auto_rows": null,
       "grid_column": null,
       "grid_gap": null,
       "grid_row": null,
       "grid_template_areas": null,
       "grid_template_columns": null,
       "grid_template_rows": null,
       "height": null,
       "justify_content": null,
       "justify_items": null,
       "left": null,
       "margin": null,
       "max_height": null,
       "max_width": null,
       "min_height": null,
       "min_width": null,
       "object_fit": null,
       "object_position": null,
       "order": null,
       "overflow": null,
       "overflow_x": null,
       "overflow_y": null,
       "padding": null,
       "right": null,
       "top": null,
       "visibility": null,
       "width": null
      }
     },
     "e30958ffad024308b17086a964ae798c": {
      "model_module": "@jupyter-widgets/controls",
      "model_module_version": "1.5.0",
      "model_name": "FloatProgressModel",
      "state": {
       "_dom_classes": [],
       "_model_module": "@jupyter-widgets/controls",
       "_model_module_version": "1.5.0",
       "_model_name": "FloatProgressModel",
       "_view_count": null,
       "_view_module": "@jupyter-widgets/controls",
       "_view_module_version": "1.5.0",
       "_view_name": "ProgressView",
       "bar_style": "success",
       "description": "",
       "description_tooltip": null,
       "layout": "IPY_MODEL_525e4b62a91341e1b444dde695e32579",
       "max": 200.0,
       "min": 0.0,
       "orientation": "horizontal",
       "style": "IPY_MODEL_b3603d7bed294bb68c28be48af91cc46",
       "value": 200.0
      }
     },
     "f0e3c9c18cb8425986afcc84899a5d4f": {
      "model_module": "@jupyter-widgets/controls",
      "model_module_version": "1.5.0",
      "model_name": "DescriptionStyleModel",
      "state": {
       "_model_module": "@jupyter-widgets/controls",
       "_model_module_version": "1.5.0",
       "_model_name": "DescriptionStyleModel",
       "_view_count": null,
       "_view_module": "@jupyter-widgets/base",
       "_view_module_version": "1.2.0",
       "_view_name": "StyleView",
       "description_width": ""
      }
     },
     "f6b5f7d7fbbb443b9069bb7db8b8176b": {
      "model_module": "@jupyter-widgets/base",
      "model_module_version": "1.2.0",
      "model_name": "LayoutModel",
      "state": {
       "_model_module": "@jupyter-widgets/base",
       "_model_module_version": "1.2.0",
       "_model_name": "LayoutModel",
       "_view_count": null,
       "_view_module": "@jupyter-widgets/base",
       "_view_module_version": "1.2.0",
       "_view_name": "LayoutView",
       "align_content": null,
       "align_items": null,
       "align_self": null,
       "border": null,
       "bottom": null,
       "display": null,
       "flex": null,
       "flex_flow": null,
       "grid_area": null,
       "grid_auto_columns": null,
       "grid_auto_flow": null,
       "grid_auto_rows": null,
       "grid_column": null,
       "grid_gap": null,
       "grid_row": null,
       "grid_template_areas": null,
       "grid_template_columns": null,
       "grid_template_rows": null,
       "height": null,
       "justify_content": null,
       "justify_items": null,
       "left": null,
       "margin": null,
       "max_height": null,
       "max_width": null,
       "min_height": null,
       "min_width": null,
       "object_fit": null,
       "object_position": null,
       "order": null,
       "overflow": null,
       "overflow_x": null,
       "overflow_y": null,
       "padding": null,
       "right": null,
       "top": null,
       "visibility": null,
       "width": null
      }
     },
     "fc96acb725ee49a0b9ff54b0043face9": {
      "model_module": "@jupyter-widgets/base",
      "model_module_version": "1.2.0",
      "model_name": "LayoutModel",
      "state": {
       "_model_module": "@jupyter-widgets/base",
       "_model_module_version": "1.2.0",
       "_model_name": "LayoutModel",
       "_view_count": null,
       "_view_module": "@jupyter-widgets/base",
       "_view_module_version": "1.2.0",
       "_view_name": "LayoutView",
       "align_content": null,
       "align_items": null,
       "align_self": null,
       "border": null,
       "bottom": null,
       "display": null,
       "flex": null,
       "flex_flow": null,
       "grid_area": null,
       "grid_auto_columns": null,
       "grid_auto_flow": null,
       "grid_auto_rows": null,
       "grid_column": null,
       "grid_gap": null,
       "grid_row": null,
       "grid_template_areas": null,
       "grid_template_columns": null,
       "grid_template_rows": null,
       "height": null,
       "justify_content": null,
       "justify_items": null,
       "left": null,
       "margin": null,
       "max_height": null,
       "max_width": null,
       "min_height": null,
       "min_width": null,
       "object_fit": null,
       "object_position": null,
       "order": null,
       "overflow": null,
       "overflow_x": null,
       "overflow_y": null,
       "padding": null,
       "right": null,
       "top": null,
       "visibility": null,
       "width": null
      }
     }
    },
    "version_major": 2,
    "version_minor": 0
   }
  }
 },
 "nbformat": 4,
 "nbformat_minor": 5
}
